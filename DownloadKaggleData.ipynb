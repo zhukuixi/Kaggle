{
  "nbformat": 4,
  "nbformat_minor": 0,
  "metadata": {
    "colab": {
      "name": "DownloadKaggleData.ipynb",
      "provenance": [],
      "collapsed_sections": [],
      "authorship_tag": "ABX9TyMVxTZR4qjtloWTBgQ8TRXQ",
      "include_colab_link": true
    },
    "kernelspec": {
      "name": "python3",
      "display_name": "Python 3"
    },
    "language_info": {
      "name": "python"
    }
  },
  "cells": [
    {
      "cell_type": "markdown",
      "metadata": {
        "id": "view-in-github",
        "colab_type": "text"
      },
      "source": [
        "<a href=\"https://colab.research.google.com/github/zhukuixi/Kaggle/blob/main/DownloadKaggleData.ipynb\" target=\"_parent\"><img src=\"https://colab.research.google.com/assets/colab-badge.svg\" alt=\"Open In Colab\"/></a>"
      ]
    },
    {
      "cell_type": "code",
      "metadata": {
        "id": "K5x1sm6WOVzi"
      },
      "source": [
        "import json\n",
        "token = {\"username\":\"kuixizhu\",\"key\":\"abcfcb16dcdc4c5edd854bbb966fd176\"}\n",
        "with open('/content/kaggle.json', 'w') as file:\n",
        "  json.dump(token, file)\n",
        "  "
      ],
      "execution_count": 2,
      "outputs": []
    },
    {
      "cell_type": "code",
      "metadata": {
        "colab": {
          "base_uri": "https://localhost:8080/"
        },
        "id": "524iPbM-spNL",
        "outputId": "1f8c78ce-01df-49b7-9adf-b7c6efdf2b49"
      },
      "source": [
        "!pip install --upgrade --force-reinstall --no-deps kaggle"
      ],
      "execution_count": 1,
      "outputs": [
        {
          "output_type": "stream",
          "text": [
            "Collecting kaggle\n",
            "\u001b[?25l  Downloading https://files.pythonhosted.org/packages/3a/e7/3bac01547d2ed3d308ac92a0878fbdb0ed0f3d41fb1906c319ccbba1bfbc/kaggle-1.5.12.tar.gz (58kB)\n",
            "\r\u001b[K     |█████▋                          | 10kB 15.1MB/s eta 0:00:01\r\u001b[K     |███████████▏                    | 20kB 19.9MB/s eta 0:00:01\r\u001b[K     |████████████████▊               | 30kB 10.0MB/s eta 0:00:01\r\u001b[K     |██████████████████████▎         | 40kB 8.0MB/s eta 0:00:01\r\u001b[K     |███████████████████████████▉    | 51kB 5.5MB/s eta 0:00:01\r\u001b[K     |████████████████████████████████| 61kB 3.3MB/s \n",
            "\u001b[?25hBuilding wheels for collected packages: kaggle\n",
            "  Building wheel for kaggle (setup.py) ... \u001b[?25l\u001b[?25hdone\n",
            "  Created wheel for kaggle: filename=kaggle-1.5.12-cp37-none-any.whl size=73053 sha256=29ad701d79a64463eacf184945a863a32e7b50745d1928b30e05376dde769b5a\n",
            "  Stored in directory: /root/.cache/pip/wheels/a1/6a/26/d30b7499ff85a4a4593377a87ecf55f7d08af42f0de9b60303\n",
            "Successfully built kaggle\n",
            "Installing collected packages: kaggle\n",
            "  Found existing installation: kaggle 1.5.12\n",
            "    Uninstalling kaggle-1.5.12:\n",
            "      Successfully uninstalled kaggle-1.5.12\n",
            "Successfully installed kaggle-1.5.12\n"
          ],
          "name": "stdout"
        }
      ]
    },
    {
      "cell_type": "code",
      "metadata": {
        "id": "5miI805DXJvU",
        "colab": {
          "base_uri": "https://localhost:8080/"
        },
        "outputId": "45786e98-f63e-42a7-dbfc-75f934a5a2ca"
      },
      "source": [
        "!mkdir -p ~/.kaggle\n",
        "!cp /content/kaggle.json ~/.kaggle/\n",
        "!chmod 600 ~/.kaggle/kaggle.json\n",
        "\n",
        "# Assign path\n",
        "!kaggle config set -n path -v /content\n",
        "# Download data\n",
        "!kaggle competitions download -c seti-breakthrough-listen"
      ],
      "execution_count": null,
      "outputs": [
        {
          "output_type": "stream",
          "text": [
            "- path is now set to: /content\n",
            "Downloading seti-breakthrough-listen.zip to /content/competitions/seti-breakthrough-listen\n",
            " 39% 23.5G/60.3G [03:30<05:59, 110MB/s] "
          ],
          "name": "stdout"
        }
      ]
    }
  ]
}