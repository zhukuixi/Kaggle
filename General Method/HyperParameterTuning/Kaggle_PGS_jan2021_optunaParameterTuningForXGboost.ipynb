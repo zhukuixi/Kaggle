{
  "nbformat": 4,
  "nbformat_minor": 0,
  "metadata": {
    "colab": {
      "provenance": [],
      "authorship_tag": "ABX9TyMlKFMzEanPMoFkypaI3c2B",
      "include_colab_link": true
    },
    "kernelspec": {
      "name": "python3",
      "display_name": "Python 3"
    },
    "language_info": {
      "name": "python"
    },
    "accelerator": "GPU",
    "gpuClass": "standard"
  },
  "cells": [
    {
      "cell_type": "markdown",
      "metadata": {
        "id": "view-in-github",
        "colab_type": "text"
      },
      "source": [
        "<a href=\"https://colab.research.google.com/github/zhukuixi/Kaggle/blob/main/Kaggle_PGS_jan2021_optunaParameterTuningForXGboost.ipynb\" target=\"_parent\"><img src=\"https://colab.research.google.com/assets/colab-badge.svg\" alt=\"Open In Colab\"/></a>"
      ]
    },
    {
      "cell_type": "markdown",
      "source": [
        "#Download data of \"tabular-playground-series-jan-2021\" from Kaggle\n",
        "\n",
        "This is a regression competition with small amount of features:  \n",
        "\n",
        "The training set is (300000,14)  \n",
        "The test set is (200000,14)    \n",
        "The cost function is RMSE."
      ],
      "metadata": {
        "id": "erGcVlklUQ92"
      }
    },
    {
      "cell_type": "code",
      "execution_count": 2,
      "metadata": {
        "colab": {
          "base_uri": "https://localhost:8080/"
        },
        "id": "NkevuZNRUPsX",
        "outputId": "b11a26a7-f3cc-44ac-e553-6bfea3704b75"
      },
      "outputs": [
        {
          "output_type": "stream",
          "name": "stdout",
          "text": [
            "- path is now set to: /content\n",
            "Downloading tabular-playground-series-jan-2021.zip to /content/competitions/tabular-playground-series-jan-2021\n",
            "100% 62.8M/62.8M [00:03<00:00, 23.2MB/s]\n",
            "100% 62.8M/62.8M [00:03<00:00, 16.6MB/s]\n",
            "Archive:  /content/competitions/tabular-playground-series-jan-2021/tabular-playground-series-jan-2021.zip\n",
            "  inflating: /content/competitions/tabular-playground-series-jan-2021/sample_submission.csv  \n",
            "  inflating: /content/competitions/tabular-playground-series-jan-2021/test.csv  \n",
            "  inflating: /content/competitions/tabular-playground-series-jan-2021/train.csv  \n"
          ]
        }
      ],
      "source": [
        "import json\n",
        "token = {\"username\":\"kuixizhu\",\"key\":\"2c3bcc7cb22446cf0dc296bd69fe3dc6\"}\n",
        "with open('/content/kaggle.json', 'w') as file:\n",
        "  json.dump(token, file)\n",
        "  \n",
        "\n",
        "!mkdir -p ~/.kaggle\n",
        "!cp /content/kaggle.json ~/.kaggle/\n",
        "!chmod 600 ~/.kaggle/kaggle.json\n",
        "\n",
        "# Assign path\n",
        "!kaggle config set -n path -v /content\n",
        "# Download data\n",
        "!kaggle competitions download -c tabular-playground-series-jan-2021\n",
        "# unzip data\n",
        "!unzip /content/competitions/tabular-playground-series-jan-2021/tabular-playground-series-jan-2021.zip -d /content/competitions/tabular-playground-series-jan-2021/\n",
        "# remove zip file\n",
        "!rm /content/competitions/tabular-playground-series-jan-2021/tabular-playground-series-jan-2021.zip"
      ]
    },
    {
      "cell_type": "code",
      "source": [
        "!pip install optuna\n",
        "!pip install catboost"
      ],
      "metadata": {
        "id": "wd06LWOeUZUf"
      },
      "execution_count": null,
      "outputs": []
    },
    {
      "cell_type": "markdown",
      "source": [
        "# Load in the ml package and data\n"
      ],
      "metadata": {
        "id": "KuHQ1yW3VRVL"
      }
    },
    {
      "cell_type": "code",
      "source": [
        "# load in basic package\n",
        "import os\n",
        "import numpy as np\n",
        "import pandas as pd\n",
        "\n",
        "# load in ML package\n",
        "import optuna\n",
        "import xgboost as xgb\n",
        "from catboost import CatBoostRegressor\n",
        "from sklearn.model_selection import KFold\n",
        "from sklearn.metrics import mean_squared_error\n",
        "from sklearn.model_selection import train_test_split\n",
        "\n",
        "projectFolder = '/content/competitions/tabular-playground-series-jan-2021'\n",
        "\n",
        "train = pd.read_csv(os.path.join(projectFolder,'train.csv'))\n",
        "test  = pd.read_csv(os.path.join(projectFolder,'test.csv'))\n",
        "sub = pd.read_csv(os.path.join(projectFolder,'sample_submission.csv'))"
      ],
      "metadata": {
        "id": "n3XDp6eQVT-y"
      },
      "execution_count": 4,
      "outputs": []
    },
    {
      "cell_type": "code",
      "source": [
        "print(train.shape)\n",
        "train.head()\n"
      ],
      "metadata": {
        "colab": {
          "base_uri": "https://localhost:8080/",
          "height": 288
        },
        "id": "IhF5neQEWq0g",
        "outputId": "f1167c72-ea7a-4ef9-bcfc-56b52e9317fd"
      },
      "execution_count": 5,
      "outputs": [
        {
          "output_type": "stream",
          "name": "stdout",
          "text": [
            "(300000, 16)\n"
          ]
        },
        {
          "output_type": "execute_result",
          "data": {
            "text/plain": [
              "   id     cont1     cont2     cont3     cont4     cont5     cont6     cont7  \\\n",
              "0   1  0.670390  0.811300  0.643968  0.291791  0.284117  0.855953  0.890700   \n",
              "1   3  0.388053  0.621104  0.686102  0.501149  0.643790  0.449805  0.510824   \n",
              "2   4  0.834950  0.227436  0.301584  0.293408  0.606839  0.829175  0.506143   \n",
              "3   5  0.820708  0.160155  0.546887  0.726104  0.282444  0.785108  0.752758   \n",
              "4   8  0.935278  0.421235  0.303801  0.880214  0.665610  0.830131  0.487113   \n",
              "\n",
              "      cont8     cont9    cont10    cont11    cont12    cont13    cont14  \\\n",
              "0  0.285542  0.558245  0.779418  0.921832  0.866772  0.878733  0.305411   \n",
              "1  0.580748  0.418335  0.432632  0.439872  0.434971  0.369957  0.369484   \n",
              "2  0.558771  0.587603  0.823312  0.567007  0.677708  0.882938  0.303047   \n",
              "3  0.823267  0.574466  0.580843  0.769594  0.818143  0.914281  0.279528   \n",
              "4  0.604157  0.874658  0.863427  0.983575  0.900464  0.935918  0.435772   \n",
              "\n",
              "     target  \n",
              "0  7.243043  \n",
              "1  8.203331  \n",
              "2  7.776091  \n",
              "3  6.957716  \n",
              "4  7.951046  "
            ],
            "text/html": [
              "\n",
              "  <div id=\"df-e2e19f19-3478-42d6-be24-6b22873f3e12\">\n",
              "    <div class=\"colab-df-container\">\n",
              "      <div>\n",
              "<style scoped>\n",
              "    .dataframe tbody tr th:only-of-type {\n",
              "        vertical-align: middle;\n",
              "    }\n",
              "\n",
              "    .dataframe tbody tr th {\n",
              "        vertical-align: top;\n",
              "    }\n",
              "\n",
              "    .dataframe thead th {\n",
              "        text-align: right;\n",
              "    }\n",
              "</style>\n",
              "<table border=\"1\" class=\"dataframe\">\n",
              "  <thead>\n",
              "    <tr style=\"text-align: right;\">\n",
              "      <th></th>\n",
              "      <th>id</th>\n",
              "      <th>cont1</th>\n",
              "      <th>cont2</th>\n",
              "      <th>cont3</th>\n",
              "      <th>cont4</th>\n",
              "      <th>cont5</th>\n",
              "      <th>cont6</th>\n",
              "      <th>cont7</th>\n",
              "      <th>cont8</th>\n",
              "      <th>cont9</th>\n",
              "      <th>cont10</th>\n",
              "      <th>cont11</th>\n",
              "      <th>cont12</th>\n",
              "      <th>cont13</th>\n",
              "      <th>cont14</th>\n",
              "      <th>target</th>\n",
              "    </tr>\n",
              "  </thead>\n",
              "  <tbody>\n",
              "    <tr>\n",
              "      <th>0</th>\n",
              "      <td>1</td>\n",
              "      <td>0.670390</td>\n",
              "      <td>0.811300</td>\n",
              "      <td>0.643968</td>\n",
              "      <td>0.291791</td>\n",
              "      <td>0.284117</td>\n",
              "      <td>0.855953</td>\n",
              "      <td>0.890700</td>\n",
              "      <td>0.285542</td>\n",
              "      <td>0.558245</td>\n",
              "      <td>0.779418</td>\n",
              "      <td>0.921832</td>\n",
              "      <td>0.866772</td>\n",
              "      <td>0.878733</td>\n",
              "      <td>0.305411</td>\n",
              "      <td>7.243043</td>\n",
              "    </tr>\n",
              "    <tr>\n",
              "      <th>1</th>\n",
              "      <td>3</td>\n",
              "      <td>0.388053</td>\n",
              "      <td>0.621104</td>\n",
              "      <td>0.686102</td>\n",
              "      <td>0.501149</td>\n",
              "      <td>0.643790</td>\n",
              "      <td>0.449805</td>\n",
              "      <td>0.510824</td>\n",
              "      <td>0.580748</td>\n",
              "      <td>0.418335</td>\n",
              "      <td>0.432632</td>\n",
              "      <td>0.439872</td>\n",
              "      <td>0.434971</td>\n",
              "      <td>0.369957</td>\n",
              "      <td>0.369484</td>\n",
              "      <td>8.203331</td>\n",
              "    </tr>\n",
              "    <tr>\n",
              "      <th>2</th>\n",
              "      <td>4</td>\n",
              "      <td>0.834950</td>\n",
              "      <td>0.227436</td>\n",
              "      <td>0.301584</td>\n",
              "      <td>0.293408</td>\n",
              "      <td>0.606839</td>\n",
              "      <td>0.829175</td>\n",
              "      <td>0.506143</td>\n",
              "      <td>0.558771</td>\n",
              "      <td>0.587603</td>\n",
              "      <td>0.823312</td>\n",
              "      <td>0.567007</td>\n",
              "      <td>0.677708</td>\n",
              "      <td>0.882938</td>\n",
              "      <td>0.303047</td>\n",
              "      <td>7.776091</td>\n",
              "    </tr>\n",
              "    <tr>\n",
              "      <th>3</th>\n",
              "      <td>5</td>\n",
              "      <td>0.820708</td>\n",
              "      <td>0.160155</td>\n",
              "      <td>0.546887</td>\n",
              "      <td>0.726104</td>\n",
              "      <td>0.282444</td>\n",
              "      <td>0.785108</td>\n",
              "      <td>0.752758</td>\n",
              "      <td>0.823267</td>\n",
              "      <td>0.574466</td>\n",
              "      <td>0.580843</td>\n",
              "      <td>0.769594</td>\n",
              "      <td>0.818143</td>\n",
              "      <td>0.914281</td>\n",
              "      <td>0.279528</td>\n",
              "      <td>6.957716</td>\n",
              "    </tr>\n",
              "    <tr>\n",
              "      <th>4</th>\n",
              "      <td>8</td>\n",
              "      <td>0.935278</td>\n",
              "      <td>0.421235</td>\n",
              "      <td>0.303801</td>\n",
              "      <td>0.880214</td>\n",
              "      <td>0.665610</td>\n",
              "      <td>0.830131</td>\n",
              "      <td>0.487113</td>\n",
              "      <td>0.604157</td>\n",
              "      <td>0.874658</td>\n",
              "      <td>0.863427</td>\n",
              "      <td>0.983575</td>\n",
              "      <td>0.900464</td>\n",
              "      <td>0.935918</td>\n",
              "      <td>0.435772</td>\n",
              "      <td>7.951046</td>\n",
              "    </tr>\n",
              "  </tbody>\n",
              "</table>\n",
              "</div>\n",
              "      <button class=\"colab-df-convert\" onclick=\"convertToInteractive('df-e2e19f19-3478-42d6-be24-6b22873f3e12')\"\n",
              "              title=\"Convert this dataframe to an interactive table.\"\n",
              "              style=\"display:none;\">\n",
              "        \n",
              "  <svg xmlns=\"http://www.w3.org/2000/svg\" height=\"24px\"viewBox=\"0 0 24 24\"\n",
              "       width=\"24px\">\n",
              "    <path d=\"M0 0h24v24H0V0z\" fill=\"none\"/>\n",
              "    <path d=\"M18.56 5.44l.94 2.06.94-2.06 2.06-.94-2.06-.94-.94-2.06-.94 2.06-2.06.94zm-11 1L8.5 8.5l.94-2.06 2.06-.94-2.06-.94L8.5 2.5l-.94 2.06-2.06.94zm10 10l.94 2.06.94-2.06 2.06-.94-2.06-.94-.94-2.06-.94 2.06-2.06.94z\"/><path d=\"M17.41 7.96l-1.37-1.37c-.4-.4-.92-.59-1.43-.59-.52 0-1.04.2-1.43.59L10.3 9.45l-7.72 7.72c-.78.78-.78 2.05 0 2.83L4 21.41c.39.39.9.59 1.41.59.51 0 1.02-.2 1.41-.59l7.78-7.78 2.81-2.81c.8-.78.8-2.07 0-2.86zM5.41 20L4 18.59l7.72-7.72 1.47 1.35L5.41 20z\"/>\n",
              "  </svg>\n",
              "      </button>\n",
              "      \n",
              "  <style>\n",
              "    .colab-df-container {\n",
              "      display:flex;\n",
              "      flex-wrap:wrap;\n",
              "      gap: 12px;\n",
              "    }\n",
              "\n",
              "    .colab-df-convert {\n",
              "      background-color: #E8F0FE;\n",
              "      border: none;\n",
              "      border-radius: 50%;\n",
              "      cursor: pointer;\n",
              "      display: none;\n",
              "      fill: #1967D2;\n",
              "      height: 32px;\n",
              "      padding: 0 0 0 0;\n",
              "      width: 32px;\n",
              "    }\n",
              "\n",
              "    .colab-df-convert:hover {\n",
              "      background-color: #E2EBFA;\n",
              "      box-shadow: 0px 1px 2px rgba(60, 64, 67, 0.3), 0px 1px 3px 1px rgba(60, 64, 67, 0.15);\n",
              "      fill: #174EA6;\n",
              "    }\n",
              "\n",
              "    [theme=dark] .colab-df-convert {\n",
              "      background-color: #3B4455;\n",
              "      fill: #D2E3FC;\n",
              "    }\n",
              "\n",
              "    [theme=dark] .colab-df-convert:hover {\n",
              "      background-color: #434B5C;\n",
              "      box-shadow: 0px 1px 3px 1px rgba(0, 0, 0, 0.15);\n",
              "      filter: drop-shadow(0px 1px 2px rgba(0, 0, 0, 0.3));\n",
              "      fill: #FFFFFF;\n",
              "    }\n",
              "  </style>\n",
              "\n",
              "      <script>\n",
              "        const buttonEl =\n",
              "          document.querySelector('#df-e2e19f19-3478-42d6-be24-6b22873f3e12 button.colab-df-convert');\n",
              "        buttonEl.style.display =\n",
              "          google.colab.kernel.accessAllowed ? 'block' : 'none';\n",
              "\n",
              "        async function convertToInteractive(key) {\n",
              "          const element = document.querySelector('#df-e2e19f19-3478-42d6-be24-6b22873f3e12');\n",
              "          const dataTable =\n",
              "            await google.colab.kernel.invokeFunction('convertToInteractive',\n",
              "                                                     [key], {});\n",
              "          if (!dataTable) return;\n",
              "\n",
              "          const docLinkHtml = 'Like what you see? Visit the ' +\n",
              "            '<a target=\"_blank\" href=https://colab.research.google.com/notebooks/data_table.ipynb>data table notebook</a>'\n",
              "            + ' to learn more about interactive tables.';\n",
              "          element.innerHTML = '';\n",
              "          dataTable['output_type'] = 'display_data';\n",
              "          await google.colab.output.renderOutput(dataTable, element);\n",
              "          const docLink = document.createElement('div');\n",
              "          docLink.innerHTML = docLinkHtml;\n",
              "          element.appendChild(docLink);\n",
              "        }\n",
              "      </script>\n",
              "    </div>\n",
              "  </div>\n",
              "  "
            ]
          },
          "metadata": {},
          "execution_count": 5
        }
      ]
    },
    {
      "cell_type": "code",
      "source": [
        "featureNames = [col for col in train.columns.to_list() if col not in ['id','target']]\n",
        "X_train= train[featureNames]\n",
        "Y_train= train['target']"
      ],
      "metadata": {
        "id": "UnE6WTr4VxS4"
      },
      "execution_count": 6,
      "outputs": []
    },
    {
      "cell_type": "markdown",
      "source": [
        "# Build the optimization function using optuna "
      ],
      "metadata": {
        "id": "V9JRbCrAXvPH"
      }
    },
    {
      "cell_type": "code",
      "source": [
        "# trial : the number of executions it will take\n",
        "def objective(trial,data=X_train,target=Y_train):\n",
        "    \n",
        "    train_x, test_x, train_y, test_y = train_test_split(data, target, test_size=0.15,random_state=42)\n",
        "    param = {\n",
        "        'tree_method':'gpu_hist',  # this parameter means using the GPU when training our model to speedup the training process\n",
        "        'lambda': trial.suggest_loguniform('lambda', 1e-3, 10.0),\n",
        "        'alpha': trial.suggest_loguniform('alpha', 1e-3, 10.0),\n",
        "        'colsample_bytree': trial.suggest_categorical('colsample_bytree', [0.3,0.4,0.5,0.6,0.7,0.8,0.9,1.0]),\n",
        "        'subsample': trial.suggest_categorical('subsample', [0.4,0.5,0.6,0.7,0.8,1.0]),\n",
        "        'learning_rate': trial.suggest_categorical('learning_rate', [0.008,0.01,0.012,0.014,0.016,0.018, 0.02]),\n",
        "        'n_estimators': 10000,\n",
        "        'max_depth': trial.suggest_categorical('max_depth', [5,7,9,11,13,15,17]),\n",
        "        'random_state': trial.suggest_categorical('random_state', [2020]),\n",
        "        'min_child_weight': trial.suggest_int('min_child_weight', 1, 300),\n",
        "    }\n",
        "    model = xgb.XGBRegressor(**param)  \n",
        "    \n",
        "    model.fit(train_x,train_y,eval_set=[(test_x,test_y)],early_stopping_rounds=100,verbose=False)\n",
        "    \n",
        "    preds = model.predict(test_x)\n",
        "    \n",
        "    rmse = mean_squared_error(test_y, preds,squared=False)\n",
        "    \n",
        "    return rmse"
      ],
      "metadata": {
        "id": "gZsuqe2bXxLt"
      },
      "execution_count": 7,
      "outputs": []
    },
    {
      "cell_type": "markdown",
      "source": [],
      "metadata": {
        "id": "A71Z9Tm8ZL54"
      }
    },
    {
      "cell_type": "code",
      "source": [
        "study = optuna.create_study(direction='minimize')\n",
        "study.optimize(objective, n_trials=30)\n",
        "print('Number of finished trials:', len(study.trials))\n",
        "print('Best trial:', study.best_trial.params)"
      ],
      "metadata": {
        "id": "KB9RDuuQZLZU"
      },
      "execution_count": null,
      "outputs": []
    },
    {
      "cell_type": "markdown",
      "source": [
        "# Show the Optimization Result and Visualization from different perspective"
      ],
      "metadata": {
        "id": "MftfEg4Hbqe6"
      }
    },
    {
      "cell_type": "code",
      "source": [
        "study.trials_dataframe()"
      ],
      "metadata": {
        "id": "GtV1WCMgZZDd"
      },
      "execution_count": null,
      "outputs": []
    },
    {
      "cell_type": "code",
      "source": [
        "#plot_optimization_histor: shows the scores from all trials as well as the best score so far at each point.\n",
        "optuna.visualization.plot_optimization_history(study)"
      ],
      "metadata": {
        "colab": {
          "base_uri": "https://localhost:8080/",
          "height": 542
        },
        "id": "JNIy98FxbfHa",
        "outputId": "c6aab3ad-acb5-4e56-8876-3a10314451bf"
      },
      "execution_count": 10,
      "outputs": [
        {
          "output_type": "display_data",
          "data": {
            "text/html": [
              "<html>\n",
              "<head><meta charset=\"utf-8\" /></head>\n",
              "<body>\n",
              "    <div>            <script src=\"https://cdnjs.cloudflare.com/ajax/libs/mathjax/2.7.5/MathJax.js?config=TeX-AMS-MML_SVG\"></script><script type=\"text/javascript\">if (window.MathJax && window.MathJax.Hub && window.MathJax.Hub.Config) {window.MathJax.Hub.Config({SVG: {font: \"STIX-Web\"}});}</script>                <script type=\"text/javascript\">window.PlotlyConfig = {MathJaxConfig: 'local'};</script>\n",
              "        <script src=\"https://cdn.plot.ly/plotly-2.18.2.min.js\"></script>                <div id=\"9f05537d-4127-4bbf-8394-dcbd4b0353c6\" class=\"plotly-graph-div\" style=\"height:525px; width:100%;\"></div>            <script type=\"text/javascript\">                                    window.PLOTLYENV=window.PLOTLYENV || {};                                    if (document.getElementById(\"9f05537d-4127-4bbf-8394-dcbd4b0353c6\")) {                    Plotly.newPlot(                        \"9f05537d-4127-4bbf-8394-dcbd4b0353c6\",                        [{\"mode\":\"markers\",\"name\":\"Objective Value\",\"x\":[0,1,2,3,4,5,6,7,8,9,10,11,12,13,14,15,16,17,18,19,20,21,22,23,24,25,26,27,28,29],\"y\":[0.6944846155196019,0.6938416189571952,0.6951752754286008,0.6944885487054301,0.6946582978052217,0.693914913255373,0.6940379277071517,0.6939115270444567,0.6935888816225663,0.6943462440470015,0.6936954919886753,0.6937444616806925,0.6936467347782026,0.6948742267072898,0.6938217733107468,0.694043589635735,0.6941006852008358,0.693591187113198,0.6959200834346936,0.6938360625356248,0.6943089838332092,0.6951618359997397,0.6936126422062017,0.6937474180318042,0.6935714818201523,0.6945154768722406,0.6935542829390565,0.6936223036247584,0.6941073090315518,0.6952398827643609],\"type\":\"scatter\"},{\"name\":\"Best Value\",\"x\":[0,1,2,3,4,5,6,7,8,9,10,11,12,13,14,15,16,17,18,19,20,21,22,23,24,25,26,27,28,29],\"y\":[0.6944846155196019,0.6938416189571952,0.6938416189571952,0.6938416189571952,0.6938416189571952,0.6938416189571952,0.6938416189571952,0.6938416189571952,0.6935888816225663,0.6935888816225663,0.6935888816225663,0.6935888816225663,0.6935888816225663,0.6935888816225663,0.6935888816225663,0.6935888816225663,0.6935888816225663,0.6935888816225663,0.6935888816225663,0.6935888816225663,0.6935888816225663,0.6935888816225663,0.6935888816225663,0.6935888816225663,0.6935714818201523,0.6935714818201523,0.6935542829390565,0.6935542829390565,0.6935542829390565,0.6935542829390565],\"type\":\"scatter\"}],                        {\"title\":{\"text\":\"Optimization History Plot\"},\"xaxis\":{\"title\":{\"text\":\"Trial\"}},\"yaxis\":{\"title\":{\"text\":\"Objective Value\"}},\"template\":{\"data\":{\"histogram2dcontour\":[{\"type\":\"histogram2dcontour\",\"colorbar\":{\"outlinewidth\":0,\"ticks\":\"\"},\"colorscale\":[[0.0,\"#0d0887\"],[0.1111111111111111,\"#46039f\"],[0.2222222222222222,\"#7201a8\"],[0.3333333333333333,\"#9c179e\"],[0.4444444444444444,\"#bd3786\"],[0.5555555555555556,\"#d8576b\"],[0.6666666666666666,\"#ed7953\"],[0.7777777777777778,\"#fb9f3a\"],[0.8888888888888888,\"#fdca26\"],[1.0,\"#f0f921\"]]}],\"choropleth\":[{\"type\":\"choropleth\",\"colorbar\":{\"outlinewidth\":0,\"ticks\":\"\"}}],\"histogram2d\":[{\"type\":\"histogram2d\",\"colorbar\":{\"outlinewidth\":0,\"ticks\":\"\"},\"colorscale\":[[0.0,\"#0d0887\"],[0.1111111111111111,\"#46039f\"],[0.2222222222222222,\"#7201a8\"],[0.3333333333333333,\"#9c179e\"],[0.4444444444444444,\"#bd3786\"],[0.5555555555555556,\"#d8576b\"],[0.6666666666666666,\"#ed7953\"],[0.7777777777777778,\"#fb9f3a\"],[0.8888888888888888,\"#fdca26\"],[1.0,\"#f0f921\"]]}],\"heatmap\":[{\"type\":\"heatmap\",\"colorbar\":{\"outlinewidth\":0,\"ticks\":\"\"},\"colorscale\":[[0.0,\"#0d0887\"],[0.1111111111111111,\"#46039f\"],[0.2222222222222222,\"#7201a8\"],[0.3333333333333333,\"#9c179e\"],[0.4444444444444444,\"#bd3786\"],[0.5555555555555556,\"#d8576b\"],[0.6666666666666666,\"#ed7953\"],[0.7777777777777778,\"#fb9f3a\"],[0.8888888888888888,\"#fdca26\"],[1.0,\"#f0f921\"]]}],\"heatmapgl\":[{\"type\":\"heatmapgl\",\"colorbar\":{\"outlinewidth\":0,\"ticks\":\"\"},\"colorscale\":[[0.0,\"#0d0887\"],[0.1111111111111111,\"#46039f\"],[0.2222222222222222,\"#7201a8\"],[0.3333333333333333,\"#9c179e\"],[0.4444444444444444,\"#bd3786\"],[0.5555555555555556,\"#d8576b\"],[0.6666666666666666,\"#ed7953\"],[0.7777777777777778,\"#fb9f3a\"],[0.8888888888888888,\"#fdca26\"],[1.0,\"#f0f921\"]]}],\"contourcarpet\":[{\"type\":\"contourcarpet\",\"colorbar\":{\"outlinewidth\":0,\"ticks\":\"\"}}],\"contour\":[{\"type\":\"contour\",\"colorbar\":{\"outlinewidth\":0,\"ticks\":\"\"},\"colorscale\":[[0.0,\"#0d0887\"],[0.1111111111111111,\"#46039f\"],[0.2222222222222222,\"#7201a8\"],[0.3333333333333333,\"#9c179e\"],[0.4444444444444444,\"#bd3786\"],[0.5555555555555556,\"#d8576b\"],[0.6666666666666666,\"#ed7953\"],[0.7777777777777778,\"#fb9f3a\"],[0.8888888888888888,\"#fdca26\"],[1.0,\"#f0f921\"]]}],\"surface\":[{\"type\":\"surface\",\"colorbar\":{\"outlinewidth\":0,\"ticks\":\"\"},\"colorscale\":[[0.0,\"#0d0887\"],[0.1111111111111111,\"#46039f\"],[0.2222222222222222,\"#7201a8\"],[0.3333333333333333,\"#9c179e\"],[0.4444444444444444,\"#bd3786\"],[0.5555555555555556,\"#d8576b\"],[0.6666666666666666,\"#ed7953\"],[0.7777777777777778,\"#fb9f3a\"],[0.8888888888888888,\"#fdca26\"],[1.0,\"#f0f921\"]]}],\"mesh3d\":[{\"type\":\"mesh3d\",\"colorbar\":{\"outlinewidth\":0,\"ticks\":\"\"}}],\"scatter\":[{\"fillpattern\":{\"fillmode\":\"overlay\",\"size\":10,\"solidity\":0.2},\"type\":\"scatter\"}],\"parcoords\":[{\"type\":\"parcoords\",\"line\":{\"colorbar\":{\"outlinewidth\":0,\"ticks\":\"\"}}}],\"scatterpolargl\":[{\"type\":\"scatterpolargl\",\"marker\":{\"colorbar\":{\"outlinewidth\":0,\"ticks\":\"\"}}}],\"bar\":[{\"error_x\":{\"color\":\"#2a3f5f\"},\"error_y\":{\"color\":\"#2a3f5f\"},\"marker\":{\"line\":{\"color\":\"#E5ECF6\",\"width\":0.5},\"pattern\":{\"fillmode\":\"overlay\",\"size\":10,\"solidity\":0.2}},\"type\":\"bar\"}],\"scattergeo\":[{\"type\":\"scattergeo\",\"marker\":{\"colorbar\":{\"outlinewidth\":0,\"ticks\":\"\"}}}],\"scatterpolar\":[{\"type\":\"scatterpolar\",\"marker\":{\"colorbar\":{\"outlinewidth\":0,\"ticks\":\"\"}}}],\"histogram\":[{\"marker\":{\"pattern\":{\"fillmode\":\"overlay\",\"size\":10,\"solidity\":0.2}},\"type\":\"histogram\"}],\"scattergl\":[{\"type\":\"scattergl\",\"marker\":{\"colorbar\":{\"outlinewidth\":0,\"ticks\":\"\"}}}],\"scatter3d\":[{\"type\":\"scatter3d\",\"line\":{\"colorbar\":{\"outlinewidth\":0,\"ticks\":\"\"}},\"marker\":{\"colorbar\":{\"outlinewidth\":0,\"ticks\":\"\"}}}],\"scattermapbox\":[{\"type\":\"scattermapbox\",\"marker\":{\"colorbar\":{\"outlinewidth\":0,\"ticks\":\"\"}}}],\"scatterternary\":[{\"type\":\"scatterternary\",\"marker\":{\"colorbar\":{\"outlinewidth\":0,\"ticks\":\"\"}}}],\"scattercarpet\":[{\"type\":\"scattercarpet\",\"marker\":{\"colorbar\":{\"outlinewidth\":0,\"ticks\":\"\"}}}],\"carpet\":[{\"aaxis\":{\"endlinecolor\":\"#2a3f5f\",\"gridcolor\":\"white\",\"linecolor\":\"white\",\"minorgridcolor\":\"white\",\"startlinecolor\":\"#2a3f5f\"},\"baxis\":{\"endlinecolor\":\"#2a3f5f\",\"gridcolor\":\"white\",\"linecolor\":\"white\",\"minorgridcolor\":\"white\",\"startlinecolor\":\"#2a3f5f\"},\"type\":\"carpet\"}],\"table\":[{\"cells\":{\"fill\":{\"color\":\"#EBF0F8\"},\"line\":{\"color\":\"white\"}},\"header\":{\"fill\":{\"color\":\"#C8D4E3\"},\"line\":{\"color\":\"white\"}},\"type\":\"table\"}],\"barpolar\":[{\"marker\":{\"line\":{\"color\":\"#E5ECF6\",\"width\":0.5},\"pattern\":{\"fillmode\":\"overlay\",\"size\":10,\"solidity\":0.2}},\"type\":\"barpolar\"}],\"pie\":[{\"automargin\":true,\"type\":\"pie\"}]},\"layout\":{\"autotypenumbers\":\"strict\",\"colorway\":[\"#636efa\",\"#EF553B\",\"#00cc96\",\"#ab63fa\",\"#FFA15A\",\"#19d3f3\",\"#FF6692\",\"#B6E880\",\"#FF97FF\",\"#FECB52\"],\"font\":{\"color\":\"#2a3f5f\"},\"hovermode\":\"closest\",\"hoverlabel\":{\"align\":\"left\"},\"paper_bgcolor\":\"white\",\"plot_bgcolor\":\"#E5ECF6\",\"polar\":{\"bgcolor\":\"#E5ECF6\",\"angularaxis\":{\"gridcolor\":\"white\",\"linecolor\":\"white\",\"ticks\":\"\"},\"radialaxis\":{\"gridcolor\":\"white\",\"linecolor\":\"white\",\"ticks\":\"\"}},\"ternary\":{\"bgcolor\":\"#E5ECF6\",\"aaxis\":{\"gridcolor\":\"white\",\"linecolor\":\"white\",\"ticks\":\"\"},\"baxis\":{\"gridcolor\":\"white\",\"linecolor\":\"white\",\"ticks\":\"\"},\"caxis\":{\"gridcolor\":\"white\",\"linecolor\":\"white\",\"ticks\":\"\"}},\"coloraxis\":{\"colorbar\":{\"outlinewidth\":0,\"ticks\":\"\"}},\"colorscale\":{\"sequential\":[[0.0,\"#0d0887\"],[0.1111111111111111,\"#46039f\"],[0.2222222222222222,\"#7201a8\"],[0.3333333333333333,\"#9c179e\"],[0.4444444444444444,\"#bd3786\"],[0.5555555555555556,\"#d8576b\"],[0.6666666666666666,\"#ed7953\"],[0.7777777777777778,\"#fb9f3a\"],[0.8888888888888888,\"#fdca26\"],[1.0,\"#f0f921\"]],\"sequentialminus\":[[0.0,\"#0d0887\"],[0.1111111111111111,\"#46039f\"],[0.2222222222222222,\"#7201a8\"],[0.3333333333333333,\"#9c179e\"],[0.4444444444444444,\"#bd3786\"],[0.5555555555555556,\"#d8576b\"],[0.6666666666666666,\"#ed7953\"],[0.7777777777777778,\"#fb9f3a\"],[0.8888888888888888,\"#fdca26\"],[1.0,\"#f0f921\"]],\"diverging\":[[0,\"#8e0152\"],[0.1,\"#c51b7d\"],[0.2,\"#de77ae\"],[0.3,\"#f1b6da\"],[0.4,\"#fde0ef\"],[0.5,\"#f7f7f7\"],[0.6,\"#e6f5d0\"],[0.7,\"#b8e186\"],[0.8,\"#7fbc41\"],[0.9,\"#4d9221\"],[1,\"#276419\"]]},\"xaxis\":{\"gridcolor\":\"white\",\"linecolor\":\"white\",\"ticks\":\"\",\"title\":{\"standoff\":15},\"zerolinecolor\":\"white\",\"automargin\":true,\"zerolinewidth\":2},\"yaxis\":{\"gridcolor\":\"white\",\"linecolor\":\"white\",\"ticks\":\"\",\"title\":{\"standoff\":15},\"zerolinecolor\":\"white\",\"automargin\":true,\"zerolinewidth\":2},\"scene\":{\"xaxis\":{\"backgroundcolor\":\"#E5ECF6\",\"gridcolor\":\"white\",\"linecolor\":\"white\",\"showbackground\":true,\"ticks\":\"\",\"zerolinecolor\":\"white\",\"gridwidth\":2},\"yaxis\":{\"backgroundcolor\":\"#E5ECF6\",\"gridcolor\":\"white\",\"linecolor\":\"white\",\"showbackground\":true,\"ticks\":\"\",\"zerolinecolor\":\"white\",\"gridwidth\":2},\"zaxis\":{\"backgroundcolor\":\"#E5ECF6\",\"gridcolor\":\"white\",\"linecolor\":\"white\",\"showbackground\":true,\"ticks\":\"\",\"zerolinecolor\":\"white\",\"gridwidth\":2}},\"shapedefaults\":{\"line\":{\"color\":\"#2a3f5f\"}},\"annotationdefaults\":{\"arrowcolor\":\"#2a3f5f\",\"arrowhead\":0,\"arrowwidth\":1},\"geo\":{\"bgcolor\":\"white\",\"landcolor\":\"#E5ECF6\",\"subunitcolor\":\"white\",\"showland\":true,\"showlakes\":true,\"lakecolor\":\"white\"},\"title\":{\"x\":0.05},\"mapbox\":{\"style\":\"light\"}}}},                        {\"responsive\": true}                    ).then(function(){\n",
              "                            \n",
              "var gd = document.getElementById('9f05537d-4127-4bbf-8394-dcbd4b0353c6');\n",
              "var x = new MutationObserver(function (mutations, observer) {{\n",
              "        var display = window.getComputedStyle(gd).display;\n",
              "        if (!display || display === 'none') {{\n",
              "            console.log([gd, 'removed!']);\n",
              "            Plotly.purge(gd);\n",
              "            observer.disconnect();\n",
              "        }}\n",
              "}});\n",
              "\n",
              "// Listen for the removal of the full notebook cells\n",
              "var notebookContainer = gd.closest('#notebook-container');\n",
              "if (notebookContainer) {{\n",
              "    x.observe(notebookContainer, {childList: true});\n",
              "}}\n",
              "\n",
              "// Listen for the clearing of the current output cell\n",
              "var outputEl = gd.closest('.output');\n",
              "if (outputEl) {{\n",
              "    x.observe(outputEl, {childList: true});\n",
              "}}\n",
              "\n",
              "                        })                };                            </script>        </div>\n",
              "</body>\n",
              "</html>"
            ]
          },
          "metadata": {}
        }
      ]
    },
    {
      "cell_type": "code",
      "source": [
        "#plot_parallel_coordinate: interactively visualizes the hyperparameters and scores\n",
        "optuna.visualization.plot_parallel_coordinate(study)"
      ],
      "metadata": {
        "colab": {
          "base_uri": "https://localhost:8080/",
          "height": 542
        },
        "id": "TDJvqkhVbwds",
        "outputId": "edbf9f2e-b0e4-4809-8c4d-6345caa2774a"
      },
      "execution_count": 11,
      "outputs": [
        {
          "output_type": "display_data",
          "data": {
            "text/html": [
              "<html>\n",
              "<head><meta charset=\"utf-8\" /></head>\n",
              "<body>\n",
              "    <div>            <script src=\"https://cdnjs.cloudflare.com/ajax/libs/mathjax/2.7.5/MathJax.js?config=TeX-AMS-MML_SVG\"></script><script type=\"text/javascript\">if (window.MathJax && window.MathJax.Hub && window.MathJax.Hub.Config) {window.MathJax.Hub.Config({SVG: {font: \"STIX-Web\"}});}</script>                <script type=\"text/javascript\">window.PlotlyConfig = {MathJaxConfig: 'local'};</script>\n",
              "        <script src=\"https://cdn.plot.ly/plotly-2.18.2.min.js\"></script>                <div id=\"aa202813-9efc-4cfe-9f3f-091d6682294a\" class=\"plotly-graph-div\" style=\"height:525px; width:100%;\"></div>            <script type=\"text/javascript\">                                    window.PLOTLYENV=window.PLOTLYENV || {};                                    if (document.getElementById(\"aa202813-9efc-4cfe-9f3f-091d6682294a\")) {                    Plotly.newPlot(                        \"aa202813-9efc-4cfe-9f3f-091d6682294a\",                        [{\"dimensions\":[{\"label\":\"Objective Value\",\"range\":[0.6935542829390565,0.6959200834346936],\"values\":[0.6952398827643609,0.6951752754286008,0.6944846155196019,0.6935888816225663,0.6936467347782026,0.6948742267072898,0.694043589635735,0.6941006852008358,0.6936954919886753,0.6937444616806925,0.6943089838332092,0.6938416189571952,0.693914913255373,0.6944885487054301,0.6941073090315518,0.6935542829390565,0.6936223036247584,0.6935714818201523,0.6938217733107468,0.6959200834346936,0.693591187113198,0.6936126422062017,0.6937474180318042,0.6938360625356248,0.6951618359997397,0.6939115270444567,0.6940379277071517,0.6945154768722406,0.6943462440470015,0.6946582978052217]},{\"label\":\"alpha\",\"range\":[-2.9971187599835183,0.6194520806624302],\"ticktext\":[\"0.00101\",\"0.01\",\"0.1\",\"1\",\"4.16\"],\"tickvals\":[-2.9971187599835183,-2,-1,0,0.6194520806624302],\"values\":[-2.9971187599835183,-0.0750853544841783,-0.3616675931573269,-2.102084214460249,-2.6138700114250897,-2.1705837219347774,-2.925091596330739,-2.1979080669566042,-2.5860172070695793,-2.717864785712112,-2.328060307309034,-1.0309452819341012,-1.5004249562087977,-1.3503482231799557,-2.5622970445612294,-2.3019454122820133,-2.3622410597182935,-2.9267295775601303,-2.03711452738071,-1.8126847089464029,-1.9152415178438325,-2.8448297851873137,-1.7412363486371694,-1.9143840483553503,-2.557426404873597,0.6194520806624302,0.07611229295115624,-2.977756779505834,-1.3757226600031742,-1.3309858565715504]},{\"label\":\"colsample_bytree\",\"range\":[0,7],\"ticktext\":[\"0.3\",\"0.4\",\"0.5\",\"0.6\",\"0.7\",\"0.8\",\"0.9\",\"1.0\"],\"tickvals\":[0,1,2,3,4,5,6,7],\"values\":[0,0,0,1,1,1,1,1,1,1,2,2,3,3,4,4,4,4,4,4,4,4,4,4,5,5,6,6,7,7]},{\"label\":\"lambda\",\"range\":[-2.9486649092859603,0.579406494715501],\"ticktext\":[\"0.00113\",\"0.01\",\"0.1\",\"1\",\"3.8\"],\"tickvals\":[-2.9486649092859603,-2,-1,0,0.579406494715501],\"values\":[-2.114782080186829,-2.420500277180058,0.2937487482606545,-2.6904024222774967,-2.2567795156829518,-2.0759375273687115,-2.4244324891329145,-1.648686652136583,-2.8676584595369405,-2.9486649092859603,-0.9105457790813705,-1.3476056634552636,0.14616146863650079,0.1977214436262898,-1.6028689160437275,-1.104324346321697,-1.2315700827217828,-1.5784514487929642,-1.9833534965950308,-0.6463625746832343,-0.8900606518349531,-1.774592854490187,-1.8164244373487497,-0.5299958634388937,-2.524443049524688,0.5699810794891228,0.41150746326515714,-1.4721875804443576,0.579406494715501,-1.2549214298976261]},{\"label\":\"learning_rate\",\"range\":[0,6],\"ticktext\":[\"0.008\",\"0.01\",\"0.012\",\"0.014\",\"0.016\",\"0.018\",\"0.02\"],\"tickvals\":[0,1,2,3,4,5,6],\"values\":[0,5,6,1,1,1,2,3,4,4,3,5,5,6,0,0,0,0,1,1,1,1,1,2,1,1,0,0,5,6]},{\"label\":\"max_depth\",\"range\":[0,6],\"ticktext\":[\"5\",\"7\",\"9\",\"11\",\"13\",\"15\",\"17\"],\"tickvals\":[0,1,2,3,4,5,6],\"values\":[0,0,6,2,2,5,2,2,2,2,1,4,6,6,1,5,5,5,2,5,5,5,5,5,0,3,3,5,1,4]},{\"label\":\"min_child_weight\",\"range\":[2,286],\"values\":[170,217,286,132,120,15,121,185,120,96,40,162,264,53,186,145,144,165,153,2,116,102,95,78,127,235,69,177,232,202]},{\"label\":\"random_state\",\"range\":[0,0],\"ticktext\":[\"2020\"],\"tickvals\":[0],\"values\":[0,0,0,0,0,0,0,0,0,0,0,0,0,0,0,0,0,0,0,0,0,0,0,0,0,0,0,0,0,0]},{\"label\":\"subsample\",\"range\":[0,5],\"ticktext\":[\"0.4\",\"0.5\",\"0.6\",\"0.7\",\"0.8\",\"1.0\"],\"tickvals\":[0,1,2,3,4,5],\"values\":[2,3,0,3,4,5,1,5,4,4,4,2,2,3,2,2,2,4,4,3,4,4,4,3,4,0,1,5,3,0]}],\"labelangle\":30,\"labelside\":\"bottom\",\"line\":{\"color\":[0.6952398827643609,0.6951752754286008,0.6944846155196019,0.6935888816225663,0.6936467347782026,0.6948742267072898,0.694043589635735,0.6941006852008358,0.6936954919886753,0.6937444616806925,0.6943089838332092,0.6938416189571952,0.693914913255373,0.6944885487054301,0.6941073090315518,0.6935542829390565,0.6936223036247584,0.6935714818201523,0.6938217733107468,0.6959200834346936,0.693591187113198,0.6936126422062017,0.6937474180318042,0.6938360625356248,0.6951618359997397,0.6939115270444567,0.6940379277071517,0.6945154768722406,0.6943462440470015,0.6946582978052217],\"colorbar\":{\"title\":{\"text\":\"Objective Value\"}},\"colorscale\":[[0.0,\"rgb(247,251,255)\"],[0.125,\"rgb(222,235,247)\"],[0.25,\"rgb(198,219,239)\"],[0.375,\"rgb(158,202,225)\"],[0.5,\"rgb(107,174,214)\"],[0.625,\"rgb(66,146,198)\"],[0.75,\"rgb(33,113,181)\"],[0.875,\"rgb(8,81,156)\"],[1.0,\"rgb(8,48,107)\"]],\"reversescale\":true,\"showscale\":true},\"type\":\"parcoords\"}],                        {\"title\":{\"text\":\"Parallel Coordinate Plot\"},\"template\":{\"data\":{\"histogram2dcontour\":[{\"type\":\"histogram2dcontour\",\"colorbar\":{\"outlinewidth\":0,\"ticks\":\"\"},\"colorscale\":[[0.0,\"#0d0887\"],[0.1111111111111111,\"#46039f\"],[0.2222222222222222,\"#7201a8\"],[0.3333333333333333,\"#9c179e\"],[0.4444444444444444,\"#bd3786\"],[0.5555555555555556,\"#d8576b\"],[0.6666666666666666,\"#ed7953\"],[0.7777777777777778,\"#fb9f3a\"],[0.8888888888888888,\"#fdca26\"],[1.0,\"#f0f921\"]]}],\"choropleth\":[{\"type\":\"choropleth\",\"colorbar\":{\"outlinewidth\":0,\"ticks\":\"\"}}],\"histogram2d\":[{\"type\":\"histogram2d\",\"colorbar\":{\"outlinewidth\":0,\"ticks\":\"\"},\"colorscale\":[[0.0,\"#0d0887\"],[0.1111111111111111,\"#46039f\"],[0.2222222222222222,\"#7201a8\"],[0.3333333333333333,\"#9c179e\"],[0.4444444444444444,\"#bd3786\"],[0.5555555555555556,\"#d8576b\"],[0.6666666666666666,\"#ed7953\"],[0.7777777777777778,\"#fb9f3a\"],[0.8888888888888888,\"#fdca26\"],[1.0,\"#f0f921\"]]}],\"heatmap\":[{\"type\":\"heatmap\",\"colorbar\":{\"outlinewidth\":0,\"ticks\":\"\"},\"colorscale\":[[0.0,\"#0d0887\"],[0.1111111111111111,\"#46039f\"],[0.2222222222222222,\"#7201a8\"],[0.3333333333333333,\"#9c179e\"],[0.4444444444444444,\"#bd3786\"],[0.5555555555555556,\"#d8576b\"],[0.6666666666666666,\"#ed7953\"],[0.7777777777777778,\"#fb9f3a\"],[0.8888888888888888,\"#fdca26\"],[1.0,\"#f0f921\"]]}],\"heatmapgl\":[{\"type\":\"heatmapgl\",\"colorbar\":{\"outlinewidth\":0,\"ticks\":\"\"},\"colorscale\":[[0.0,\"#0d0887\"],[0.1111111111111111,\"#46039f\"],[0.2222222222222222,\"#7201a8\"],[0.3333333333333333,\"#9c179e\"],[0.4444444444444444,\"#bd3786\"],[0.5555555555555556,\"#d8576b\"],[0.6666666666666666,\"#ed7953\"],[0.7777777777777778,\"#fb9f3a\"],[0.8888888888888888,\"#fdca26\"],[1.0,\"#f0f921\"]]}],\"contourcarpet\":[{\"type\":\"contourcarpet\",\"colorbar\":{\"outlinewidth\":0,\"ticks\":\"\"}}],\"contour\":[{\"type\":\"contour\",\"colorbar\":{\"outlinewidth\":0,\"ticks\":\"\"},\"colorscale\":[[0.0,\"#0d0887\"],[0.1111111111111111,\"#46039f\"],[0.2222222222222222,\"#7201a8\"],[0.3333333333333333,\"#9c179e\"],[0.4444444444444444,\"#bd3786\"],[0.5555555555555556,\"#d8576b\"],[0.6666666666666666,\"#ed7953\"],[0.7777777777777778,\"#fb9f3a\"],[0.8888888888888888,\"#fdca26\"],[1.0,\"#f0f921\"]]}],\"surface\":[{\"type\":\"surface\",\"colorbar\":{\"outlinewidth\":0,\"ticks\":\"\"},\"colorscale\":[[0.0,\"#0d0887\"],[0.1111111111111111,\"#46039f\"],[0.2222222222222222,\"#7201a8\"],[0.3333333333333333,\"#9c179e\"],[0.4444444444444444,\"#bd3786\"],[0.5555555555555556,\"#d8576b\"],[0.6666666666666666,\"#ed7953\"],[0.7777777777777778,\"#fb9f3a\"],[0.8888888888888888,\"#fdca26\"],[1.0,\"#f0f921\"]]}],\"mesh3d\":[{\"type\":\"mesh3d\",\"colorbar\":{\"outlinewidth\":0,\"ticks\":\"\"}}],\"scatter\":[{\"fillpattern\":{\"fillmode\":\"overlay\",\"size\":10,\"solidity\":0.2},\"type\":\"scatter\"}],\"parcoords\":[{\"type\":\"parcoords\",\"line\":{\"colorbar\":{\"outlinewidth\":0,\"ticks\":\"\"}}}],\"scatterpolargl\":[{\"type\":\"scatterpolargl\",\"marker\":{\"colorbar\":{\"outlinewidth\":0,\"ticks\":\"\"}}}],\"bar\":[{\"error_x\":{\"color\":\"#2a3f5f\"},\"error_y\":{\"color\":\"#2a3f5f\"},\"marker\":{\"line\":{\"color\":\"#E5ECF6\",\"width\":0.5},\"pattern\":{\"fillmode\":\"overlay\",\"size\":10,\"solidity\":0.2}},\"type\":\"bar\"}],\"scattergeo\":[{\"type\":\"scattergeo\",\"marker\":{\"colorbar\":{\"outlinewidth\":0,\"ticks\":\"\"}}}],\"scatterpolar\":[{\"type\":\"scatterpolar\",\"marker\":{\"colorbar\":{\"outlinewidth\":0,\"ticks\":\"\"}}}],\"histogram\":[{\"marker\":{\"pattern\":{\"fillmode\":\"overlay\",\"size\":10,\"solidity\":0.2}},\"type\":\"histogram\"}],\"scattergl\":[{\"type\":\"scattergl\",\"marker\":{\"colorbar\":{\"outlinewidth\":0,\"ticks\":\"\"}}}],\"scatter3d\":[{\"type\":\"scatter3d\",\"line\":{\"colorbar\":{\"outlinewidth\":0,\"ticks\":\"\"}},\"marker\":{\"colorbar\":{\"outlinewidth\":0,\"ticks\":\"\"}}}],\"scattermapbox\":[{\"type\":\"scattermapbox\",\"marker\":{\"colorbar\":{\"outlinewidth\":0,\"ticks\":\"\"}}}],\"scatterternary\":[{\"type\":\"scatterternary\",\"marker\":{\"colorbar\":{\"outlinewidth\":0,\"ticks\":\"\"}}}],\"scattercarpet\":[{\"type\":\"scattercarpet\",\"marker\":{\"colorbar\":{\"outlinewidth\":0,\"ticks\":\"\"}}}],\"carpet\":[{\"aaxis\":{\"endlinecolor\":\"#2a3f5f\",\"gridcolor\":\"white\",\"linecolor\":\"white\",\"minorgridcolor\":\"white\",\"startlinecolor\":\"#2a3f5f\"},\"baxis\":{\"endlinecolor\":\"#2a3f5f\",\"gridcolor\":\"white\",\"linecolor\":\"white\",\"minorgridcolor\":\"white\",\"startlinecolor\":\"#2a3f5f\"},\"type\":\"carpet\"}],\"table\":[{\"cells\":{\"fill\":{\"color\":\"#EBF0F8\"},\"line\":{\"color\":\"white\"}},\"header\":{\"fill\":{\"color\":\"#C8D4E3\"},\"line\":{\"color\":\"white\"}},\"type\":\"table\"}],\"barpolar\":[{\"marker\":{\"line\":{\"color\":\"#E5ECF6\",\"width\":0.5},\"pattern\":{\"fillmode\":\"overlay\",\"size\":10,\"solidity\":0.2}},\"type\":\"barpolar\"}],\"pie\":[{\"automargin\":true,\"type\":\"pie\"}]},\"layout\":{\"autotypenumbers\":\"strict\",\"colorway\":[\"#636efa\",\"#EF553B\",\"#00cc96\",\"#ab63fa\",\"#FFA15A\",\"#19d3f3\",\"#FF6692\",\"#B6E880\",\"#FF97FF\",\"#FECB52\"],\"font\":{\"color\":\"#2a3f5f\"},\"hovermode\":\"closest\",\"hoverlabel\":{\"align\":\"left\"},\"paper_bgcolor\":\"white\",\"plot_bgcolor\":\"#E5ECF6\",\"polar\":{\"bgcolor\":\"#E5ECF6\",\"angularaxis\":{\"gridcolor\":\"white\",\"linecolor\":\"white\",\"ticks\":\"\"},\"radialaxis\":{\"gridcolor\":\"white\",\"linecolor\":\"white\",\"ticks\":\"\"}},\"ternary\":{\"bgcolor\":\"#E5ECF6\",\"aaxis\":{\"gridcolor\":\"white\",\"linecolor\":\"white\",\"ticks\":\"\"},\"baxis\":{\"gridcolor\":\"white\",\"linecolor\":\"white\",\"ticks\":\"\"},\"caxis\":{\"gridcolor\":\"white\",\"linecolor\":\"white\",\"ticks\":\"\"}},\"coloraxis\":{\"colorbar\":{\"outlinewidth\":0,\"ticks\":\"\"}},\"colorscale\":{\"sequential\":[[0.0,\"#0d0887\"],[0.1111111111111111,\"#46039f\"],[0.2222222222222222,\"#7201a8\"],[0.3333333333333333,\"#9c179e\"],[0.4444444444444444,\"#bd3786\"],[0.5555555555555556,\"#d8576b\"],[0.6666666666666666,\"#ed7953\"],[0.7777777777777778,\"#fb9f3a\"],[0.8888888888888888,\"#fdca26\"],[1.0,\"#f0f921\"]],\"sequentialminus\":[[0.0,\"#0d0887\"],[0.1111111111111111,\"#46039f\"],[0.2222222222222222,\"#7201a8\"],[0.3333333333333333,\"#9c179e\"],[0.4444444444444444,\"#bd3786\"],[0.5555555555555556,\"#d8576b\"],[0.6666666666666666,\"#ed7953\"],[0.7777777777777778,\"#fb9f3a\"],[0.8888888888888888,\"#fdca26\"],[1.0,\"#f0f921\"]],\"diverging\":[[0,\"#8e0152\"],[0.1,\"#c51b7d\"],[0.2,\"#de77ae\"],[0.3,\"#f1b6da\"],[0.4,\"#fde0ef\"],[0.5,\"#f7f7f7\"],[0.6,\"#e6f5d0\"],[0.7,\"#b8e186\"],[0.8,\"#7fbc41\"],[0.9,\"#4d9221\"],[1,\"#276419\"]]},\"xaxis\":{\"gridcolor\":\"white\",\"linecolor\":\"white\",\"ticks\":\"\",\"title\":{\"standoff\":15},\"zerolinecolor\":\"white\",\"automargin\":true,\"zerolinewidth\":2},\"yaxis\":{\"gridcolor\":\"white\",\"linecolor\":\"white\",\"ticks\":\"\",\"title\":{\"standoff\":15},\"zerolinecolor\":\"white\",\"automargin\":true,\"zerolinewidth\":2},\"scene\":{\"xaxis\":{\"backgroundcolor\":\"#E5ECF6\",\"gridcolor\":\"white\",\"linecolor\":\"white\",\"showbackground\":true,\"ticks\":\"\",\"zerolinecolor\":\"white\",\"gridwidth\":2},\"yaxis\":{\"backgroundcolor\":\"#E5ECF6\",\"gridcolor\":\"white\",\"linecolor\":\"white\",\"showbackground\":true,\"ticks\":\"\",\"zerolinecolor\":\"white\",\"gridwidth\":2},\"zaxis\":{\"backgroundcolor\":\"#E5ECF6\",\"gridcolor\":\"white\",\"linecolor\":\"white\",\"showbackground\":true,\"ticks\":\"\",\"zerolinecolor\":\"white\",\"gridwidth\":2}},\"shapedefaults\":{\"line\":{\"color\":\"#2a3f5f\"}},\"annotationdefaults\":{\"arrowcolor\":\"#2a3f5f\",\"arrowhead\":0,\"arrowwidth\":1},\"geo\":{\"bgcolor\":\"white\",\"landcolor\":\"#E5ECF6\",\"subunitcolor\":\"white\",\"showland\":true,\"showlakes\":true,\"lakecolor\":\"white\"},\"title\":{\"x\":0.05},\"mapbox\":{\"style\":\"light\"}}}},                        {\"responsive\": true}                    ).then(function(){\n",
              "                            \n",
              "var gd = document.getElementById('aa202813-9efc-4cfe-9f3f-091d6682294a');\n",
              "var x = new MutationObserver(function (mutations, observer) {{\n",
              "        var display = window.getComputedStyle(gd).display;\n",
              "        if (!display || display === 'none') {{\n",
              "            console.log([gd, 'removed!']);\n",
              "            Plotly.purge(gd);\n",
              "            observer.disconnect();\n",
              "        }}\n",
              "}});\n",
              "\n",
              "// Listen for the removal of the full notebook cells\n",
              "var notebookContainer = gd.closest('#notebook-container');\n",
              "if (notebookContainer) {{\n",
              "    x.observe(notebookContainer, {childList: true});\n",
              "}}\n",
              "\n",
              "// Listen for the clearing of the current output cell\n",
              "var outputEl = gd.closest('.output');\n",
              "if (outputEl) {{\n",
              "    x.observe(outputEl, {childList: true});\n",
              "}}\n",
              "\n",
              "                        })                };                            </script>        </div>\n",
              "</body>\n",
              "</html>"
            ]
          },
          "metadata": {}
        }
      ]
    },
    {
      "cell_type": "code",
      "source": [
        "'''plot_slice: shows the evolution of the search. You can see where in the hyperparameter space your search\n",
        "went and which parts of the space were explored more.'''\n",
        "optuna.visualization.plot_slice(study)"
      ],
      "metadata": {
        "colab": {
          "base_uri": "https://localhost:8080/",
          "height": 562
        },
        "id": "jSC1KInqb35V",
        "outputId": "4764227e-4065-4023-a6ff-de17a42c188a"
      },
      "execution_count": 12,
      "outputs": [
        {
          "output_type": "display_data",
          "data": {
            "text/html": [
              "<html>\n",
              "<head><meta charset=\"utf-8\" /></head>\n",
              "<body>\n",
              "    <div>            <script src=\"https://cdnjs.cloudflare.com/ajax/libs/mathjax/2.7.5/MathJax.js?config=TeX-AMS-MML_SVG\"></script><script type=\"text/javascript\">if (window.MathJax && window.MathJax.Hub && window.MathJax.Hub.Config) {window.MathJax.Hub.Config({SVG: {font: \"STIX-Web\"}});}</script>                <script type=\"text/javascript\">window.PlotlyConfig = {MathJaxConfig: 'local'};</script>\n",
              "        <script src=\"https://cdn.plot.ly/plotly-2.18.2.min.js\"></script>                <div id=\"36124ad4-8508-4db5-9164-cc036d3e5b8d\" class=\"plotly-graph-div\" style=\"height:525px; width:2400px;\"></div>            <script type=\"text/javascript\">                                    window.PLOTLYENV=window.PLOTLYENV || {};                                    if (document.getElementById(\"36124ad4-8508-4db5-9164-cc036d3e5b8d\")) {                    Plotly.newPlot(                        \"36124ad4-8508-4db5-9164-cc036d3e5b8d\",                        [{\"marker\":{\"color\":[0,1,2,3,4,5,6,7,8,9,10,11,12,13,14,15,16,17,18,19,20,21,22,23,24,25,26,27,28,29],\"colorbar\":{\"title\":{\"text\":\"Trial\"},\"x\":1.0,\"xpad\":40},\"colorscale\":[[0.0,\"rgb(247,251,255)\"],[0.125,\"rgb(222,235,247)\"],[0.25,\"rgb(198,219,239)\"],[0.375,\"rgb(158,202,225)\"],[0.5,\"rgb(107,174,214)\"],[0.625,\"rgb(66,146,198)\"],[0.75,\"rgb(33,113,181)\"],[0.875,\"rgb(8,81,156)\"],[1.0,\"rgb(8,48,107)\"]],\"line\":{\"color\":\"Grey\",\"width\":0.5},\"showscale\":true},\"mode\":\"markers\",\"showlegend\":false,\"x\":[0.4348429234492534,0.09312251959356671,0.8412297934898233,0.04463255787642826,0.04666745779999696,0.03159184891715514,1.1915500602396365,4.163437798039945,0.007905253216117727,0.04209953897705973,0.002594076580843996,0.0019148520068499447,0.0024329321004164955,0.006751748833417629,0.009180904558053095,0.0011882515888301454,0.006340039053172186,0.01215509848924689,0.015392717221426598,0.01217912118005183,0.004698288623657545,0.0027705985023503497,0.0014294541005270703,0.01814527904622163,0.0011837784304051014,0.0010525511752209125,0.004989471976219203,0.0043426911162548106,0.0027396996575326715,0.0010066563560293743],\"y\":[0.6944846155196019,0.6938416189571952,0.6951752754286008,0.6944885487054301,0.6946582978052217,0.693914913255373,0.6940379277071517,0.6939115270444567,0.6935888816225663,0.6943462440470015,0.6936954919886753,0.6937444616806925,0.6936467347782026,0.6948742267072898,0.6938217733107468,0.694043589635735,0.6941006852008358,0.693591187113198,0.6959200834346936,0.6938360625356248,0.6943089838332092,0.6951618359997397,0.6936126422062017,0.6937474180318042,0.6935714818201523,0.6945154768722406,0.6935542829390565,0.6936223036247584,0.6941073090315518,0.6952398827643609],\"type\":\"scatter\",\"xaxis\":\"x\",\"yaxis\":\"y\"},{\"marker\":{\"color\":[0,1,2,3,4,5,6,7,8,9,10,11,12,13,14,15,16,17,18,19,20,21,22,23,24,25,26,27,28,29],\"colorbar\":{\"title\":{\"text\":\"Trial\"},\"x\":1.0,\"xpad\":40},\"colorscale\":[[0.0,\"rgb(247,251,255)\"],[0.125,\"rgb(222,235,247)\"],[0.25,\"rgb(198,219,239)\"],[0.375,\"rgb(158,202,225)\"],[0.5,\"rgb(107,174,214)\"],[0.625,\"rgb(66,146,198)\"],[0.75,\"rgb(33,113,181)\"],[0.875,\"rgb(8,81,156)\"],[1.0,\"rgb(8,48,107)\"]],\"line\":{\"color\":\"Grey\",\"width\":0.5},\"showscale\":false},\"mode\":\"markers\",\"showlegend\":false,\"x\":[0.3,0.5,0.3,0.6,1.0,0.6,0.9,0.8,0.4,1.0,0.4,0.4,0.4,0.4,0.7,0.4,0.4,0.7,0.7,0.7,0.5,0.8,0.7,0.7,0.7,0.9,0.7,0.7,0.7,0.3],\"y\":[0.6944846155196019,0.6938416189571952,0.6951752754286008,0.6944885487054301,0.6946582978052217,0.693914913255373,0.6940379277071517,0.6939115270444567,0.6935888816225663,0.6943462440470015,0.6936954919886753,0.6937444616806925,0.6936467347782026,0.6948742267072898,0.6938217733107468,0.694043589635735,0.6941006852008358,0.693591187113198,0.6959200834346936,0.6938360625356248,0.6943089838332092,0.6951618359997397,0.6936126422062017,0.6937474180318042,0.6935714818201523,0.6945154768722406,0.6935542829390565,0.6936223036247584,0.6941073090315518,0.6952398827643609],\"type\":\"scatter\",\"xaxis\":\"x2\",\"yaxis\":\"y2\"},{\"marker\":{\"color\":[0,1,2,3,4,5,6,7,8,9,10,11,12,13,14,15,16,17,18,19,20,21,22,23,24,25,26,27,28,29],\"colorbar\":{\"title\":{\"text\":\"Trial\"},\"x\":1.0,\"xpad\":40},\"colorscale\":[[0.0,\"rgb(247,251,255)\"],[0.125,\"rgb(222,235,247)\"],[0.25,\"rgb(198,219,239)\"],[0.375,\"rgb(158,202,225)\"],[0.5,\"rgb(107,174,214)\"],[0.625,\"rgb(66,146,198)\"],[0.75,\"rgb(33,113,181)\"],[0.875,\"rgb(8,81,156)\"],[1.0,\"rgb(8,48,107)\"]],\"line\":{\"color\":\"Grey\",\"width\":0.5},\"showscale\":false},\"mode\":\"markers\",\"showlegend\":false,\"x\":[1.9667481406421725,0.04491530328482411,0.0037975169660207555,1.576599714659842,0.05560048374237357,1.400107779272326,2.579333289381324,3.715190431139016,0.0020398469229905083,3.7967018570884883,0.0013562555876902754,0.001125473025758493,0.005536311074812878,0.00839580750306482,0.010390740609735844,0.0037632884785841086,0.022455014914941097,0.12880696524618357,0.22575502469787082,0.29512373364304995,0.12287236597079097,0.0029892136067502873,0.01680378613336017,0.015260738924432601,0.026396634025159925,0.033714165900322446,0.07864582157862672,0.05867186823460241,0.02495347789011267,0.007677466317961357],\"y\":[0.6944846155196019,0.6938416189571952,0.6951752754286008,0.6944885487054301,0.6946582978052217,0.693914913255373,0.6940379277071517,0.6939115270444567,0.6935888816225663,0.6943462440470015,0.6936954919886753,0.6937444616806925,0.6936467347782026,0.6948742267072898,0.6938217733107468,0.694043589635735,0.6941006852008358,0.693591187113198,0.6959200834346936,0.6938360625356248,0.6943089838332092,0.6951618359997397,0.6936126422062017,0.6937474180318042,0.6935714818201523,0.6945154768722406,0.6935542829390565,0.6936223036247584,0.6941073090315518,0.6952398827643609],\"type\":\"scatter\",\"xaxis\":\"x3\",\"yaxis\":\"y3\"},{\"marker\":{\"color\":[0,1,2,3,4,5,6,7,8,9,10,11,12,13,14,15,16,17,18,19,20,21,22,23,24,25,26,27,28,29],\"colorbar\":{\"title\":{\"text\":\"Trial\"},\"x\":1.0,\"xpad\":40},\"colorscale\":[[0.0,\"rgb(247,251,255)\"],[0.125,\"rgb(222,235,247)\"],[0.25,\"rgb(198,219,239)\"],[0.375,\"rgb(158,202,225)\"],[0.5,\"rgb(107,174,214)\"],[0.625,\"rgb(66,146,198)\"],[0.75,\"rgb(33,113,181)\"],[0.875,\"rgb(8,81,156)\"],[1.0,\"rgb(8,48,107)\"]],\"line\":{\"color\":\"Grey\",\"width\":0.5},\"showscale\":false},\"mode\":\"markers\",\"showlegend\":false,\"x\":[0.02,0.018,0.018,0.02,0.02,0.018,0.008,0.01,0.01,0.018,0.016,0.016,0.01,0.01,0.01,0.012,0.014,0.01,0.01,0.012,0.014,0.01,0.01,0.01,0.008,0.008,0.008,0.008,0.008,0.008],\"y\":[0.6944846155196019,0.6938416189571952,0.6951752754286008,0.6944885487054301,0.6946582978052217,0.693914913255373,0.6940379277071517,0.6939115270444567,0.6935888816225663,0.6943462440470015,0.6936954919886753,0.6937444616806925,0.6936467347782026,0.6948742267072898,0.6938217733107468,0.694043589635735,0.6941006852008358,0.693591187113198,0.6959200834346936,0.6938360625356248,0.6943089838332092,0.6951618359997397,0.6936126422062017,0.6937474180318042,0.6935714818201523,0.6945154768722406,0.6935542829390565,0.6936223036247584,0.6941073090315518,0.6952398827643609],\"type\":\"scatter\",\"xaxis\":\"x4\",\"yaxis\":\"y4\"},{\"marker\":{\"color\":[0,1,2,3,4,5,6,7,8,9,10,11,12,13,14,15,16,17,18,19,20,21,22,23,24,25,26,27,28,29],\"colorbar\":{\"title\":{\"text\":\"Trial\"},\"x\":1.0,\"xpad\":40},\"colorscale\":[[0.0,\"rgb(247,251,255)\"],[0.125,\"rgb(222,235,247)\"],[0.25,\"rgb(198,219,239)\"],[0.375,\"rgb(158,202,225)\"],[0.5,\"rgb(107,174,214)\"],[0.625,\"rgb(66,146,198)\"],[0.75,\"rgb(33,113,181)\"],[0.875,\"rgb(8,81,156)\"],[1.0,\"rgb(8,48,107)\"]],\"line\":{\"color\":\"Grey\",\"width\":0.5},\"showscale\":false},\"mode\":\"markers\",\"showlegend\":false,\"x\":[17,13,5,17,13,17,11,11,9,7,9,9,9,15,9,9,9,15,15,15,7,5,15,15,15,15,15,15,7,5],\"y\":[0.6944846155196019,0.6938416189571952,0.6951752754286008,0.6944885487054301,0.6946582978052217,0.693914913255373,0.6940379277071517,0.6939115270444567,0.6935888816225663,0.6943462440470015,0.6936954919886753,0.6937444616806925,0.6936467347782026,0.6948742267072898,0.6938217733107468,0.694043589635735,0.6941006852008358,0.693591187113198,0.6959200834346936,0.6938360625356248,0.6943089838332092,0.6951618359997397,0.6936126422062017,0.6937474180318042,0.6935714818201523,0.6945154768722406,0.6935542829390565,0.6936223036247584,0.6941073090315518,0.6952398827643609],\"type\":\"scatter\",\"xaxis\":\"x5\",\"yaxis\":\"y5\"},{\"marker\":{\"color\":[0,1,2,3,4,5,6,7,8,9,10,11,12,13,14,15,16,17,18,19,20,21,22,23,24,25,26,27,28,29],\"colorbar\":{\"title\":{\"text\":\"Trial\"},\"x\":1.0,\"xpad\":40},\"colorscale\":[[0.0,\"rgb(247,251,255)\"],[0.125,\"rgb(222,235,247)\"],[0.25,\"rgb(198,219,239)\"],[0.375,\"rgb(158,202,225)\"],[0.5,\"rgb(107,174,214)\"],[0.625,\"rgb(66,146,198)\"],[0.75,\"rgb(33,113,181)\"],[0.875,\"rgb(8,81,156)\"],[1.0,\"rgb(8,48,107)\"]],\"line\":{\"color\":\"Grey\",\"width\":0.5},\"showscale\":false},\"mode\":\"markers\",\"showlegend\":false,\"x\":[286,162,217,53,202,264,69,235,132,232,120,96,120,15,153,121,185,116,2,78,40,127,102,95,165,177,145,144,186,170],\"y\":[0.6944846155196019,0.6938416189571952,0.6951752754286008,0.6944885487054301,0.6946582978052217,0.693914913255373,0.6940379277071517,0.6939115270444567,0.6935888816225663,0.6943462440470015,0.6936954919886753,0.6937444616806925,0.6936467347782026,0.6948742267072898,0.6938217733107468,0.694043589635735,0.6941006852008358,0.693591187113198,0.6959200834346936,0.6938360625356248,0.6943089838332092,0.6951618359997397,0.6936126422062017,0.6937474180318042,0.6935714818201523,0.6945154768722406,0.6935542829390565,0.6936223036247584,0.6941073090315518,0.6952398827643609],\"type\":\"scatter\",\"xaxis\":\"x6\",\"yaxis\":\"y6\"},{\"marker\":{\"color\":[0,1,2,3,4,5,6,7,8,9,10,11,12,13,14,15,16,17,18,19,20,21,22,23,24,25,26,27,28,29],\"colorbar\":{\"title\":{\"text\":\"Trial\"},\"x\":1.0,\"xpad\":40},\"colorscale\":[[0.0,\"rgb(247,251,255)\"],[0.125,\"rgb(222,235,247)\"],[0.25,\"rgb(198,219,239)\"],[0.375,\"rgb(158,202,225)\"],[0.5,\"rgb(107,174,214)\"],[0.625,\"rgb(66,146,198)\"],[0.75,\"rgb(33,113,181)\"],[0.875,\"rgb(8,81,156)\"],[1.0,\"rgb(8,48,107)\"]],\"line\":{\"color\":\"Grey\",\"width\":0.5},\"showscale\":false},\"mode\":\"markers\",\"showlegend\":false,\"x\":[2020,2020,2020,2020,2020,2020,2020,2020,2020,2020,2020,2020,2020,2020,2020,2020,2020,2020,2020,2020,2020,2020,2020,2020,2020,2020,2020,2020,2020,2020],\"y\":[0.6944846155196019,0.6938416189571952,0.6951752754286008,0.6944885487054301,0.6946582978052217,0.693914913255373,0.6940379277071517,0.6939115270444567,0.6935888816225663,0.6943462440470015,0.6936954919886753,0.6937444616806925,0.6936467347782026,0.6948742267072898,0.6938217733107468,0.694043589635735,0.6941006852008358,0.693591187113198,0.6959200834346936,0.6938360625356248,0.6943089838332092,0.6951618359997397,0.6936126422062017,0.6937474180318042,0.6935714818201523,0.6945154768722406,0.6935542829390565,0.6936223036247584,0.6941073090315518,0.6952398827643609],\"type\":\"scatter\",\"xaxis\":\"x7\",\"yaxis\":\"y7\"},{\"marker\":{\"color\":[0,1,2,3,4,5,6,7,8,9,10,11,12,13,14,15,16,17,18,19,20,21,22,23,24,25,26,27,28,29],\"colorbar\":{\"title\":{\"text\":\"Trial\"},\"x\":1.0,\"xpad\":40},\"colorscale\":[[0.0,\"rgb(247,251,255)\"],[0.125,\"rgb(222,235,247)\"],[0.25,\"rgb(198,219,239)\"],[0.375,\"rgb(158,202,225)\"],[0.5,\"rgb(107,174,214)\"],[0.625,\"rgb(66,146,198)\"],[0.75,\"rgb(33,113,181)\"],[0.875,\"rgb(8,81,156)\"],[1.0,\"rgb(8,48,107)\"]],\"line\":{\"color\":\"Grey\",\"width\":0.5},\"showscale\":false},\"mode\":\"markers\",\"showlegend\":false,\"x\":[0.4,0.6,0.7,0.7,0.4,0.6,0.5,0.4,0.7,0.7,0.8,0.8,0.8,1.0,0.8,0.5,1.0,0.8,0.7,0.7,0.8,0.8,0.8,0.8,0.8,1.0,0.6,0.6,0.6,0.6],\"y\":[0.6944846155196019,0.6938416189571952,0.6951752754286008,0.6944885487054301,0.6946582978052217,0.693914913255373,0.6940379277071517,0.6939115270444567,0.6935888816225663,0.6943462440470015,0.6936954919886753,0.6937444616806925,0.6936467347782026,0.6948742267072898,0.6938217733107468,0.694043589635735,0.6941006852008358,0.693591187113198,0.6959200834346936,0.6938360625356248,0.6943089838332092,0.6951618359997397,0.6936126422062017,0.6937474180318042,0.6935714818201523,0.6945154768722406,0.6935542829390565,0.6936223036247584,0.6941073090315518,0.6952398827643609],\"type\":\"scatter\",\"xaxis\":\"x8\",\"yaxis\":\"y8\"}],                        {\"template\":{\"data\":{\"histogram2dcontour\":[{\"type\":\"histogram2dcontour\",\"colorbar\":{\"outlinewidth\":0,\"ticks\":\"\"},\"colorscale\":[[0.0,\"#0d0887\"],[0.1111111111111111,\"#46039f\"],[0.2222222222222222,\"#7201a8\"],[0.3333333333333333,\"#9c179e\"],[0.4444444444444444,\"#bd3786\"],[0.5555555555555556,\"#d8576b\"],[0.6666666666666666,\"#ed7953\"],[0.7777777777777778,\"#fb9f3a\"],[0.8888888888888888,\"#fdca26\"],[1.0,\"#f0f921\"]]}],\"choropleth\":[{\"type\":\"choropleth\",\"colorbar\":{\"outlinewidth\":0,\"ticks\":\"\"}}],\"histogram2d\":[{\"type\":\"histogram2d\",\"colorbar\":{\"outlinewidth\":0,\"ticks\":\"\"},\"colorscale\":[[0.0,\"#0d0887\"],[0.1111111111111111,\"#46039f\"],[0.2222222222222222,\"#7201a8\"],[0.3333333333333333,\"#9c179e\"],[0.4444444444444444,\"#bd3786\"],[0.5555555555555556,\"#d8576b\"],[0.6666666666666666,\"#ed7953\"],[0.7777777777777778,\"#fb9f3a\"],[0.8888888888888888,\"#fdca26\"],[1.0,\"#f0f921\"]]}],\"heatmap\":[{\"type\":\"heatmap\",\"colorbar\":{\"outlinewidth\":0,\"ticks\":\"\"},\"colorscale\":[[0.0,\"#0d0887\"],[0.1111111111111111,\"#46039f\"],[0.2222222222222222,\"#7201a8\"],[0.3333333333333333,\"#9c179e\"],[0.4444444444444444,\"#bd3786\"],[0.5555555555555556,\"#d8576b\"],[0.6666666666666666,\"#ed7953\"],[0.7777777777777778,\"#fb9f3a\"],[0.8888888888888888,\"#fdca26\"],[1.0,\"#f0f921\"]]}],\"heatmapgl\":[{\"type\":\"heatmapgl\",\"colorbar\":{\"outlinewidth\":0,\"ticks\":\"\"},\"colorscale\":[[0.0,\"#0d0887\"],[0.1111111111111111,\"#46039f\"],[0.2222222222222222,\"#7201a8\"],[0.3333333333333333,\"#9c179e\"],[0.4444444444444444,\"#bd3786\"],[0.5555555555555556,\"#d8576b\"],[0.6666666666666666,\"#ed7953\"],[0.7777777777777778,\"#fb9f3a\"],[0.8888888888888888,\"#fdca26\"],[1.0,\"#f0f921\"]]}],\"contourcarpet\":[{\"type\":\"contourcarpet\",\"colorbar\":{\"outlinewidth\":0,\"ticks\":\"\"}}],\"contour\":[{\"type\":\"contour\",\"colorbar\":{\"outlinewidth\":0,\"ticks\":\"\"},\"colorscale\":[[0.0,\"#0d0887\"],[0.1111111111111111,\"#46039f\"],[0.2222222222222222,\"#7201a8\"],[0.3333333333333333,\"#9c179e\"],[0.4444444444444444,\"#bd3786\"],[0.5555555555555556,\"#d8576b\"],[0.6666666666666666,\"#ed7953\"],[0.7777777777777778,\"#fb9f3a\"],[0.8888888888888888,\"#fdca26\"],[1.0,\"#f0f921\"]]}],\"surface\":[{\"type\":\"surface\",\"colorbar\":{\"outlinewidth\":0,\"ticks\":\"\"},\"colorscale\":[[0.0,\"#0d0887\"],[0.1111111111111111,\"#46039f\"],[0.2222222222222222,\"#7201a8\"],[0.3333333333333333,\"#9c179e\"],[0.4444444444444444,\"#bd3786\"],[0.5555555555555556,\"#d8576b\"],[0.6666666666666666,\"#ed7953\"],[0.7777777777777778,\"#fb9f3a\"],[0.8888888888888888,\"#fdca26\"],[1.0,\"#f0f921\"]]}],\"mesh3d\":[{\"type\":\"mesh3d\",\"colorbar\":{\"outlinewidth\":0,\"ticks\":\"\"}}],\"scatter\":[{\"fillpattern\":{\"fillmode\":\"overlay\",\"size\":10,\"solidity\":0.2},\"type\":\"scatter\"}],\"parcoords\":[{\"type\":\"parcoords\",\"line\":{\"colorbar\":{\"outlinewidth\":0,\"ticks\":\"\"}}}],\"scatterpolargl\":[{\"type\":\"scatterpolargl\",\"marker\":{\"colorbar\":{\"outlinewidth\":0,\"ticks\":\"\"}}}],\"bar\":[{\"error_x\":{\"color\":\"#2a3f5f\"},\"error_y\":{\"color\":\"#2a3f5f\"},\"marker\":{\"line\":{\"color\":\"#E5ECF6\",\"width\":0.5},\"pattern\":{\"fillmode\":\"overlay\",\"size\":10,\"solidity\":0.2}},\"type\":\"bar\"}],\"scattergeo\":[{\"type\":\"scattergeo\",\"marker\":{\"colorbar\":{\"outlinewidth\":0,\"ticks\":\"\"}}}],\"scatterpolar\":[{\"type\":\"scatterpolar\",\"marker\":{\"colorbar\":{\"outlinewidth\":0,\"ticks\":\"\"}}}],\"histogram\":[{\"marker\":{\"pattern\":{\"fillmode\":\"overlay\",\"size\":10,\"solidity\":0.2}},\"type\":\"histogram\"}],\"scattergl\":[{\"type\":\"scattergl\",\"marker\":{\"colorbar\":{\"outlinewidth\":0,\"ticks\":\"\"}}}],\"scatter3d\":[{\"type\":\"scatter3d\",\"line\":{\"colorbar\":{\"outlinewidth\":0,\"ticks\":\"\"}},\"marker\":{\"colorbar\":{\"outlinewidth\":0,\"ticks\":\"\"}}}],\"scattermapbox\":[{\"type\":\"scattermapbox\",\"marker\":{\"colorbar\":{\"outlinewidth\":0,\"ticks\":\"\"}}}],\"scatterternary\":[{\"type\":\"scatterternary\",\"marker\":{\"colorbar\":{\"outlinewidth\":0,\"ticks\":\"\"}}}],\"scattercarpet\":[{\"type\":\"scattercarpet\",\"marker\":{\"colorbar\":{\"outlinewidth\":0,\"ticks\":\"\"}}}],\"carpet\":[{\"aaxis\":{\"endlinecolor\":\"#2a3f5f\",\"gridcolor\":\"white\",\"linecolor\":\"white\",\"minorgridcolor\":\"white\",\"startlinecolor\":\"#2a3f5f\"},\"baxis\":{\"endlinecolor\":\"#2a3f5f\",\"gridcolor\":\"white\",\"linecolor\":\"white\",\"minorgridcolor\":\"white\",\"startlinecolor\":\"#2a3f5f\"},\"type\":\"carpet\"}],\"table\":[{\"cells\":{\"fill\":{\"color\":\"#EBF0F8\"},\"line\":{\"color\":\"white\"}},\"header\":{\"fill\":{\"color\":\"#C8D4E3\"},\"line\":{\"color\":\"white\"}},\"type\":\"table\"}],\"barpolar\":[{\"marker\":{\"line\":{\"color\":\"#E5ECF6\",\"width\":0.5},\"pattern\":{\"fillmode\":\"overlay\",\"size\":10,\"solidity\":0.2}},\"type\":\"barpolar\"}],\"pie\":[{\"automargin\":true,\"type\":\"pie\"}]},\"layout\":{\"autotypenumbers\":\"strict\",\"colorway\":[\"#636efa\",\"#EF553B\",\"#00cc96\",\"#ab63fa\",\"#FFA15A\",\"#19d3f3\",\"#FF6692\",\"#B6E880\",\"#FF97FF\",\"#FECB52\"],\"font\":{\"color\":\"#2a3f5f\"},\"hovermode\":\"closest\",\"hoverlabel\":{\"align\":\"left\"},\"paper_bgcolor\":\"white\",\"plot_bgcolor\":\"#E5ECF6\",\"polar\":{\"bgcolor\":\"#E5ECF6\",\"angularaxis\":{\"gridcolor\":\"white\",\"linecolor\":\"white\",\"ticks\":\"\"},\"radialaxis\":{\"gridcolor\":\"white\",\"linecolor\":\"white\",\"ticks\":\"\"}},\"ternary\":{\"bgcolor\":\"#E5ECF6\",\"aaxis\":{\"gridcolor\":\"white\",\"linecolor\":\"white\",\"ticks\":\"\"},\"baxis\":{\"gridcolor\":\"white\",\"linecolor\":\"white\",\"ticks\":\"\"},\"caxis\":{\"gridcolor\":\"white\",\"linecolor\":\"white\",\"ticks\":\"\"}},\"coloraxis\":{\"colorbar\":{\"outlinewidth\":0,\"ticks\":\"\"}},\"colorscale\":{\"sequential\":[[0.0,\"#0d0887\"],[0.1111111111111111,\"#46039f\"],[0.2222222222222222,\"#7201a8\"],[0.3333333333333333,\"#9c179e\"],[0.4444444444444444,\"#bd3786\"],[0.5555555555555556,\"#d8576b\"],[0.6666666666666666,\"#ed7953\"],[0.7777777777777778,\"#fb9f3a\"],[0.8888888888888888,\"#fdca26\"],[1.0,\"#f0f921\"]],\"sequentialminus\":[[0.0,\"#0d0887\"],[0.1111111111111111,\"#46039f\"],[0.2222222222222222,\"#7201a8\"],[0.3333333333333333,\"#9c179e\"],[0.4444444444444444,\"#bd3786\"],[0.5555555555555556,\"#d8576b\"],[0.6666666666666666,\"#ed7953\"],[0.7777777777777778,\"#fb9f3a\"],[0.8888888888888888,\"#fdca26\"],[1.0,\"#f0f921\"]],\"diverging\":[[0,\"#8e0152\"],[0.1,\"#c51b7d\"],[0.2,\"#de77ae\"],[0.3,\"#f1b6da\"],[0.4,\"#fde0ef\"],[0.5,\"#f7f7f7\"],[0.6,\"#e6f5d0\"],[0.7,\"#b8e186\"],[0.8,\"#7fbc41\"],[0.9,\"#4d9221\"],[1,\"#276419\"]]},\"xaxis\":{\"gridcolor\":\"white\",\"linecolor\":\"white\",\"ticks\":\"\",\"title\":{\"standoff\":15},\"zerolinecolor\":\"white\",\"automargin\":true,\"zerolinewidth\":2},\"yaxis\":{\"gridcolor\":\"white\",\"linecolor\":\"white\",\"ticks\":\"\",\"title\":{\"standoff\":15},\"zerolinecolor\":\"white\",\"automargin\":true,\"zerolinewidth\":2},\"scene\":{\"xaxis\":{\"backgroundcolor\":\"#E5ECF6\",\"gridcolor\":\"white\",\"linecolor\":\"white\",\"showbackground\":true,\"ticks\":\"\",\"zerolinecolor\":\"white\",\"gridwidth\":2},\"yaxis\":{\"backgroundcolor\":\"#E5ECF6\",\"gridcolor\":\"white\",\"linecolor\":\"white\",\"showbackground\":true,\"ticks\":\"\",\"zerolinecolor\":\"white\",\"gridwidth\":2},\"zaxis\":{\"backgroundcolor\":\"#E5ECF6\",\"gridcolor\":\"white\",\"linecolor\":\"white\",\"showbackground\":true,\"ticks\":\"\",\"zerolinecolor\":\"white\",\"gridwidth\":2}},\"shapedefaults\":{\"line\":{\"color\":\"#2a3f5f\"}},\"annotationdefaults\":{\"arrowcolor\":\"#2a3f5f\",\"arrowhead\":0,\"arrowwidth\":1},\"geo\":{\"bgcolor\":\"white\",\"landcolor\":\"#E5ECF6\",\"subunitcolor\":\"white\",\"showland\":true,\"showlakes\":true,\"lakecolor\":\"white\"},\"title\":{\"x\":0.05},\"mapbox\":{\"style\":\"light\"}}},\"xaxis\":{\"anchor\":\"y\",\"domain\":[0.0,0.103125],\"title\":{\"text\":\"alpha\"},\"type\":\"log\"},\"yaxis\":{\"anchor\":\"x\",\"domain\":[0.0,1.0],\"title\":{\"text\":\"Objective Value\"}},\"xaxis2\":{\"anchor\":\"y2\",\"domain\":[0.128125,0.23124999999999998],\"title\":{\"text\":\"colsample_bytree\"}},\"yaxis2\":{\"anchor\":\"x2\",\"domain\":[0.0,1.0],\"matches\":\"y\",\"showticklabels\":false},\"xaxis3\":{\"anchor\":\"y3\",\"domain\":[0.25625,0.359375],\"title\":{\"text\":\"lambda\"},\"type\":\"log\"},\"yaxis3\":{\"anchor\":\"x3\",\"domain\":[0.0,1.0],\"matches\":\"y\",\"showticklabels\":false},\"xaxis4\":{\"anchor\":\"y4\",\"domain\":[0.38437499999999997,0.48749999999999993],\"title\":{\"text\":\"learning_rate\"}},\"yaxis4\":{\"anchor\":\"x4\",\"domain\":[0.0,1.0],\"matches\":\"y\",\"showticklabels\":false},\"xaxis5\":{\"anchor\":\"y5\",\"domain\":[0.5125,0.615625],\"title\":{\"text\":\"max_depth\"}},\"yaxis5\":{\"anchor\":\"x5\",\"domain\":[0.0,1.0],\"matches\":\"y\",\"showticklabels\":false},\"xaxis6\":{\"anchor\":\"y6\",\"domain\":[0.640625,0.74375],\"title\":{\"text\":\"min_child_weight\"}},\"yaxis6\":{\"anchor\":\"x6\",\"domain\":[0.0,1.0],\"matches\":\"y\",\"showticklabels\":false},\"xaxis7\":{\"anchor\":\"y7\",\"domain\":[0.76875,0.8718750000000001],\"title\":{\"text\":\"random_state\"}},\"yaxis7\":{\"anchor\":\"x7\",\"domain\":[0.0,1.0],\"matches\":\"y\",\"showticklabels\":false},\"xaxis8\":{\"anchor\":\"y8\",\"domain\":[0.8968750000000001,1.0],\"title\":{\"text\":\"subsample\"}},\"yaxis8\":{\"anchor\":\"x8\",\"domain\":[0.0,1.0],\"matches\":\"y\",\"showticklabels\":false},\"title\":{\"text\":\"Slice Plot\"},\"width\":2400},                        {\"responsive\": true}                    ).then(function(){\n",
              "                            \n",
              "var gd = document.getElementById('36124ad4-8508-4db5-9164-cc036d3e5b8d');\n",
              "var x = new MutationObserver(function (mutations, observer) {{\n",
              "        var display = window.getComputedStyle(gd).display;\n",
              "        if (!display || display === 'none') {{\n",
              "            console.log([gd, 'removed!']);\n",
              "            Plotly.purge(gd);\n",
              "            observer.disconnect();\n",
              "        }}\n",
              "}});\n",
              "\n",
              "// Listen for the removal of the full notebook cells\n",
              "var notebookContainer = gd.closest('#notebook-container');\n",
              "if (notebookContainer) {{\n",
              "    x.observe(notebookContainer, {childList: true});\n",
              "}}\n",
              "\n",
              "// Listen for the clearing of the current output cell\n",
              "var outputEl = gd.closest('.output');\n",
              "if (outputEl) {{\n",
              "    x.observe(outputEl, {childList: true});\n",
              "}}\n",
              "\n",
              "                        })                };                            </script>        </div>\n",
              "</body>\n",
              "</html>"
            ]
          },
          "metadata": {}
        }
      ]
    },
    {
      "cell_type": "code",
      "source": [
        "#plot_contour: plots parameter interactions on an interactive chart. You can choose which hyperparameters you would like to explore.\n",
        "optuna.visualization.plot_contour(study, params=['alpha',\n",
        "                            #'max_depth',\n",
        "                            'lambda',\n",
        "                            'subsample',\n",
        "                            'learning_rate',\n",
        "                            'subsample'])"
      ],
      "metadata": {
        "colab": {
          "base_uri": "https://localhost:8080/",
          "height": 542
        },
        "id": "dTkA7_S8cEnD",
        "outputId": "b4d52a5a-ae11-4c49-d0b5-8e2dd048ec14"
      },
      "execution_count": 13,
      "outputs": [
        {
          "output_type": "display_data",
          "data": {
            "text/html": [
              "<html>\n",
              "<head><meta charset=\"utf-8\" /></head>\n",
              "<body>\n",
              "    <div>            <script src=\"https://cdnjs.cloudflare.com/ajax/libs/mathjax/2.7.5/MathJax.js?config=TeX-AMS-MML_SVG\"></script><script type=\"text/javascript\">if (window.MathJax && window.MathJax.Hub && window.MathJax.Hub.Config) {window.MathJax.Hub.Config({SVG: {font: \"STIX-Web\"}});}</script>                <script type=\"text/javascript\">window.PlotlyConfig = {MathJaxConfig: 'local'};</script>\n",
              "        <script src=\"https://cdn.plot.ly/plotly-2.18.2.min.js\"></script>                <div id=\"4dfd9385-5950-4f6a-a915-c6720d48c827\" class=\"plotly-graph-div\" style=\"height:525px; width:100%;\"></div>            <script type=\"text/javascript\">                                    window.PLOTLYENV=window.PLOTLYENV || {};                                    if (document.getElementById(\"4dfd9385-5950-4f6a-a915-c6720d48c827\")) {                    Plotly.newPlot(                        \"4dfd9385-5950-4f6a-a915-c6720d48c827\",                        [{\"type\":\"scatter\",\"xaxis\":\"x\",\"yaxis\":\"y\"},{\"colorbar\":{\"title\":{\"text\":\"Objective Value\"}},\"colorscale\":[[0.0,\"rgb(247,251,255)\"],[0.125,\"rgb(222,235,247)\"],[0.25,\"rgb(198,219,239)\"],[0.375,\"rgb(158,202,225)\"],[0.5,\"rgb(107,174,214)\"],[0.625,\"rgb(66,146,198)\"],[0.75,\"rgb(33,113,181)\"],[0.875,\"rgb(8,81,156)\"],[1.0,\"rgb(8,48,107)\"]],\"connectgaps\":true,\"contours\":{\"coloring\":\"heatmap\"},\"hoverinfo\":\"none\",\"line\":{\"smoothing\":1.3},\"reversescale\":true,\"showscale\":true,\"x\":[0.0006638236149298925,0.0010066563560293743,0.0010525511752209125,0.0011837784304051014,0.0011882515888301454,0.0014294541005270703,0.0019148520068499447,0.0024329321004164955,0.002594076580843996,0.0027396996575326715,0.0027705985023503497,0.0043426911162548106,0.004698288623657545,0.004989471976219203,0.006340039053172186,0.006751748833417629,0.007905253216117727,0.009180904558053095,0.01215509848924689,0.01217912118005183,0.015392717221426598,0.01814527904622163,0.03159184891715514,0.04209953897705973,0.04463255787642826,0.04666745779999696,0.09312251959356671,0.4348429234492534,0.8412297934898233,1.1915500602396365,4.163437798039945,6.313651741317592],\"y\":[0.0007497759754525195,0.001125473025758493,0.0013562555876902754,0.0020398469229905083,0.0029892136067502873,0.0037632884785841086,0.0037975169660207555,0.005536311074812878,0.007677466317961357,0.00839580750306482,0.010390740609735844,0.015260738924432601,0.01680378613336017,0.022455014914941097,0.02495347789011267,0.026396634025159925,0.033714165900322446,0.04491530328482411,0.05560048374237357,0.05867186823460241,0.07864582157862672,0.12287236597079097,0.12880696524618357,0.22575502469787082,0.29512373364304995,1.400107779272326,1.576599714659842,1.9667481406421725,2.579333289381324,3.715190431139016,3.7967018570884883,5.699149701911024],\"z\":[[null,null,null,null,null,null,null,null,null,null,null,null,null,null,null,null,null,null,null,null,null,null,null,null,null,null,null,null,null,null,null,null],[null,null,null,null,null,null,0.6937444616806925,null,null,null,null,null,null,null,null,null,null,null,null,null,null,null,null,null,null,null,null,null,null,null,null,null],[null,null,null,null,null,null,null,null,0.6936954919886753,null,null,null,null,null,null,null,null,null,null,null,null,null,null,null,null,null,null,null,null,null,null,null],[null,null,null,null,null,null,null,null,null,null,null,null,null,null,null,null,0.6935888816225663,null,null,null,null,null,null,null,null,null,null,null,null,null,null,null],[null,null,null,null,null,null,null,null,null,null,0.6951618359997397,null,null,null,null,null,null,null,null,null,null,null,null,null,null,null,null,null,null,null,null,null],[null,null,null,null,0.694043589635735,null,null,null,null,null,null,null,null,null,null,null,null,null,null,null,null,null,null,null,null,null,null,null,null,null,null,null],[null,null,null,null,null,null,null,null,null,null,null,null,null,null,null,null,null,null,null,null,null,null,null,null,null,null,null,null,0.6951752754286008,null,null,null],[null,null,null,null,null,null,null,0.6936467347782026,null,null,null,null,null,null,null,null,null,null,null,null,null,null,null,null,null,null,null,null,null,null,null,null],[null,0.6952398827643609,null,null,null,null,null,null,null,null,null,null,null,null,null,null,null,null,null,null,null,null,null,null,null,null,null,null,null,null,null,null],[null,null,null,null,null,null,null,null,null,null,null,null,null,null,null,0.6948742267072898,null,null,null,null,null,null,null,null,null,null,null,null,null,null,null,null],[null,null,null,null,null,null,null,null,null,null,null,null,null,null,null,null,null,0.6938217733107468,null,null,null,null,null,null,null,null,null,null,null,null,null,null],[null,null,null,null,null,null,null,null,null,null,null,null,null,null,null,null,null,null,null,null,null,0.6937474180318042,null,null,null,null,null,null,null,null,null,null],[null,null,null,null,null,0.6936126422062017,null,null,null,null,null,null,null,null,null,null,null,null,null,null,null,null,null,null,null,null,null,null,null,null,null,null],[null,null,null,null,null,null,null,null,null,null,null,null,null,null,0.6941006852008358,null,null,null,null,null,null,null,null,null,null,null,null,null,null,null,null,null],[null,null,null,null,null,null,null,null,null,0.6941073090315518,null,null,null,null,null,null,null,null,null,null,null,null,null,null,null,null,null,null,null,null,null,null],[null,null,null,0.6935714818201523,null,null,null,null,null,null,null,null,null,null,null,null,null,null,null,null,null,null,null,null,null,null,null,null,null,null,null,null],[null,null,0.6945154768722406,null,null,null,null,null,null,null,null,null,null,null,null,null,null,null,null,null,null,null,null,null,null,null,null,null,null,null,null,null],[null,null,null,null,null,null,null,null,null,null,null,null,null,null,null,null,null,null,null,null,null,null,null,null,null,null,0.6938416189571952,null,null,null,null,null],[null,null,null,null,null,null,null,null,null,null,null,null,null,null,null,null,null,null,null,null,null,null,null,null,null,0.6946582978052217,null,null,null,null,null,null],[null,null,null,null,null,null,null,null,null,null,null,0.6936223036247584,null,null,null,null,null,null,null,null,null,null,null,null,null,null,null,null,null,null,null,null],[null,null,null,null,null,null,null,null,null,null,null,null,null,0.6935542829390565,null,null,null,null,null,null,null,null,null,null,null,null,null,null,null,null,null,null],[null,null,null,null,null,null,null,null,null,null,null,null,0.6943089838332092,null,null,null,null,null,null,null,null,null,null,null,null,null,null,null,null,null,null,null],[null,null,null,null,null,null,null,null,null,null,null,null,null,null,null,null,null,null,0.693591187113198,null,null,null,null,null,null,null,null,null,null,null,null,null],[null,null,null,null,null,null,null,null,null,null,null,null,null,null,null,null,null,null,null,null,0.6959200834346936,null,null,null,null,null,null,null,null,null,null,null],[null,null,null,null,null,null,null,null,null,null,null,null,null,null,null,null,null,null,null,0.6938360625356248,null,null,null,null,null,null,null,null,null,null,null,null],[null,null,null,null,null,null,null,null,null,null,null,null,null,null,null,null,null,null,null,null,null,null,0.693914913255373,null,null,null,null,null,null,null,null,null],[null,null,null,null,null,null,null,null,null,null,null,null,null,null,null,null,null,null,null,null,null,null,null,null,0.6944885487054301,null,null,null,null,null,null,null],[null,null,null,null,null,null,null,null,null,null,null,null,null,null,null,null,null,null,null,null,null,null,null,null,null,null,null,0.6944846155196019,null,null,null,null],[null,null,null,null,null,null,null,null,null,null,null,null,null,null,null,null,null,null,null,null,null,null,null,null,null,null,null,null,null,0.6940379277071517,null,null],[null,null,null,null,null,null,null,null,null,null,null,null,null,null,null,null,null,null,null,null,null,null,null,null,null,null,null,null,null,null,0.6939115270444567,null],[null,null,null,null,null,null,null,null,null,null,null,null,null,null,null,null,null,null,null,null,null,null,null,0.6943462440470015,null,null,null,null,null,null,null,null],[null,null,null,null,null,null,null,null,null,null,null,null,null,null,null,null,null,null,null,null,null,null,null,null,null,null,null,null,null,null,null,null]],\"type\":\"contour\",\"xaxis\":\"x5\",\"yaxis\":\"y5\"},{\"marker\":{\"color\":\"black\",\"line\":{\"color\":\"Grey\",\"width\":2.0}},\"mode\":\"markers\",\"showlegend\":false,\"x\":[0.4348429234492534,0.09312251959356671,0.8412297934898233,0.04463255787642826,0.04666745779999696,0.03159184891715514,1.1915500602396365,4.163437798039945,0.007905253216117727,0.04209953897705973,0.002594076580843996,0.0019148520068499447,0.0024329321004164955,0.006751748833417629,0.009180904558053095,0.0011882515888301454,0.006340039053172186,0.01215509848924689,0.015392717221426598,0.01217912118005183,0.004698288623657545,0.0027705985023503497,0.0014294541005270703,0.01814527904622163,0.0011837784304051014,0.0010525511752209125,0.004989471976219203,0.0043426911162548106,0.0027396996575326715,0.0010066563560293743],\"y\":[1.9667481406421725,0.04491530328482411,0.0037975169660207555,1.576599714659842,0.05560048374237357,1.400107779272326,2.579333289381324,3.715190431139016,0.0020398469229905083,3.7967018570884883,0.0013562555876902754,0.001125473025758493,0.005536311074812878,0.00839580750306482,0.010390740609735844,0.0037632884785841086,0.022455014914941097,0.12880696524618357,0.22575502469787082,0.29512373364304995,0.12287236597079097,0.0029892136067502873,0.01680378613336017,0.015260738924432601,0.026396634025159925,0.033714165900322446,0.07864582157862672,0.05867186823460241,0.02495347789011267,0.007677466317961357],\"type\":\"scatter\",\"xaxis\":\"x5\",\"yaxis\":\"y5\"},{\"colorbar\":{\"title\":{\"text\":\"Objective Value\"}},\"colorscale\":[[0.0,\"rgb(247,251,255)\"],[0.125,\"rgb(222,235,247)\"],[0.25,\"rgb(198,219,239)\"],[0.375,\"rgb(158,202,225)\"],[0.5,\"rgb(107,174,214)\"],[0.625,\"rgb(66,146,198)\"],[0.75,\"rgb(33,113,181)\"],[0.875,\"rgb(8,81,156)\"],[1.0,\"rgb(8,48,107)\"]],\"connectgaps\":true,\"contours\":{\"coloring\":\"heatmap\"},\"hoverinfo\":\"none\",\"line\":{\"smoothing\":1.3},\"reversescale\":true,\"showscale\":false,\"x\":[0.0006638236149298925,0.0010066563560293743,0.0010525511752209125,0.0011837784304051014,0.0011882515888301454,0.0014294541005270703,0.0019148520068499447,0.0024329321004164955,0.002594076580843996,0.0027396996575326715,0.0027705985023503497,0.0043426911162548106,0.004698288623657545,0.004989471976219203,0.006340039053172186,0.006751748833417629,0.007905253216117727,0.009180904558053095,0.01215509848924689,0.01217912118005183,0.015392717221426598,0.01814527904622163,0.03159184891715514,0.04209953897705973,0.04463255787642826,0.04666745779999696,0.09312251959356671,0.4348429234492534,0.8412297934898233,1.1915500602396365,4.163437798039945,6.313651741317592],\"y\":[0.0074,0.008,0.01,0.012,0.014,0.016,0.018,0.02,0.0206],\"z\":[[null,null,null,null,null,null,null,null,null,null,null,null,null,null,null,null,null,null,null,null,null,null,null,null,null,null,null,null,null,null,null,null],[null,0.6952398827643609,0.6945154768722406,0.6935714818201523,null,null,null,null,null,0.6941073090315518,null,0.6936223036247584,null,0.6935542829390565,null,null,null,null,null,null,null,null,null,null,null,null,null,null,null,0.6940379277071517,null,null],[null,null,null,null,null,0.6936126422062017,null,0.6936467347782026,null,null,0.6951618359997397,null,null,null,null,0.6948742267072898,0.6935888816225663,0.6938217733107468,0.693591187113198,null,0.6959200834346936,0.6937474180318042,null,null,null,null,null,null,null,null,0.6939115270444567,null],[null,null,null,null,0.694043589635735,null,null,null,null,null,null,null,null,null,null,null,null,null,null,0.6938360625356248,null,null,null,null,null,null,null,null,null,null,null,null],[null,null,null,null,null,null,null,null,null,null,null,null,0.6943089838332092,null,0.6941006852008358,null,null,null,null,null,null,null,null,null,null,null,null,null,null,null,null,null],[null,null,null,null,null,null,0.6937444616806925,null,0.6936954919886753,null,null,null,null,null,null,null,null,null,null,null,null,null,null,null,null,null,null,null,null,null,null,null],[null,null,null,null,null,null,null,null,null,null,null,null,null,null,null,null,null,null,null,null,null,null,0.693914913255373,0.6943462440470015,null,null,0.6938416189571952,null,0.6951752754286008,null,null,null],[null,null,null,null,null,null,null,null,null,null,null,null,null,null,null,null,null,null,null,null,null,null,null,null,0.6944885487054301,0.6946582978052217,null,0.6944846155196019,null,null,null,null],[null,null,null,null,null,null,null,null,null,null,null,null,null,null,null,null,null,null,null,null,null,null,null,null,null,null,null,null,null,null,null,null]],\"type\":\"contour\",\"xaxis\":\"x9\",\"yaxis\":\"y9\"},{\"marker\":{\"color\":\"black\",\"line\":{\"color\":\"Grey\",\"width\":2.0}},\"mode\":\"markers\",\"showlegend\":false,\"x\":[0.4348429234492534,0.09312251959356671,0.8412297934898233,0.04463255787642826,0.04666745779999696,0.03159184891715514,1.1915500602396365,4.163437798039945,0.007905253216117727,0.04209953897705973,0.002594076580843996,0.0019148520068499447,0.0024329321004164955,0.006751748833417629,0.009180904558053095,0.0011882515888301454,0.006340039053172186,0.01215509848924689,0.015392717221426598,0.01217912118005183,0.004698288623657545,0.0027705985023503497,0.0014294541005270703,0.01814527904622163,0.0011837784304051014,0.0010525511752209125,0.004989471976219203,0.0043426911162548106,0.0027396996575326715,0.0010066563560293743],\"y\":[0.02,0.018,0.018,0.02,0.02,0.018,0.008,0.01,0.01,0.018,0.016,0.016,0.01,0.01,0.01,0.012,0.014,0.01,0.01,0.012,0.014,0.01,0.01,0.01,0.008,0.008,0.008,0.008,0.008,0.008],\"type\":\"scatter\",\"xaxis\":\"x9\",\"yaxis\":\"y9\"},{\"colorbar\":{\"title\":{\"text\":\"Objective Value\"}},\"colorscale\":[[0.0,\"rgb(247,251,255)\"],[0.125,\"rgb(222,235,247)\"],[0.25,\"rgb(198,219,239)\"],[0.375,\"rgb(158,202,225)\"],[0.5,\"rgb(107,174,214)\"],[0.625,\"rgb(66,146,198)\"],[0.75,\"rgb(33,113,181)\"],[0.875,\"rgb(8,81,156)\"],[1.0,\"rgb(8,48,107)\"]],\"connectgaps\":true,\"contours\":{\"coloring\":\"heatmap\"},\"hoverinfo\":\"none\",\"line\":{\"smoothing\":1.3},\"reversescale\":true,\"showscale\":false,\"x\":[0.0006638236149298925,0.0010066563560293743,0.0010525511752209125,0.0011837784304051014,0.0011882515888301454,0.0014294541005270703,0.0019148520068499447,0.0024329321004164955,0.002594076580843996,0.0027396996575326715,0.0027705985023503497,0.0043426911162548106,0.004698288623657545,0.004989471976219203,0.006340039053172186,0.006751748833417629,0.007905253216117727,0.009180904558053095,0.01215509848924689,0.01217912118005183,0.015392717221426598,0.01814527904622163,0.03159184891715514,0.04209953897705973,0.04463255787642826,0.04666745779999696,0.09312251959356671,0.4348429234492534,0.8412297934898233,1.1915500602396365,4.163437798039945,6.313651741317592],\"y\":[0.37,0.4,0.5,0.6,0.7,0.8,1.0,1.03],\"z\":[[null,null,null,null,null,null,null,null,null,null,null,null,null,null,null,null,null,null,null,null,null,null,null,null,null,null,null,null,null,null,null,null],[null,null,null,null,null,null,null,null,null,null,null,null,null,null,null,null,null,null,null,null,null,null,null,null,null,0.6946582978052217,null,0.6944846155196019,null,null,0.6939115270444567,null],[null,null,null,null,0.694043589635735,null,null,null,null,null,null,null,null,null,null,null,null,null,null,null,null,null,null,null,null,null,null,null,null,0.6940379277071517,null,null],[null,0.6952398827643609,null,null,null,null,null,null,null,0.6941073090315518,null,0.6936223036247584,null,0.6935542829390565,null,null,null,null,null,null,null,null,0.693914913255373,null,null,null,0.6938416189571952,null,null,null,null,null],[null,null,null,null,null,null,null,null,null,null,null,null,null,null,null,null,0.6935888816225663,null,null,0.6938360625356248,0.6959200834346936,null,null,0.6943462440470015,0.6944885487054301,null,null,null,0.6951752754286008,null,null,null],[null,null,null,0.6935714818201523,null,0.6936126422062017,0.6937444616806925,0.6936467347782026,0.6936954919886753,null,0.6951618359997397,null,0.6943089838332092,null,null,null,null,0.6938217733107468,0.693591187113198,null,null,0.6937474180318042,null,null,null,null,null,null,null,null,null,null],[null,null,0.6945154768722406,null,null,null,null,null,null,null,null,null,null,null,0.6941006852008358,0.6948742267072898,null,null,null,null,null,null,null,null,null,null,null,null,null,null,null,null],[null,null,null,null,null,null,null,null,null,null,null,null,null,null,null,null,null,null,null,null,null,null,null,null,null,null,null,null,null,null,null,null]],\"type\":\"contour\",\"xaxis\":\"x13\",\"yaxis\":\"y13\"},{\"marker\":{\"color\":\"black\",\"line\":{\"color\":\"Grey\",\"width\":2.0}},\"mode\":\"markers\",\"showlegend\":false,\"x\":[0.4348429234492534,0.09312251959356671,0.8412297934898233,0.04463255787642826,0.04666745779999696,0.03159184891715514,1.1915500602396365,4.163437798039945,0.007905253216117727,0.04209953897705973,0.002594076580843996,0.0019148520068499447,0.0024329321004164955,0.006751748833417629,0.009180904558053095,0.0011882515888301454,0.006340039053172186,0.01215509848924689,0.015392717221426598,0.01217912118005183,0.004698288623657545,0.0027705985023503497,0.0014294541005270703,0.01814527904622163,0.0011837784304051014,0.0010525511752209125,0.004989471976219203,0.0043426911162548106,0.0027396996575326715,0.0010066563560293743],\"y\":[0.4,0.6,0.7,0.7,0.4,0.6,0.5,0.4,0.7,0.7,0.8,0.8,0.8,1.0,0.8,0.5,1.0,0.8,0.7,0.7,0.8,0.8,0.8,0.8,0.8,1.0,0.6,0.6,0.6,0.6],\"type\":\"scatter\",\"xaxis\":\"x13\",\"yaxis\":\"y13\"},{\"colorbar\":{\"title\":{\"text\":\"Objective Value\"}},\"colorscale\":[[0.0,\"rgb(247,251,255)\"],[0.125,\"rgb(222,235,247)\"],[0.25,\"rgb(198,219,239)\"],[0.375,\"rgb(158,202,225)\"],[0.5,\"rgb(107,174,214)\"],[0.625,\"rgb(66,146,198)\"],[0.75,\"rgb(33,113,181)\"],[0.875,\"rgb(8,81,156)\"],[1.0,\"rgb(8,48,107)\"]],\"connectgaps\":true,\"contours\":{\"coloring\":\"heatmap\"},\"hoverinfo\":\"none\",\"line\":{\"smoothing\":1.3},\"reversescale\":true,\"showscale\":false,\"x\":[0.0007497759754525195,0.001125473025758493,0.0013562555876902754,0.0020398469229905083,0.0029892136067502873,0.0037632884785841086,0.0037975169660207555,0.005536311074812878,0.007677466317961357,0.00839580750306482,0.010390740609735844,0.015260738924432601,0.01680378613336017,0.022455014914941097,0.02495347789011267,0.026396634025159925,0.033714165900322446,0.04491530328482411,0.05560048374237357,0.05867186823460241,0.07864582157862672,0.12287236597079097,0.12880696524618357,0.22575502469787082,0.29512373364304995,1.400107779272326,1.576599714659842,1.9667481406421725,2.579333289381324,3.715190431139016,3.7967018570884883,5.699149701911024],\"y\":[0.0006638236149298925,0.0010066563560293743,0.0010525511752209125,0.0011837784304051014,0.0011882515888301454,0.0014294541005270703,0.0019148520068499447,0.0024329321004164955,0.002594076580843996,0.0027396996575326715,0.0027705985023503497,0.0043426911162548106,0.004698288623657545,0.004989471976219203,0.006340039053172186,0.006751748833417629,0.007905253216117727,0.009180904558053095,0.01215509848924689,0.01217912118005183,0.015392717221426598,0.01814527904622163,0.03159184891715514,0.04209953897705973,0.04463255787642826,0.04666745779999696,0.09312251959356671,0.4348429234492534,0.8412297934898233,1.1915500602396365,4.163437798039945,6.313651741317592],\"z\":[[null,null,null,null,null,null,null,null,null,null,null,null,null,null,null,null,null,null,null,null,null,null,null,null,null,null,null,null,null,null,null,null],[null,null,null,null,null,null,null,null,0.6952398827643609,null,null,null,null,null,null,null,null,null,null,null,null,null,null,null,null,null,null,null,null,null,null,null],[null,null,null,null,null,null,null,null,null,null,null,null,null,null,null,null,0.6945154768722406,null,null,null,null,null,null,null,null,null,null,null,null,null,null,null],[null,null,null,null,null,null,null,null,null,null,null,null,null,null,null,0.6935714818201523,null,null,null,null,null,null,null,null,null,null,null,null,null,null,null,null],[null,null,null,null,null,0.694043589635735,null,null,null,null,null,null,null,null,null,null,null,null,null,null,null,null,null,null,null,null,null,null,null,null,null,null],[null,null,null,null,null,null,null,null,null,null,null,null,0.6936126422062017,null,null,null,null,null,null,null,null,null,null,null,null,null,null,null,null,null,null,null],[null,0.6937444616806925,null,null,null,null,null,null,null,null,null,null,null,null,null,null,null,null,null,null,null,null,null,null,null,null,null,null,null,null,null,null],[null,null,null,null,null,null,null,0.6936467347782026,null,null,null,null,null,null,null,null,null,null,null,null,null,null,null,null,null,null,null,null,null,null,null,null],[null,null,0.6936954919886753,null,null,null,null,null,null,null,null,null,null,null,null,null,null,null,null,null,null,null,null,null,null,null,null,null,null,null,null,null],[null,null,null,null,null,null,null,null,null,null,null,null,null,null,0.6941073090315518,null,null,null,null,null,null,null,null,null,null,null,null,null,null,null,null,null],[null,null,null,null,0.6951618359997397,null,null,null,null,null,null,null,null,null,null,null,null,null,null,null,null,null,null,null,null,null,null,null,null,null,null,null],[null,null,null,null,null,null,null,null,null,null,null,null,null,null,null,null,null,null,null,0.6936223036247584,null,null,null,null,null,null,null,null,null,null,null,null],[null,null,null,null,null,null,null,null,null,null,null,null,null,null,null,null,null,null,null,null,null,0.6943089838332092,null,null,null,null,null,null,null,null,null,null],[null,null,null,null,null,null,null,null,null,null,null,null,null,null,null,null,null,null,null,null,0.6935542829390565,null,null,null,null,null,null,null,null,null,null,null],[null,null,null,null,null,null,null,null,null,null,null,null,null,0.6941006852008358,null,null,null,null,null,null,null,null,null,null,null,null,null,null,null,null,null,null],[null,null,null,null,null,null,null,null,null,0.6948742267072898,null,null,null,null,null,null,null,null,null,null,null,null,null,null,null,null,null,null,null,null,null,null],[null,null,null,0.6935888816225663,null,null,null,null,null,null,null,null,null,null,null,null,null,null,null,null,null,null,null,null,null,null,null,null,null,null,null,null],[null,null,null,null,null,null,null,null,null,null,0.6938217733107468,null,null,null,null,null,null,null,null,null,null,null,null,null,null,null,null,null,null,null,null,null],[null,null,null,null,null,null,null,null,null,null,null,null,null,null,null,null,null,null,null,null,null,null,0.693591187113198,null,null,null,null,null,null,null,null,null],[null,null,null,null,null,null,null,null,null,null,null,null,null,null,null,null,null,null,null,null,null,null,null,null,0.6938360625356248,null,null,null,null,null,null,null],[null,null,null,null,null,null,null,null,null,null,null,null,null,null,null,null,null,null,null,null,null,null,null,0.6959200834346936,null,null,null,null,null,null,null,null],[null,null,null,null,null,null,null,null,null,null,null,0.6937474180318042,null,null,null,null,null,null,null,null,null,null,null,null,null,null,null,null,null,null,null,null],[null,null,null,null,null,null,null,null,null,null,null,null,null,null,null,null,null,null,null,null,null,null,null,null,null,0.693914913255373,null,null,null,null,null,null],[null,null,null,null,null,null,null,null,null,null,null,null,null,null,null,null,null,null,null,null,null,null,null,null,null,null,null,null,null,null,0.6943462440470015,null],[null,null,null,null,null,null,null,null,null,null,null,null,null,null,null,null,null,null,null,null,null,null,null,null,null,null,0.6944885487054301,null,null,null,null,null],[null,null,null,null,null,null,null,null,null,null,null,null,null,null,null,null,null,null,0.6946582978052217,null,null,null,null,null,null,null,null,null,null,null,null,null],[null,null,null,null,null,null,null,null,null,null,null,null,null,null,null,null,null,0.6938416189571952,null,null,null,null,null,null,null,null,null,null,null,null,null,null],[null,null,null,null,null,null,null,null,null,null,null,null,null,null,null,null,null,null,null,null,null,null,null,null,null,null,null,0.6944846155196019,null,null,null,null],[null,null,null,null,null,null,0.6951752754286008,null,null,null,null,null,null,null,null,null,null,null,null,null,null,null,null,null,null,null,null,null,null,null,null,null],[null,null,null,null,null,null,null,null,null,null,null,null,null,null,null,null,null,null,null,null,null,null,null,null,null,null,null,null,0.6940379277071517,null,null,null],[null,null,null,null,null,null,null,null,null,null,null,null,null,null,null,null,null,null,null,null,null,null,null,null,null,null,null,null,null,0.6939115270444567,null,null],[null,null,null,null,null,null,null,null,null,null,null,null,null,null,null,null,null,null,null,null,null,null,null,null,null,null,null,null,null,null,null,null]],\"type\":\"contour\",\"xaxis\":\"x2\",\"yaxis\":\"y2\"},{\"marker\":{\"color\":\"black\",\"line\":{\"color\":\"Grey\",\"width\":2.0}},\"mode\":\"markers\",\"showlegend\":false,\"x\":[1.9667481406421725,0.04491530328482411,0.0037975169660207555,1.576599714659842,0.05560048374237357,1.400107779272326,2.579333289381324,3.715190431139016,0.0020398469229905083,3.7967018570884883,0.0013562555876902754,0.001125473025758493,0.005536311074812878,0.00839580750306482,0.010390740609735844,0.0037632884785841086,0.022455014914941097,0.12880696524618357,0.22575502469787082,0.29512373364304995,0.12287236597079097,0.0029892136067502873,0.01680378613336017,0.015260738924432601,0.026396634025159925,0.033714165900322446,0.07864582157862672,0.05867186823460241,0.02495347789011267,0.007677466317961357],\"y\":[0.4348429234492534,0.09312251959356671,0.8412297934898233,0.04463255787642826,0.04666745779999696,0.03159184891715514,1.1915500602396365,4.163437798039945,0.007905253216117727,0.04209953897705973,0.002594076580843996,0.0019148520068499447,0.0024329321004164955,0.006751748833417629,0.009180904558053095,0.0011882515888301454,0.006340039053172186,0.01215509848924689,0.015392717221426598,0.01217912118005183,0.004698288623657545,0.0027705985023503497,0.0014294541005270703,0.01814527904622163,0.0011837784304051014,0.0010525511752209125,0.004989471976219203,0.0043426911162548106,0.0027396996575326715,0.0010066563560293743],\"type\":\"scatter\",\"xaxis\":\"x2\",\"yaxis\":\"y2\"},{\"type\":\"scatter\",\"xaxis\":\"x6\",\"yaxis\":\"y6\"},{\"colorbar\":{\"title\":{\"text\":\"Objective Value\"}},\"colorscale\":[[0.0,\"rgb(247,251,255)\"],[0.125,\"rgb(222,235,247)\"],[0.25,\"rgb(198,219,239)\"],[0.375,\"rgb(158,202,225)\"],[0.5,\"rgb(107,174,214)\"],[0.625,\"rgb(66,146,198)\"],[0.75,\"rgb(33,113,181)\"],[0.875,\"rgb(8,81,156)\"],[1.0,\"rgb(8,48,107)\"]],\"connectgaps\":true,\"contours\":{\"coloring\":\"heatmap\"},\"hoverinfo\":\"none\",\"line\":{\"smoothing\":1.3},\"reversescale\":true,\"showscale\":false,\"x\":[0.0007497759754525195,0.001125473025758493,0.0013562555876902754,0.0020398469229905083,0.0029892136067502873,0.0037632884785841086,0.0037975169660207555,0.005536311074812878,0.007677466317961357,0.00839580750306482,0.010390740609735844,0.015260738924432601,0.01680378613336017,0.022455014914941097,0.02495347789011267,0.026396634025159925,0.033714165900322446,0.04491530328482411,0.05560048374237357,0.05867186823460241,0.07864582157862672,0.12287236597079097,0.12880696524618357,0.22575502469787082,0.29512373364304995,1.400107779272326,1.576599714659842,1.9667481406421725,2.579333289381324,3.715190431139016,3.7967018570884883,5.699149701911024],\"y\":[0.0074,0.008,0.01,0.012,0.014,0.016,0.018,0.02,0.0206],\"z\":[[null,null,null,null,null,null,null,null,null,null,null,null,null,null,null,null,null,null,null,null,null,null,null,null,null,null,null,null,null,null,null,null],[null,null,null,null,null,null,null,null,0.6952398827643609,null,null,null,null,null,0.6941073090315518,0.6935714818201523,0.6945154768722406,null,null,0.6936223036247584,0.6935542829390565,null,null,null,null,null,null,null,0.6940379277071517,null,null,null],[null,null,null,0.6935888816225663,0.6951618359997397,null,null,0.6936467347782026,null,0.6948742267072898,0.6938217733107468,0.6937474180318042,0.6936126422062017,null,null,null,null,null,null,null,null,null,0.693591187113198,0.6959200834346936,null,null,null,null,null,0.6939115270444567,null,null],[null,null,null,null,null,0.694043589635735,null,null,null,null,null,null,null,null,null,null,null,null,null,null,null,null,null,null,0.6938360625356248,null,null,null,null,null,null,null],[null,null,null,null,null,null,null,null,null,null,null,null,null,0.6941006852008358,null,null,null,null,null,null,null,0.6943089838332092,null,null,null,null,null,null,null,null,null,null],[null,0.6937444616806925,0.6936954919886753,null,null,null,null,null,null,null,null,null,null,null,null,null,null,null,null,null,null,null,null,null,null,null,null,null,null,null,null,null],[null,null,null,null,null,null,0.6951752754286008,null,null,null,null,null,null,null,null,null,null,0.6938416189571952,null,null,null,null,null,null,null,0.693914913255373,null,null,null,null,0.6943462440470015,null],[null,null,null,null,null,null,null,null,null,null,null,null,null,null,null,null,null,null,0.6946582978052217,null,null,null,null,null,null,null,0.6944885487054301,0.6944846155196019,null,null,null,null],[null,null,null,null,null,null,null,null,null,null,null,null,null,null,null,null,null,null,null,null,null,null,null,null,null,null,null,null,null,null,null,null]],\"type\":\"contour\",\"xaxis\":\"x10\",\"yaxis\":\"y10\"},{\"marker\":{\"color\":\"black\",\"line\":{\"color\":\"Grey\",\"width\":2.0}},\"mode\":\"markers\",\"showlegend\":false,\"x\":[1.9667481406421725,0.04491530328482411,0.0037975169660207555,1.576599714659842,0.05560048374237357,1.400107779272326,2.579333289381324,3.715190431139016,0.0020398469229905083,3.7967018570884883,0.0013562555876902754,0.001125473025758493,0.005536311074812878,0.00839580750306482,0.010390740609735844,0.0037632884785841086,0.022455014914941097,0.12880696524618357,0.22575502469787082,0.29512373364304995,0.12287236597079097,0.0029892136067502873,0.01680378613336017,0.015260738924432601,0.026396634025159925,0.033714165900322446,0.07864582157862672,0.05867186823460241,0.02495347789011267,0.007677466317961357],\"y\":[0.02,0.018,0.018,0.02,0.02,0.018,0.008,0.01,0.01,0.018,0.016,0.016,0.01,0.01,0.01,0.012,0.014,0.01,0.01,0.012,0.014,0.01,0.01,0.01,0.008,0.008,0.008,0.008,0.008,0.008],\"type\":\"scatter\",\"xaxis\":\"x10\",\"yaxis\":\"y10\"},{\"colorbar\":{\"title\":{\"text\":\"Objective Value\"}},\"colorscale\":[[0.0,\"rgb(247,251,255)\"],[0.125,\"rgb(222,235,247)\"],[0.25,\"rgb(198,219,239)\"],[0.375,\"rgb(158,202,225)\"],[0.5,\"rgb(107,174,214)\"],[0.625,\"rgb(66,146,198)\"],[0.75,\"rgb(33,113,181)\"],[0.875,\"rgb(8,81,156)\"],[1.0,\"rgb(8,48,107)\"]],\"connectgaps\":true,\"contours\":{\"coloring\":\"heatmap\"},\"hoverinfo\":\"none\",\"line\":{\"smoothing\":1.3},\"reversescale\":true,\"showscale\":false,\"x\":[0.0007497759754525195,0.001125473025758493,0.0013562555876902754,0.0020398469229905083,0.0029892136067502873,0.0037632884785841086,0.0037975169660207555,0.005536311074812878,0.007677466317961357,0.00839580750306482,0.010390740609735844,0.015260738924432601,0.01680378613336017,0.022455014914941097,0.02495347789011267,0.026396634025159925,0.033714165900322446,0.04491530328482411,0.05560048374237357,0.05867186823460241,0.07864582157862672,0.12287236597079097,0.12880696524618357,0.22575502469787082,0.29512373364304995,1.400107779272326,1.576599714659842,1.9667481406421725,2.579333289381324,3.715190431139016,3.7967018570884883,5.699149701911024],\"y\":[0.37,0.4,0.5,0.6,0.7,0.8,1.0,1.03],\"z\":[[null,null,null,null,null,null,null,null,null,null,null,null,null,null,null,null,null,null,null,null,null,null,null,null,null,null,null,null,null,null,null,null],[null,null,null,null,null,null,null,null,null,null,null,null,null,null,null,null,null,null,0.6946582978052217,null,null,null,null,null,null,null,null,0.6944846155196019,null,0.6939115270444567,null,null],[null,null,null,null,null,0.694043589635735,null,null,null,null,null,null,null,null,null,null,null,null,null,null,null,null,null,null,null,null,null,null,0.6940379277071517,null,null,null],[null,null,null,null,null,null,null,null,0.6952398827643609,null,null,null,null,null,0.6941073090315518,null,null,0.6938416189571952,null,0.6936223036247584,0.6935542829390565,null,null,null,null,0.693914913255373,null,null,null,null,null,null],[null,null,null,0.6935888816225663,null,null,0.6951752754286008,null,null,null,null,null,null,null,null,null,null,null,null,null,null,null,null,0.6959200834346936,0.6938360625356248,null,0.6944885487054301,null,null,null,0.6943462440470015,null],[null,0.6937444616806925,0.6936954919886753,null,0.6951618359997397,null,null,0.6936467347782026,null,null,0.6938217733107468,0.6937474180318042,0.6936126422062017,null,null,0.6935714818201523,null,null,null,null,null,0.6943089838332092,0.693591187113198,null,null,null,null,null,null,null,null,null],[null,null,null,null,null,null,null,null,null,0.6948742267072898,null,null,null,0.6941006852008358,null,null,0.6945154768722406,null,null,null,null,null,null,null,null,null,null,null,null,null,null,null],[null,null,null,null,null,null,null,null,null,null,null,null,null,null,null,null,null,null,null,null,null,null,null,null,null,null,null,null,null,null,null,null]],\"type\":\"contour\",\"xaxis\":\"x14\",\"yaxis\":\"y14\"},{\"marker\":{\"color\":\"black\",\"line\":{\"color\":\"Grey\",\"width\":2.0}},\"mode\":\"markers\",\"showlegend\":false,\"x\":[1.9667481406421725,0.04491530328482411,0.0037975169660207555,1.576599714659842,0.05560048374237357,1.400107779272326,2.579333289381324,3.715190431139016,0.0020398469229905083,3.7967018570884883,0.0013562555876902754,0.001125473025758493,0.005536311074812878,0.00839580750306482,0.010390740609735844,0.0037632884785841086,0.022455014914941097,0.12880696524618357,0.22575502469787082,0.29512373364304995,0.12287236597079097,0.0029892136067502873,0.01680378613336017,0.015260738924432601,0.026396634025159925,0.033714165900322446,0.07864582157862672,0.05867186823460241,0.02495347789011267,0.007677466317961357],\"y\":[0.4,0.6,0.7,0.7,0.4,0.6,0.5,0.4,0.7,0.7,0.8,0.8,0.8,1.0,0.8,0.5,1.0,0.8,0.7,0.7,0.8,0.8,0.8,0.8,0.8,1.0,0.6,0.6,0.6,0.6],\"type\":\"scatter\",\"xaxis\":\"x14\",\"yaxis\":\"y14\"},{\"colorbar\":{\"title\":{\"text\":\"Objective Value\"}},\"colorscale\":[[0.0,\"rgb(247,251,255)\"],[0.125,\"rgb(222,235,247)\"],[0.25,\"rgb(198,219,239)\"],[0.375,\"rgb(158,202,225)\"],[0.5,\"rgb(107,174,214)\"],[0.625,\"rgb(66,146,198)\"],[0.75,\"rgb(33,113,181)\"],[0.875,\"rgb(8,81,156)\"],[1.0,\"rgb(8,48,107)\"]],\"connectgaps\":true,\"contours\":{\"coloring\":\"heatmap\"},\"hoverinfo\":\"none\",\"line\":{\"smoothing\":1.3},\"reversescale\":true,\"showscale\":false,\"x\":[0.0074,0.008,0.01,0.012,0.014,0.016,0.018,0.02,0.0206],\"y\":[0.0006638236149298925,0.0010066563560293743,0.0010525511752209125,0.0011837784304051014,0.0011882515888301454,0.0014294541005270703,0.0019148520068499447,0.0024329321004164955,0.002594076580843996,0.0027396996575326715,0.0027705985023503497,0.0043426911162548106,0.004698288623657545,0.004989471976219203,0.006340039053172186,0.006751748833417629,0.007905253216117727,0.009180904558053095,0.01215509848924689,0.01217912118005183,0.015392717221426598,0.01814527904622163,0.03159184891715514,0.04209953897705973,0.04463255787642826,0.04666745779999696,0.09312251959356671,0.4348429234492534,0.8412297934898233,1.1915500602396365,4.163437798039945,6.313651741317592],\"z\":[[null,null,null,null,null,null,null,null,null],[null,0.6952398827643609,null,null,null,null,null,null,null],[null,0.6945154768722406,null,null,null,null,null,null,null],[null,0.6935714818201523,null,null,null,null,null,null,null],[null,null,null,0.694043589635735,null,null,null,null,null],[null,null,0.6936126422062017,null,null,null,null,null,null],[null,null,null,null,null,0.6937444616806925,null,null,null],[null,null,0.6936467347782026,null,null,null,null,null,null],[null,null,null,null,null,0.6936954919886753,null,null,null],[null,0.6941073090315518,null,null,null,null,null,null,null],[null,null,0.6951618359997397,null,null,null,null,null,null],[null,0.6936223036247584,null,null,null,null,null,null,null],[null,null,null,null,0.6943089838332092,null,null,null,null],[null,0.6935542829390565,null,null,null,null,null,null,null],[null,null,null,null,0.6941006852008358,null,null,null,null],[null,null,0.6948742267072898,null,null,null,null,null,null],[null,null,0.6935888816225663,null,null,null,null,null,null],[null,null,0.6938217733107468,null,null,null,null,null,null],[null,null,0.693591187113198,null,null,null,null,null,null],[null,null,null,0.6938360625356248,null,null,null,null,null],[null,null,0.6959200834346936,null,null,null,null,null,null],[null,null,0.6937474180318042,null,null,null,null,null,null],[null,null,null,null,null,null,0.693914913255373,null,null],[null,null,null,null,null,null,0.6943462440470015,null,null],[null,null,null,null,null,null,null,0.6944885487054301,null],[null,null,null,null,null,null,null,0.6946582978052217,null],[null,null,null,null,null,null,0.6938416189571952,null,null],[null,null,null,null,null,null,null,0.6944846155196019,null],[null,null,null,null,null,null,0.6951752754286008,null,null],[null,0.6940379277071517,null,null,null,null,null,null,null],[null,null,0.6939115270444567,null,null,null,null,null,null],[null,null,null,null,null,null,null,null,null]],\"type\":\"contour\",\"xaxis\":\"x3\",\"yaxis\":\"y3\"},{\"marker\":{\"color\":\"black\",\"line\":{\"color\":\"Grey\",\"width\":2.0}},\"mode\":\"markers\",\"showlegend\":false,\"x\":[0.02,0.018,0.018,0.02,0.02,0.018,0.008,0.01,0.01,0.018,0.016,0.016,0.01,0.01,0.01,0.012,0.014,0.01,0.01,0.012,0.014,0.01,0.01,0.01,0.008,0.008,0.008,0.008,0.008,0.008],\"y\":[0.4348429234492534,0.09312251959356671,0.8412297934898233,0.04463255787642826,0.04666745779999696,0.03159184891715514,1.1915500602396365,4.163437798039945,0.007905253216117727,0.04209953897705973,0.002594076580843996,0.0019148520068499447,0.0024329321004164955,0.006751748833417629,0.009180904558053095,0.0011882515888301454,0.006340039053172186,0.01215509848924689,0.015392717221426598,0.01217912118005183,0.004698288623657545,0.0027705985023503497,0.0014294541005270703,0.01814527904622163,0.0011837784304051014,0.0010525511752209125,0.004989471976219203,0.0043426911162548106,0.0027396996575326715,0.0010066563560293743],\"type\":\"scatter\",\"xaxis\":\"x3\",\"yaxis\":\"y3\"},{\"colorbar\":{\"title\":{\"text\":\"Objective Value\"}},\"colorscale\":[[0.0,\"rgb(247,251,255)\"],[0.125,\"rgb(222,235,247)\"],[0.25,\"rgb(198,219,239)\"],[0.375,\"rgb(158,202,225)\"],[0.5,\"rgb(107,174,214)\"],[0.625,\"rgb(66,146,198)\"],[0.75,\"rgb(33,113,181)\"],[0.875,\"rgb(8,81,156)\"],[1.0,\"rgb(8,48,107)\"]],\"connectgaps\":true,\"contours\":{\"coloring\":\"heatmap\"},\"hoverinfo\":\"none\",\"line\":{\"smoothing\":1.3},\"reversescale\":true,\"showscale\":false,\"x\":[0.0074,0.008,0.01,0.012,0.014,0.016,0.018,0.02,0.0206],\"y\":[0.0007497759754525195,0.001125473025758493,0.0013562555876902754,0.0020398469229905083,0.0029892136067502873,0.0037632884785841086,0.0037975169660207555,0.005536311074812878,0.007677466317961357,0.00839580750306482,0.010390740609735844,0.015260738924432601,0.01680378613336017,0.022455014914941097,0.02495347789011267,0.026396634025159925,0.033714165900322446,0.04491530328482411,0.05560048374237357,0.05867186823460241,0.07864582157862672,0.12287236597079097,0.12880696524618357,0.22575502469787082,0.29512373364304995,1.400107779272326,1.576599714659842,1.9667481406421725,2.579333289381324,3.715190431139016,3.7967018570884883,5.699149701911024],\"z\":[[null,null,null,null,null,null,null,null,null],[null,null,null,null,null,0.6937444616806925,null,null,null],[null,null,null,null,null,0.6936954919886753,null,null,null],[null,null,0.6935888816225663,null,null,null,null,null,null],[null,null,0.6951618359997397,null,null,null,null,null,null],[null,null,null,0.694043589635735,null,null,null,null,null],[null,null,null,null,null,null,0.6951752754286008,null,null],[null,null,0.6936467347782026,null,null,null,null,null,null],[null,0.6952398827643609,null,null,null,null,null,null,null],[null,null,0.6948742267072898,null,null,null,null,null,null],[null,null,0.6938217733107468,null,null,null,null,null,null],[null,null,0.6937474180318042,null,null,null,null,null,null],[null,null,0.6936126422062017,null,null,null,null,null,null],[null,null,null,null,0.6941006852008358,null,null,null,null],[null,0.6941073090315518,null,null,null,null,null,null,null],[null,0.6935714818201523,null,null,null,null,null,null,null],[null,0.6945154768722406,null,null,null,null,null,null,null],[null,null,null,null,null,null,0.6938416189571952,null,null],[null,null,null,null,null,null,null,0.6946582978052217,null],[null,0.6936223036247584,null,null,null,null,null,null,null],[null,0.6935542829390565,null,null,null,null,null,null,null],[null,null,null,null,0.6943089838332092,null,null,null,null],[null,null,0.693591187113198,null,null,null,null,null,null],[null,null,0.6959200834346936,null,null,null,null,null,null],[null,null,null,0.6938360625356248,null,null,null,null,null],[null,null,null,null,null,null,0.693914913255373,null,null],[null,null,null,null,null,null,null,0.6944885487054301,null],[null,null,null,null,null,null,null,0.6944846155196019,null],[null,0.6940379277071517,null,null,null,null,null,null,null],[null,null,0.6939115270444567,null,null,null,null,null,null],[null,null,null,null,null,null,0.6943462440470015,null,null],[null,null,null,null,null,null,null,null,null]],\"type\":\"contour\",\"xaxis\":\"x7\",\"yaxis\":\"y7\"},{\"marker\":{\"color\":\"black\",\"line\":{\"color\":\"Grey\",\"width\":2.0}},\"mode\":\"markers\",\"showlegend\":false,\"x\":[0.02,0.018,0.018,0.02,0.02,0.018,0.008,0.01,0.01,0.018,0.016,0.016,0.01,0.01,0.01,0.012,0.014,0.01,0.01,0.012,0.014,0.01,0.01,0.01,0.008,0.008,0.008,0.008,0.008,0.008],\"y\":[1.9667481406421725,0.04491530328482411,0.0037975169660207555,1.576599714659842,0.05560048374237357,1.400107779272326,2.579333289381324,3.715190431139016,0.0020398469229905083,3.7967018570884883,0.0013562555876902754,0.001125473025758493,0.005536311074812878,0.00839580750306482,0.010390740609735844,0.0037632884785841086,0.022455014914941097,0.12880696524618357,0.22575502469787082,0.29512373364304995,0.12287236597079097,0.0029892136067502873,0.01680378613336017,0.015260738924432601,0.026396634025159925,0.033714165900322446,0.07864582157862672,0.05867186823460241,0.02495347789011267,0.007677466317961357],\"type\":\"scatter\",\"xaxis\":\"x7\",\"yaxis\":\"y7\"},{\"type\":\"scatter\",\"xaxis\":\"x11\",\"yaxis\":\"y11\"},{\"colorbar\":{\"title\":{\"text\":\"Objective Value\"}},\"colorscale\":[[0.0,\"rgb(247,251,255)\"],[0.125,\"rgb(222,235,247)\"],[0.25,\"rgb(198,219,239)\"],[0.375,\"rgb(158,202,225)\"],[0.5,\"rgb(107,174,214)\"],[0.625,\"rgb(66,146,198)\"],[0.75,\"rgb(33,113,181)\"],[0.875,\"rgb(8,81,156)\"],[1.0,\"rgb(8,48,107)\"]],\"connectgaps\":true,\"contours\":{\"coloring\":\"heatmap\"},\"hoverinfo\":\"none\",\"line\":{\"smoothing\":1.3},\"reversescale\":true,\"showscale\":false,\"x\":[0.0074,0.008,0.01,0.012,0.014,0.016,0.018,0.02,0.0206],\"y\":[0.37,0.4,0.5,0.6,0.7,0.8,1.0,1.03],\"z\":[[null,null,null,null,null,null,null,null,null],[null,null,0.6939115270444567,null,null,null,null,0.6946582978052217,null],[null,0.6940379277071517,null,0.694043589635735,null,null,null,null,null],[null,0.6952398827643609,null,null,null,null,0.693914913255373,null,null],[null,null,0.6959200834346936,0.6938360625356248,null,null,0.6943462440470015,0.6944885487054301,null],[null,0.6935714818201523,0.6937474180318042,null,0.6943089838332092,0.6937444616806925,null,null,null],[null,0.6945154768722406,0.6948742267072898,null,0.6941006852008358,null,null,null,null],[null,null,null,null,null,null,null,null,null]],\"type\":\"contour\",\"xaxis\":\"x15\",\"yaxis\":\"y15\"},{\"marker\":{\"color\":\"black\",\"line\":{\"color\":\"Grey\",\"width\":2.0}},\"mode\":\"markers\",\"showlegend\":false,\"x\":[0.02,0.018,0.018,0.02,0.02,0.018,0.008,0.01,0.01,0.018,0.016,0.016,0.01,0.01,0.01,0.012,0.014,0.01,0.01,0.012,0.014,0.01,0.01,0.01,0.008,0.008,0.008,0.008,0.008,0.008],\"y\":[0.4,0.6,0.7,0.7,0.4,0.6,0.5,0.4,0.7,0.7,0.8,0.8,0.8,1.0,0.8,0.5,1.0,0.8,0.7,0.7,0.8,0.8,0.8,0.8,0.8,1.0,0.6,0.6,0.6,0.6],\"type\":\"scatter\",\"xaxis\":\"x15\",\"yaxis\":\"y15\"},{\"colorbar\":{\"title\":{\"text\":\"Objective Value\"}},\"colorscale\":[[0.0,\"rgb(247,251,255)\"],[0.125,\"rgb(222,235,247)\"],[0.25,\"rgb(198,219,239)\"],[0.375,\"rgb(158,202,225)\"],[0.5,\"rgb(107,174,214)\"],[0.625,\"rgb(66,146,198)\"],[0.75,\"rgb(33,113,181)\"],[0.875,\"rgb(8,81,156)\"],[1.0,\"rgb(8,48,107)\"]],\"connectgaps\":true,\"contours\":{\"coloring\":\"heatmap\"},\"hoverinfo\":\"none\",\"line\":{\"smoothing\":1.3},\"reversescale\":true,\"showscale\":false,\"x\":[0.37,0.4,0.5,0.6,0.7,0.8,1.0,1.03],\"y\":[0.0006638236149298925,0.0010066563560293743,0.0010525511752209125,0.0011837784304051014,0.0011882515888301454,0.0014294541005270703,0.0019148520068499447,0.0024329321004164955,0.002594076580843996,0.0027396996575326715,0.0027705985023503497,0.0043426911162548106,0.004698288623657545,0.004989471976219203,0.006340039053172186,0.006751748833417629,0.007905253216117727,0.009180904558053095,0.01215509848924689,0.01217912118005183,0.015392717221426598,0.01814527904622163,0.03159184891715514,0.04209953897705973,0.04463255787642826,0.04666745779999696,0.09312251959356671,0.4348429234492534,0.8412297934898233,1.1915500602396365,4.163437798039945,6.313651741317592],\"z\":[[null,null,null,null,null,null,null,null],[null,null,null,0.6952398827643609,null,null,null,null],[null,null,null,null,null,null,0.6945154768722406,null],[null,null,null,null,null,0.6935714818201523,null,null],[null,null,0.694043589635735,null,null,null,null,null],[null,null,null,null,null,0.6936126422062017,null,null],[null,null,null,null,null,0.6937444616806925,null,null],[null,null,null,null,null,0.6936467347782026,null,null],[null,null,null,null,null,0.6936954919886753,null,null],[null,null,null,0.6941073090315518,null,null,null,null],[null,null,null,null,null,0.6951618359997397,null,null],[null,null,null,0.6936223036247584,null,null,null,null],[null,null,null,null,null,0.6943089838332092,null,null],[null,null,null,0.6935542829390565,null,null,null,null],[null,null,null,null,null,null,0.6941006852008358,null],[null,null,null,null,null,null,0.6948742267072898,null],[null,null,null,null,0.6935888816225663,null,null,null],[null,null,null,null,null,0.6938217733107468,null,null],[null,null,null,null,null,0.693591187113198,null,null],[null,null,null,null,0.6938360625356248,null,null,null],[null,null,null,null,0.6959200834346936,null,null,null],[null,null,null,null,null,0.6937474180318042,null,null],[null,null,null,0.693914913255373,null,null,null,null],[null,null,null,null,0.6943462440470015,null,null,null],[null,null,null,null,0.6944885487054301,null,null,null],[null,0.6946582978052217,null,null,null,null,null,null],[null,null,null,0.6938416189571952,null,null,null,null],[null,0.6944846155196019,null,null,null,null,null,null],[null,null,null,null,0.6951752754286008,null,null,null],[null,null,0.6940379277071517,null,null,null,null,null],[null,0.6939115270444567,null,null,null,null,null,null],[null,null,null,null,null,null,null,null]],\"type\":\"contour\",\"xaxis\":\"x4\",\"yaxis\":\"y4\"},{\"marker\":{\"color\":\"black\",\"line\":{\"color\":\"Grey\",\"width\":2.0}},\"mode\":\"markers\",\"showlegend\":false,\"x\":[0.4,0.6,0.7,0.7,0.4,0.6,0.5,0.4,0.7,0.7,0.8,0.8,0.8,1.0,0.8,0.5,1.0,0.8,0.7,0.7,0.8,0.8,0.8,0.8,0.8,1.0,0.6,0.6,0.6,0.6],\"y\":[0.4348429234492534,0.09312251959356671,0.8412297934898233,0.04463255787642826,0.04666745779999696,0.03159184891715514,1.1915500602396365,4.163437798039945,0.007905253216117727,0.04209953897705973,0.002594076580843996,0.0019148520068499447,0.0024329321004164955,0.006751748833417629,0.009180904558053095,0.0011882515888301454,0.006340039053172186,0.01215509848924689,0.015392717221426598,0.01217912118005183,0.004698288623657545,0.0027705985023503497,0.0014294541005270703,0.01814527904622163,0.0011837784304051014,0.0010525511752209125,0.004989471976219203,0.0043426911162548106,0.0027396996575326715,0.0010066563560293743],\"type\":\"scatter\",\"xaxis\":\"x4\",\"yaxis\":\"y4\"},{\"colorbar\":{\"title\":{\"text\":\"Objective Value\"}},\"colorscale\":[[0.0,\"rgb(247,251,255)\"],[0.125,\"rgb(222,235,247)\"],[0.25,\"rgb(198,219,239)\"],[0.375,\"rgb(158,202,225)\"],[0.5,\"rgb(107,174,214)\"],[0.625,\"rgb(66,146,198)\"],[0.75,\"rgb(33,113,181)\"],[0.875,\"rgb(8,81,156)\"],[1.0,\"rgb(8,48,107)\"]],\"connectgaps\":true,\"contours\":{\"coloring\":\"heatmap\"},\"hoverinfo\":\"none\",\"line\":{\"smoothing\":1.3},\"reversescale\":true,\"showscale\":false,\"x\":[0.37,0.4,0.5,0.6,0.7,0.8,1.0,1.03],\"y\":[0.0007497759754525195,0.001125473025758493,0.0013562555876902754,0.0020398469229905083,0.0029892136067502873,0.0037632884785841086,0.0037975169660207555,0.005536311074812878,0.007677466317961357,0.00839580750306482,0.010390740609735844,0.015260738924432601,0.01680378613336017,0.022455014914941097,0.02495347789011267,0.026396634025159925,0.033714165900322446,0.04491530328482411,0.05560048374237357,0.05867186823460241,0.07864582157862672,0.12287236597079097,0.12880696524618357,0.22575502469787082,0.29512373364304995,1.400107779272326,1.576599714659842,1.9667481406421725,2.579333289381324,3.715190431139016,3.7967018570884883,5.699149701911024],\"z\":[[null,null,null,null,null,null,null,null],[null,null,null,null,null,0.6937444616806925,null,null],[null,null,null,null,null,0.6936954919886753,null,null],[null,null,null,null,0.6935888816225663,null,null,null],[null,null,null,null,null,0.6951618359997397,null,null],[null,null,0.694043589635735,null,null,null,null,null],[null,null,null,null,0.6951752754286008,null,null,null],[null,null,null,null,null,0.6936467347782026,null,null],[null,null,null,0.6952398827643609,null,null,null,null],[null,null,null,null,null,null,0.6948742267072898,null],[null,null,null,null,null,0.6938217733107468,null,null],[null,null,null,null,null,0.6937474180318042,null,null],[null,null,null,null,null,0.6936126422062017,null,null],[null,null,null,null,null,null,0.6941006852008358,null],[null,null,null,0.6941073090315518,null,null,null,null],[null,null,null,null,null,0.6935714818201523,null,null],[null,null,null,null,null,null,0.6945154768722406,null],[null,null,null,0.6938416189571952,null,null,null,null],[null,0.6946582978052217,null,null,null,null,null,null],[null,null,null,0.6936223036247584,null,null,null,null],[null,null,null,0.6935542829390565,null,null,null,null],[null,null,null,null,null,0.6943089838332092,null,null],[null,null,null,null,null,0.693591187113198,null,null],[null,null,null,null,0.6959200834346936,null,null,null],[null,null,null,null,0.6938360625356248,null,null,null],[null,null,null,0.693914913255373,null,null,null,null],[null,null,null,null,0.6944885487054301,null,null,null],[null,0.6944846155196019,null,null,null,null,null,null],[null,null,0.6940379277071517,null,null,null,null,null],[null,0.6939115270444567,null,null,null,null,null,null],[null,null,null,null,0.6943462440470015,null,null,null],[null,null,null,null,null,null,null,null]],\"type\":\"contour\",\"xaxis\":\"x8\",\"yaxis\":\"y8\"},{\"marker\":{\"color\":\"black\",\"line\":{\"color\":\"Grey\",\"width\":2.0}},\"mode\":\"markers\",\"showlegend\":false,\"x\":[0.4,0.6,0.7,0.7,0.4,0.6,0.5,0.4,0.7,0.7,0.8,0.8,0.8,1.0,0.8,0.5,1.0,0.8,0.7,0.7,0.8,0.8,0.8,0.8,0.8,1.0,0.6,0.6,0.6,0.6],\"y\":[1.9667481406421725,0.04491530328482411,0.0037975169660207555,1.576599714659842,0.05560048374237357,1.400107779272326,2.579333289381324,3.715190431139016,0.0020398469229905083,3.7967018570884883,0.0013562555876902754,0.001125473025758493,0.005536311074812878,0.00839580750306482,0.010390740609735844,0.0037632884785841086,0.022455014914941097,0.12880696524618357,0.22575502469787082,0.29512373364304995,0.12287236597079097,0.0029892136067502873,0.01680378613336017,0.015260738924432601,0.026396634025159925,0.033714165900322446,0.07864582157862672,0.05867186823460241,0.02495347789011267,0.007677466317961357],\"type\":\"scatter\",\"xaxis\":\"x8\",\"yaxis\":\"y8\"},{\"colorbar\":{\"title\":{\"text\":\"Objective Value\"}},\"colorscale\":[[0.0,\"rgb(247,251,255)\"],[0.125,\"rgb(222,235,247)\"],[0.25,\"rgb(198,219,239)\"],[0.375,\"rgb(158,202,225)\"],[0.5,\"rgb(107,174,214)\"],[0.625,\"rgb(66,146,198)\"],[0.75,\"rgb(33,113,181)\"],[0.875,\"rgb(8,81,156)\"],[1.0,\"rgb(8,48,107)\"]],\"connectgaps\":true,\"contours\":{\"coloring\":\"heatmap\"},\"hoverinfo\":\"none\",\"line\":{\"smoothing\":1.3},\"reversescale\":true,\"showscale\":false,\"x\":[0.37,0.4,0.5,0.6,0.7,0.8,1.0,1.03],\"y\":[0.0074,0.008,0.01,0.012,0.014,0.016,0.018,0.02,0.0206],\"z\":[[null,null,null,null,null,null,null,null],[null,null,0.6940379277071517,0.6952398827643609,null,0.6935714818201523,0.6945154768722406,null],[null,0.6939115270444567,null,null,0.6959200834346936,0.6937474180318042,0.6948742267072898,null],[null,null,0.694043589635735,null,0.6938360625356248,null,null,null],[null,null,null,null,null,0.6943089838332092,0.6941006852008358,null],[null,null,null,null,null,0.6937444616806925,null,null],[null,null,null,0.693914913255373,0.6943462440470015,null,null,null],[null,0.6946582978052217,null,null,0.6944885487054301,null,null,null],[null,null,null,null,null,null,null,null]],\"type\":\"contour\",\"xaxis\":\"x12\",\"yaxis\":\"y12\"},{\"marker\":{\"color\":\"black\",\"line\":{\"color\":\"Grey\",\"width\":2.0}},\"mode\":\"markers\",\"showlegend\":false,\"x\":[0.4,0.6,0.7,0.7,0.4,0.6,0.5,0.4,0.7,0.7,0.8,0.8,0.8,1.0,0.8,0.5,1.0,0.8,0.7,0.7,0.8,0.8,0.8,0.8,0.8,1.0,0.6,0.6,0.6,0.6],\"y\":[0.02,0.018,0.018,0.02,0.02,0.018,0.008,0.01,0.01,0.018,0.016,0.016,0.01,0.01,0.01,0.012,0.014,0.01,0.01,0.012,0.014,0.01,0.01,0.01,0.008,0.008,0.008,0.008,0.008,0.008],\"type\":\"scatter\",\"xaxis\":\"x12\",\"yaxis\":\"y12\"},{\"type\":\"scatter\",\"xaxis\":\"x16\",\"yaxis\":\"y16\"}],                        {\"template\":{\"data\":{\"histogram2dcontour\":[{\"type\":\"histogram2dcontour\",\"colorbar\":{\"outlinewidth\":0,\"ticks\":\"\"},\"colorscale\":[[0.0,\"#0d0887\"],[0.1111111111111111,\"#46039f\"],[0.2222222222222222,\"#7201a8\"],[0.3333333333333333,\"#9c179e\"],[0.4444444444444444,\"#bd3786\"],[0.5555555555555556,\"#d8576b\"],[0.6666666666666666,\"#ed7953\"],[0.7777777777777778,\"#fb9f3a\"],[0.8888888888888888,\"#fdca26\"],[1.0,\"#f0f921\"]]}],\"choropleth\":[{\"type\":\"choropleth\",\"colorbar\":{\"outlinewidth\":0,\"ticks\":\"\"}}],\"histogram2d\":[{\"type\":\"histogram2d\",\"colorbar\":{\"outlinewidth\":0,\"ticks\":\"\"},\"colorscale\":[[0.0,\"#0d0887\"],[0.1111111111111111,\"#46039f\"],[0.2222222222222222,\"#7201a8\"],[0.3333333333333333,\"#9c179e\"],[0.4444444444444444,\"#bd3786\"],[0.5555555555555556,\"#d8576b\"],[0.6666666666666666,\"#ed7953\"],[0.7777777777777778,\"#fb9f3a\"],[0.8888888888888888,\"#fdca26\"],[1.0,\"#f0f921\"]]}],\"heatmap\":[{\"type\":\"heatmap\",\"colorbar\":{\"outlinewidth\":0,\"ticks\":\"\"},\"colorscale\":[[0.0,\"#0d0887\"],[0.1111111111111111,\"#46039f\"],[0.2222222222222222,\"#7201a8\"],[0.3333333333333333,\"#9c179e\"],[0.4444444444444444,\"#bd3786\"],[0.5555555555555556,\"#d8576b\"],[0.6666666666666666,\"#ed7953\"],[0.7777777777777778,\"#fb9f3a\"],[0.8888888888888888,\"#fdca26\"],[1.0,\"#f0f921\"]]}],\"heatmapgl\":[{\"type\":\"heatmapgl\",\"colorbar\":{\"outlinewidth\":0,\"ticks\":\"\"},\"colorscale\":[[0.0,\"#0d0887\"],[0.1111111111111111,\"#46039f\"],[0.2222222222222222,\"#7201a8\"],[0.3333333333333333,\"#9c179e\"],[0.4444444444444444,\"#bd3786\"],[0.5555555555555556,\"#d8576b\"],[0.6666666666666666,\"#ed7953\"],[0.7777777777777778,\"#fb9f3a\"],[0.8888888888888888,\"#fdca26\"],[1.0,\"#f0f921\"]]}],\"contourcarpet\":[{\"type\":\"contourcarpet\",\"colorbar\":{\"outlinewidth\":0,\"ticks\":\"\"}}],\"contour\":[{\"type\":\"contour\",\"colorbar\":{\"outlinewidth\":0,\"ticks\":\"\"},\"colorscale\":[[0.0,\"#0d0887\"],[0.1111111111111111,\"#46039f\"],[0.2222222222222222,\"#7201a8\"],[0.3333333333333333,\"#9c179e\"],[0.4444444444444444,\"#bd3786\"],[0.5555555555555556,\"#d8576b\"],[0.6666666666666666,\"#ed7953\"],[0.7777777777777778,\"#fb9f3a\"],[0.8888888888888888,\"#fdca26\"],[1.0,\"#f0f921\"]]}],\"surface\":[{\"type\":\"surface\",\"colorbar\":{\"outlinewidth\":0,\"ticks\":\"\"},\"colorscale\":[[0.0,\"#0d0887\"],[0.1111111111111111,\"#46039f\"],[0.2222222222222222,\"#7201a8\"],[0.3333333333333333,\"#9c179e\"],[0.4444444444444444,\"#bd3786\"],[0.5555555555555556,\"#d8576b\"],[0.6666666666666666,\"#ed7953\"],[0.7777777777777778,\"#fb9f3a\"],[0.8888888888888888,\"#fdca26\"],[1.0,\"#f0f921\"]]}],\"mesh3d\":[{\"type\":\"mesh3d\",\"colorbar\":{\"outlinewidth\":0,\"ticks\":\"\"}}],\"scatter\":[{\"fillpattern\":{\"fillmode\":\"overlay\",\"size\":10,\"solidity\":0.2},\"type\":\"scatter\"}],\"parcoords\":[{\"type\":\"parcoords\",\"line\":{\"colorbar\":{\"outlinewidth\":0,\"ticks\":\"\"}}}],\"scatterpolargl\":[{\"type\":\"scatterpolargl\",\"marker\":{\"colorbar\":{\"outlinewidth\":0,\"ticks\":\"\"}}}],\"bar\":[{\"error_x\":{\"color\":\"#2a3f5f\"},\"error_y\":{\"color\":\"#2a3f5f\"},\"marker\":{\"line\":{\"color\":\"#E5ECF6\",\"width\":0.5},\"pattern\":{\"fillmode\":\"overlay\",\"size\":10,\"solidity\":0.2}},\"type\":\"bar\"}],\"scattergeo\":[{\"type\":\"scattergeo\",\"marker\":{\"colorbar\":{\"outlinewidth\":0,\"ticks\":\"\"}}}],\"scatterpolar\":[{\"type\":\"scatterpolar\",\"marker\":{\"colorbar\":{\"outlinewidth\":0,\"ticks\":\"\"}}}],\"histogram\":[{\"marker\":{\"pattern\":{\"fillmode\":\"overlay\",\"size\":10,\"solidity\":0.2}},\"type\":\"histogram\"}],\"scattergl\":[{\"type\":\"scattergl\",\"marker\":{\"colorbar\":{\"outlinewidth\":0,\"ticks\":\"\"}}}],\"scatter3d\":[{\"type\":\"scatter3d\",\"line\":{\"colorbar\":{\"outlinewidth\":0,\"ticks\":\"\"}},\"marker\":{\"colorbar\":{\"outlinewidth\":0,\"ticks\":\"\"}}}],\"scattermapbox\":[{\"type\":\"scattermapbox\",\"marker\":{\"colorbar\":{\"outlinewidth\":0,\"ticks\":\"\"}}}],\"scatterternary\":[{\"type\":\"scatterternary\",\"marker\":{\"colorbar\":{\"outlinewidth\":0,\"ticks\":\"\"}}}],\"scattercarpet\":[{\"type\":\"scattercarpet\",\"marker\":{\"colorbar\":{\"outlinewidth\":0,\"ticks\":\"\"}}}],\"carpet\":[{\"aaxis\":{\"endlinecolor\":\"#2a3f5f\",\"gridcolor\":\"white\",\"linecolor\":\"white\",\"minorgridcolor\":\"white\",\"startlinecolor\":\"#2a3f5f\"},\"baxis\":{\"endlinecolor\":\"#2a3f5f\",\"gridcolor\":\"white\",\"linecolor\":\"white\",\"minorgridcolor\":\"white\",\"startlinecolor\":\"#2a3f5f\"},\"type\":\"carpet\"}],\"table\":[{\"cells\":{\"fill\":{\"color\":\"#EBF0F8\"},\"line\":{\"color\":\"white\"}},\"header\":{\"fill\":{\"color\":\"#C8D4E3\"},\"line\":{\"color\":\"white\"}},\"type\":\"table\"}],\"barpolar\":[{\"marker\":{\"line\":{\"color\":\"#E5ECF6\",\"width\":0.5},\"pattern\":{\"fillmode\":\"overlay\",\"size\":10,\"solidity\":0.2}},\"type\":\"barpolar\"}],\"pie\":[{\"automargin\":true,\"type\":\"pie\"}]},\"layout\":{\"autotypenumbers\":\"strict\",\"colorway\":[\"#636efa\",\"#EF553B\",\"#00cc96\",\"#ab63fa\",\"#FFA15A\",\"#19d3f3\",\"#FF6692\",\"#B6E880\",\"#FF97FF\",\"#FECB52\"],\"font\":{\"color\":\"#2a3f5f\"},\"hovermode\":\"closest\",\"hoverlabel\":{\"align\":\"left\"},\"paper_bgcolor\":\"white\",\"plot_bgcolor\":\"#E5ECF6\",\"polar\":{\"bgcolor\":\"#E5ECF6\",\"angularaxis\":{\"gridcolor\":\"white\",\"linecolor\":\"white\",\"ticks\":\"\"},\"radialaxis\":{\"gridcolor\":\"white\",\"linecolor\":\"white\",\"ticks\":\"\"}},\"ternary\":{\"bgcolor\":\"#E5ECF6\",\"aaxis\":{\"gridcolor\":\"white\",\"linecolor\":\"white\",\"ticks\":\"\"},\"baxis\":{\"gridcolor\":\"white\",\"linecolor\":\"white\",\"ticks\":\"\"},\"caxis\":{\"gridcolor\":\"white\",\"linecolor\":\"white\",\"ticks\":\"\"}},\"coloraxis\":{\"colorbar\":{\"outlinewidth\":0,\"ticks\":\"\"}},\"colorscale\":{\"sequential\":[[0.0,\"#0d0887\"],[0.1111111111111111,\"#46039f\"],[0.2222222222222222,\"#7201a8\"],[0.3333333333333333,\"#9c179e\"],[0.4444444444444444,\"#bd3786\"],[0.5555555555555556,\"#d8576b\"],[0.6666666666666666,\"#ed7953\"],[0.7777777777777778,\"#fb9f3a\"],[0.8888888888888888,\"#fdca26\"],[1.0,\"#f0f921\"]],\"sequentialminus\":[[0.0,\"#0d0887\"],[0.1111111111111111,\"#46039f\"],[0.2222222222222222,\"#7201a8\"],[0.3333333333333333,\"#9c179e\"],[0.4444444444444444,\"#bd3786\"],[0.5555555555555556,\"#d8576b\"],[0.6666666666666666,\"#ed7953\"],[0.7777777777777778,\"#fb9f3a\"],[0.8888888888888888,\"#fdca26\"],[1.0,\"#f0f921\"]],\"diverging\":[[0,\"#8e0152\"],[0.1,\"#c51b7d\"],[0.2,\"#de77ae\"],[0.3,\"#f1b6da\"],[0.4,\"#fde0ef\"],[0.5,\"#f7f7f7\"],[0.6,\"#e6f5d0\"],[0.7,\"#b8e186\"],[0.8,\"#7fbc41\"],[0.9,\"#4d9221\"],[1,\"#276419\"]]},\"xaxis\":{\"gridcolor\":\"white\",\"linecolor\":\"white\",\"ticks\":\"\",\"title\":{\"standoff\":15},\"zerolinecolor\":\"white\",\"automargin\":true,\"zerolinewidth\":2},\"yaxis\":{\"gridcolor\":\"white\",\"linecolor\":\"white\",\"ticks\":\"\",\"title\":{\"standoff\":15},\"zerolinecolor\":\"white\",\"automargin\":true,\"zerolinewidth\":2},\"scene\":{\"xaxis\":{\"backgroundcolor\":\"#E5ECF6\",\"gridcolor\":\"white\",\"linecolor\":\"white\",\"showbackground\":true,\"ticks\":\"\",\"zerolinecolor\":\"white\",\"gridwidth\":2},\"yaxis\":{\"backgroundcolor\":\"#E5ECF6\",\"gridcolor\":\"white\",\"linecolor\":\"white\",\"showbackground\":true,\"ticks\":\"\",\"zerolinecolor\":\"white\",\"gridwidth\":2},\"zaxis\":{\"backgroundcolor\":\"#E5ECF6\",\"gridcolor\":\"white\",\"linecolor\":\"white\",\"showbackground\":true,\"ticks\":\"\",\"zerolinecolor\":\"white\",\"gridwidth\":2}},\"shapedefaults\":{\"line\":{\"color\":\"#2a3f5f\"}},\"annotationdefaults\":{\"arrowcolor\":\"#2a3f5f\",\"arrowhead\":0,\"arrowwidth\":1},\"geo\":{\"bgcolor\":\"white\",\"landcolor\":\"#E5ECF6\",\"subunitcolor\":\"white\",\"showland\":true,\"showlakes\":true,\"lakecolor\":\"white\"},\"title\":{\"x\":0.05},\"mapbox\":{\"style\":\"light\"}}},\"xaxis\":{\"anchor\":\"y\",\"domain\":[0.0,0.2125],\"matches\":\"x13\",\"showticklabels\":false,\"range\":[-3.1779473020158155,0.8002806226947277],\"type\":\"log\"},\"yaxis\":{\"anchor\":\"x\",\"domain\":[0.80625,1.0],\"range\":[-3.1779473020158155,0.8002806226947277],\"type\":\"log\",\"title\":{\"text\":\"alpha\"}},\"xaxis2\":{\"anchor\":\"y2\",\"domain\":[0.2625,0.475],\"matches\":\"x14\",\"showticklabels\":false,\"range\":[-3.1250684794860333,0.7558100649155741],\"type\":\"log\"},\"yaxis2\":{\"anchor\":\"x2\",\"domain\":[0.80625,1.0],\"matches\":\"y\",\"showticklabels\":false,\"range\":[-3.1779473020158155,0.8002806226947277],\"type\":\"log\"},\"xaxis3\":{\"anchor\":\"y3\",\"domain\":[0.525,0.7375],\"matches\":\"x15\",\"showticklabels\":false,\"range\":[0.0074,0.0206]},\"yaxis3\":{\"anchor\":\"x3\",\"domain\":[0.80625,1.0],\"matches\":\"y\",\"showticklabels\":false,\"range\":[-3.1779473020158155,0.8002806226947277],\"type\":\"log\"},\"xaxis4\":{\"anchor\":\"y4\",\"domain\":[0.7875,1.0],\"matches\":\"x16\",\"showticklabels\":false,\"range\":[0.37,1.03]},\"yaxis4\":{\"anchor\":\"x4\",\"domain\":[0.80625,1.0],\"matches\":\"y\",\"showticklabels\":false,\"range\":[-3.1779473020158155,0.8002806226947277],\"type\":\"log\"},\"xaxis5\":{\"anchor\":\"y5\",\"domain\":[0.0,0.2125],\"matches\":\"x13\",\"showticklabels\":false,\"range\":[-3.1779473020158155,0.8002806226947277],\"type\":\"log\"},\"yaxis5\":{\"anchor\":\"x5\",\"domain\":[0.5375,0.73125],\"range\":[-3.1250684794860333,0.7558100649155741],\"type\":\"log\",\"title\":{\"text\":\"lambda\"}},\"xaxis6\":{\"anchor\":\"y6\",\"domain\":[0.2625,0.475],\"matches\":\"x14\",\"showticklabels\":false,\"range\":[-3.1250684794860333,0.7558100649155741],\"type\":\"log\"},\"yaxis6\":{\"anchor\":\"x6\",\"domain\":[0.5375,0.73125],\"matches\":\"y5\",\"showticklabels\":false,\"range\":[-3.1250684794860333,0.7558100649155741],\"type\":\"log\"},\"xaxis7\":{\"anchor\":\"y7\",\"domain\":[0.525,0.7375],\"matches\":\"x15\",\"showticklabels\":false,\"range\":[0.0074,0.0206]},\"yaxis7\":{\"anchor\":\"x7\",\"domain\":[0.5375,0.73125],\"matches\":\"y5\",\"showticklabels\":false,\"range\":[-3.1250684794860333,0.7558100649155741],\"type\":\"log\"},\"xaxis8\":{\"anchor\":\"y8\",\"domain\":[0.7875,1.0],\"matches\":\"x16\",\"showticklabels\":false,\"range\":[0.37,1.03]},\"yaxis8\":{\"anchor\":\"x8\",\"domain\":[0.5375,0.73125],\"matches\":\"y5\",\"showticklabels\":false,\"range\":[-3.1250684794860333,0.7558100649155741],\"type\":\"log\"},\"xaxis9\":{\"anchor\":\"y9\",\"domain\":[0.0,0.2125],\"matches\":\"x13\",\"showticklabels\":false,\"range\":[-3.1779473020158155,0.8002806226947277],\"type\":\"log\"},\"yaxis9\":{\"anchor\":\"x9\",\"domain\":[0.26875,0.4625],\"range\":[0.0074,0.0206],\"title\":{\"text\":\"learning_rate\"}},\"xaxis10\":{\"anchor\":\"y10\",\"domain\":[0.2625,0.475],\"matches\":\"x14\",\"showticklabels\":false,\"range\":[-3.1250684794860333,0.7558100649155741],\"type\":\"log\"},\"yaxis10\":{\"anchor\":\"x10\",\"domain\":[0.26875,0.4625],\"matches\":\"y9\",\"showticklabels\":false,\"range\":[0.0074,0.0206]},\"xaxis11\":{\"anchor\":\"y11\",\"domain\":[0.525,0.7375],\"matches\":\"x15\",\"showticklabels\":false,\"range\":[0.0074,0.0206]},\"yaxis11\":{\"anchor\":\"x11\",\"domain\":[0.26875,0.4625],\"matches\":\"y9\",\"showticklabels\":false,\"range\":[0.0074,0.0206]},\"xaxis12\":{\"anchor\":\"y12\",\"domain\":[0.7875,1.0],\"matches\":\"x16\",\"showticklabels\":false,\"range\":[0.37,1.03]},\"yaxis12\":{\"anchor\":\"x12\",\"domain\":[0.26875,0.4625],\"matches\":\"y9\",\"showticklabels\":false,\"range\":[0.0074,0.0206]},\"xaxis13\":{\"anchor\":\"y13\",\"domain\":[0.0,0.2125],\"range\":[-3.1779473020158155,0.8002806226947277],\"type\":\"log\",\"title\":{\"text\":\"alpha\"}},\"yaxis13\":{\"anchor\":\"x13\",\"domain\":[0.0,0.19375],\"range\":[0.37,1.03],\"title\":{\"text\":\"subsample\"}},\"xaxis14\":{\"anchor\":\"y14\",\"domain\":[0.2625,0.475],\"range\":[-3.1250684794860333,0.7558100649155741],\"type\":\"log\",\"title\":{\"text\":\"lambda\"}},\"yaxis14\":{\"anchor\":\"x14\",\"domain\":[0.0,0.19375],\"matches\":\"y13\",\"showticklabels\":false,\"range\":[0.37,1.03]},\"xaxis15\":{\"anchor\":\"y15\",\"domain\":[0.525,0.7375],\"range\":[0.0074,0.0206],\"title\":{\"text\":\"learning_rate\"}},\"yaxis15\":{\"anchor\":\"x15\",\"domain\":[0.0,0.19375],\"matches\":\"y13\",\"showticklabels\":false,\"range\":[0.37,1.03]},\"xaxis16\":{\"anchor\":\"y16\",\"domain\":[0.7875,1.0],\"range\":[0.37,1.03],\"title\":{\"text\":\"subsample\"}},\"yaxis16\":{\"anchor\":\"x16\",\"domain\":[0.0,0.19375],\"matches\":\"y13\",\"showticklabels\":false,\"range\":[0.37,1.03]},\"title\":{\"text\":\"Contour Plot\"}},                        {\"responsive\": true}                    ).then(function(){\n",
              "                            \n",
              "var gd = document.getElementById('4dfd9385-5950-4f6a-a915-c6720d48c827');\n",
              "var x = new MutationObserver(function (mutations, observer) {{\n",
              "        var display = window.getComputedStyle(gd).display;\n",
              "        if (!display || display === 'none') {{\n",
              "            console.log([gd, 'removed!']);\n",
              "            Plotly.purge(gd);\n",
              "            observer.disconnect();\n",
              "        }}\n",
              "}});\n",
              "\n",
              "// Listen for the removal of the full notebook cells\n",
              "var notebookContainer = gd.closest('#notebook-container');\n",
              "if (notebookContainer) {{\n",
              "    x.observe(notebookContainer, {childList: true});\n",
              "}}\n",
              "\n",
              "// Listen for the clearing of the current output cell\n",
              "var outputEl = gd.closest('.output');\n",
              "if (outputEl) {{\n",
              "    x.observe(outputEl, {childList: true});\n",
              "}}\n",
              "\n",
              "                        })                };                            </script>        </div>\n",
              "</body>\n",
              "</html>"
            ]
          },
          "metadata": {}
        }
      ]
    },
    {
      "cell_type": "code",
      "source": [
        "#Visualize parameter importances.\n",
        "optuna.visualization.plot_param_importances(study)"
      ],
      "metadata": {
        "colab": {
          "base_uri": "https://localhost:8080/",
          "height": 542
        },
        "id": "fTk1lgMacjhm",
        "outputId": "5a2bcbfa-97bb-47d9-d77d-d2620d8fbbfb"
      },
      "execution_count": 14,
      "outputs": [
        {
          "output_type": "display_data",
          "data": {
            "text/html": [
              "<html>\n",
              "<head><meta charset=\"utf-8\" /></head>\n",
              "<body>\n",
              "    <div>            <script src=\"https://cdnjs.cloudflare.com/ajax/libs/mathjax/2.7.5/MathJax.js?config=TeX-AMS-MML_SVG\"></script><script type=\"text/javascript\">if (window.MathJax && window.MathJax.Hub && window.MathJax.Hub.Config) {window.MathJax.Hub.Config({SVG: {font: \"STIX-Web\"}});}</script>                <script type=\"text/javascript\">window.PlotlyConfig = {MathJaxConfig: 'local'};</script>\n",
              "        <script src=\"https://cdn.plot.ly/plotly-2.18.2.min.js\"></script>                <div id=\"e16c9153-7ec0-4326-8549-2009c23196ed\" class=\"plotly-graph-div\" style=\"height:525px; width:100%;\"></div>            <script type=\"text/javascript\">                                    window.PLOTLYENV=window.PLOTLYENV || {};                                    if (document.getElementById(\"e16c9153-7ec0-4326-8549-2009c23196ed\")) {                    Plotly.newPlot(                        \"e16c9153-7ec0-4326-8549-2009c23196ed\",                        [{\"cliponaxis\":false,\"hovertemplate\":[\"random_state (CategoricalDistribution): 0.0<extra></extra>\",\"alpha (FloatDistribution): 0.0010401585225146808<extra></extra>\",\"lambda (FloatDistribution): 0.013118238841168086<extra></extra>\",\"subsample (CategoricalDistribution): 0.03408107888155491<extra></extra>\",\"learning_rate (CategoricalDistribution): 0.042661520229287875<extra></extra>\",\"colsample_bytree (CategoricalDistribution): 0.06638598809803965<extra></extra>\",\"min_child_weight (IntDistribution): 0.22372345742178623<extra></extra>\",\"max_depth (CategoricalDistribution): 0.6189895580056486<extra></extra>\"],\"marker\":{\"color\":\"rgb(66,146,198)\"},\"orientation\":\"h\",\"text\":[\"<0.01\",\"<0.01\",\"0.01\",\"0.03\",\"0.04\",\"0.07\",\"0.22\",\"0.62\"],\"textposition\":\"outside\",\"x\":[0.0,0.0010401585225146808,0.013118238841168086,0.03408107888155491,0.042661520229287875,0.06638598809803965,0.22372345742178623,0.6189895580056486],\"y\":[\"random_state\",\"alpha\",\"lambda\",\"subsample\",\"learning_rate\",\"colsample_bytree\",\"min_child_weight\",\"max_depth\"],\"type\":\"bar\"}],                        {\"showlegend\":false,\"title\":{\"text\":\"Hyperparameter Importances\"},\"xaxis\":{\"title\":{\"text\":\"Importance for Objective Value\"}},\"yaxis\":{\"title\":{\"text\":\"Hyperparameter\"}},\"template\":{\"data\":{\"histogram2dcontour\":[{\"type\":\"histogram2dcontour\",\"colorbar\":{\"outlinewidth\":0,\"ticks\":\"\"},\"colorscale\":[[0.0,\"#0d0887\"],[0.1111111111111111,\"#46039f\"],[0.2222222222222222,\"#7201a8\"],[0.3333333333333333,\"#9c179e\"],[0.4444444444444444,\"#bd3786\"],[0.5555555555555556,\"#d8576b\"],[0.6666666666666666,\"#ed7953\"],[0.7777777777777778,\"#fb9f3a\"],[0.8888888888888888,\"#fdca26\"],[1.0,\"#f0f921\"]]}],\"choropleth\":[{\"type\":\"choropleth\",\"colorbar\":{\"outlinewidth\":0,\"ticks\":\"\"}}],\"histogram2d\":[{\"type\":\"histogram2d\",\"colorbar\":{\"outlinewidth\":0,\"ticks\":\"\"},\"colorscale\":[[0.0,\"#0d0887\"],[0.1111111111111111,\"#46039f\"],[0.2222222222222222,\"#7201a8\"],[0.3333333333333333,\"#9c179e\"],[0.4444444444444444,\"#bd3786\"],[0.5555555555555556,\"#d8576b\"],[0.6666666666666666,\"#ed7953\"],[0.7777777777777778,\"#fb9f3a\"],[0.8888888888888888,\"#fdca26\"],[1.0,\"#f0f921\"]]}],\"heatmap\":[{\"type\":\"heatmap\",\"colorbar\":{\"outlinewidth\":0,\"ticks\":\"\"},\"colorscale\":[[0.0,\"#0d0887\"],[0.1111111111111111,\"#46039f\"],[0.2222222222222222,\"#7201a8\"],[0.3333333333333333,\"#9c179e\"],[0.4444444444444444,\"#bd3786\"],[0.5555555555555556,\"#d8576b\"],[0.6666666666666666,\"#ed7953\"],[0.7777777777777778,\"#fb9f3a\"],[0.8888888888888888,\"#fdca26\"],[1.0,\"#f0f921\"]]}],\"heatmapgl\":[{\"type\":\"heatmapgl\",\"colorbar\":{\"outlinewidth\":0,\"ticks\":\"\"},\"colorscale\":[[0.0,\"#0d0887\"],[0.1111111111111111,\"#46039f\"],[0.2222222222222222,\"#7201a8\"],[0.3333333333333333,\"#9c179e\"],[0.4444444444444444,\"#bd3786\"],[0.5555555555555556,\"#d8576b\"],[0.6666666666666666,\"#ed7953\"],[0.7777777777777778,\"#fb9f3a\"],[0.8888888888888888,\"#fdca26\"],[1.0,\"#f0f921\"]]}],\"contourcarpet\":[{\"type\":\"contourcarpet\",\"colorbar\":{\"outlinewidth\":0,\"ticks\":\"\"}}],\"contour\":[{\"type\":\"contour\",\"colorbar\":{\"outlinewidth\":0,\"ticks\":\"\"},\"colorscale\":[[0.0,\"#0d0887\"],[0.1111111111111111,\"#46039f\"],[0.2222222222222222,\"#7201a8\"],[0.3333333333333333,\"#9c179e\"],[0.4444444444444444,\"#bd3786\"],[0.5555555555555556,\"#d8576b\"],[0.6666666666666666,\"#ed7953\"],[0.7777777777777778,\"#fb9f3a\"],[0.8888888888888888,\"#fdca26\"],[1.0,\"#f0f921\"]]}],\"surface\":[{\"type\":\"surface\",\"colorbar\":{\"outlinewidth\":0,\"ticks\":\"\"},\"colorscale\":[[0.0,\"#0d0887\"],[0.1111111111111111,\"#46039f\"],[0.2222222222222222,\"#7201a8\"],[0.3333333333333333,\"#9c179e\"],[0.4444444444444444,\"#bd3786\"],[0.5555555555555556,\"#d8576b\"],[0.6666666666666666,\"#ed7953\"],[0.7777777777777778,\"#fb9f3a\"],[0.8888888888888888,\"#fdca26\"],[1.0,\"#f0f921\"]]}],\"mesh3d\":[{\"type\":\"mesh3d\",\"colorbar\":{\"outlinewidth\":0,\"ticks\":\"\"}}],\"scatter\":[{\"fillpattern\":{\"fillmode\":\"overlay\",\"size\":10,\"solidity\":0.2},\"type\":\"scatter\"}],\"parcoords\":[{\"type\":\"parcoords\",\"line\":{\"colorbar\":{\"outlinewidth\":0,\"ticks\":\"\"}}}],\"scatterpolargl\":[{\"type\":\"scatterpolargl\",\"marker\":{\"colorbar\":{\"outlinewidth\":0,\"ticks\":\"\"}}}],\"bar\":[{\"error_x\":{\"color\":\"#2a3f5f\"},\"error_y\":{\"color\":\"#2a3f5f\"},\"marker\":{\"line\":{\"color\":\"#E5ECF6\",\"width\":0.5},\"pattern\":{\"fillmode\":\"overlay\",\"size\":10,\"solidity\":0.2}},\"type\":\"bar\"}],\"scattergeo\":[{\"type\":\"scattergeo\",\"marker\":{\"colorbar\":{\"outlinewidth\":0,\"ticks\":\"\"}}}],\"scatterpolar\":[{\"type\":\"scatterpolar\",\"marker\":{\"colorbar\":{\"outlinewidth\":0,\"ticks\":\"\"}}}],\"histogram\":[{\"marker\":{\"pattern\":{\"fillmode\":\"overlay\",\"size\":10,\"solidity\":0.2}},\"type\":\"histogram\"}],\"scattergl\":[{\"type\":\"scattergl\",\"marker\":{\"colorbar\":{\"outlinewidth\":0,\"ticks\":\"\"}}}],\"scatter3d\":[{\"type\":\"scatter3d\",\"line\":{\"colorbar\":{\"outlinewidth\":0,\"ticks\":\"\"}},\"marker\":{\"colorbar\":{\"outlinewidth\":0,\"ticks\":\"\"}}}],\"scattermapbox\":[{\"type\":\"scattermapbox\",\"marker\":{\"colorbar\":{\"outlinewidth\":0,\"ticks\":\"\"}}}],\"scatterternary\":[{\"type\":\"scatterternary\",\"marker\":{\"colorbar\":{\"outlinewidth\":0,\"ticks\":\"\"}}}],\"scattercarpet\":[{\"type\":\"scattercarpet\",\"marker\":{\"colorbar\":{\"outlinewidth\":0,\"ticks\":\"\"}}}],\"carpet\":[{\"aaxis\":{\"endlinecolor\":\"#2a3f5f\",\"gridcolor\":\"white\",\"linecolor\":\"white\",\"minorgridcolor\":\"white\",\"startlinecolor\":\"#2a3f5f\"},\"baxis\":{\"endlinecolor\":\"#2a3f5f\",\"gridcolor\":\"white\",\"linecolor\":\"white\",\"minorgridcolor\":\"white\",\"startlinecolor\":\"#2a3f5f\"},\"type\":\"carpet\"}],\"table\":[{\"cells\":{\"fill\":{\"color\":\"#EBF0F8\"},\"line\":{\"color\":\"white\"}},\"header\":{\"fill\":{\"color\":\"#C8D4E3\"},\"line\":{\"color\":\"white\"}},\"type\":\"table\"}],\"barpolar\":[{\"marker\":{\"line\":{\"color\":\"#E5ECF6\",\"width\":0.5},\"pattern\":{\"fillmode\":\"overlay\",\"size\":10,\"solidity\":0.2}},\"type\":\"barpolar\"}],\"pie\":[{\"automargin\":true,\"type\":\"pie\"}]},\"layout\":{\"autotypenumbers\":\"strict\",\"colorway\":[\"#636efa\",\"#EF553B\",\"#00cc96\",\"#ab63fa\",\"#FFA15A\",\"#19d3f3\",\"#FF6692\",\"#B6E880\",\"#FF97FF\",\"#FECB52\"],\"font\":{\"color\":\"#2a3f5f\"},\"hovermode\":\"closest\",\"hoverlabel\":{\"align\":\"left\"},\"paper_bgcolor\":\"white\",\"plot_bgcolor\":\"#E5ECF6\",\"polar\":{\"bgcolor\":\"#E5ECF6\",\"angularaxis\":{\"gridcolor\":\"white\",\"linecolor\":\"white\",\"ticks\":\"\"},\"radialaxis\":{\"gridcolor\":\"white\",\"linecolor\":\"white\",\"ticks\":\"\"}},\"ternary\":{\"bgcolor\":\"#E5ECF6\",\"aaxis\":{\"gridcolor\":\"white\",\"linecolor\":\"white\",\"ticks\":\"\"},\"baxis\":{\"gridcolor\":\"white\",\"linecolor\":\"white\",\"ticks\":\"\"},\"caxis\":{\"gridcolor\":\"white\",\"linecolor\":\"white\",\"ticks\":\"\"}},\"coloraxis\":{\"colorbar\":{\"outlinewidth\":0,\"ticks\":\"\"}},\"colorscale\":{\"sequential\":[[0.0,\"#0d0887\"],[0.1111111111111111,\"#46039f\"],[0.2222222222222222,\"#7201a8\"],[0.3333333333333333,\"#9c179e\"],[0.4444444444444444,\"#bd3786\"],[0.5555555555555556,\"#d8576b\"],[0.6666666666666666,\"#ed7953\"],[0.7777777777777778,\"#fb9f3a\"],[0.8888888888888888,\"#fdca26\"],[1.0,\"#f0f921\"]],\"sequentialminus\":[[0.0,\"#0d0887\"],[0.1111111111111111,\"#46039f\"],[0.2222222222222222,\"#7201a8\"],[0.3333333333333333,\"#9c179e\"],[0.4444444444444444,\"#bd3786\"],[0.5555555555555556,\"#d8576b\"],[0.6666666666666666,\"#ed7953\"],[0.7777777777777778,\"#fb9f3a\"],[0.8888888888888888,\"#fdca26\"],[1.0,\"#f0f921\"]],\"diverging\":[[0,\"#8e0152\"],[0.1,\"#c51b7d\"],[0.2,\"#de77ae\"],[0.3,\"#f1b6da\"],[0.4,\"#fde0ef\"],[0.5,\"#f7f7f7\"],[0.6,\"#e6f5d0\"],[0.7,\"#b8e186\"],[0.8,\"#7fbc41\"],[0.9,\"#4d9221\"],[1,\"#276419\"]]},\"xaxis\":{\"gridcolor\":\"white\",\"linecolor\":\"white\",\"ticks\":\"\",\"title\":{\"standoff\":15},\"zerolinecolor\":\"white\",\"automargin\":true,\"zerolinewidth\":2},\"yaxis\":{\"gridcolor\":\"white\",\"linecolor\":\"white\",\"ticks\":\"\",\"title\":{\"standoff\":15},\"zerolinecolor\":\"white\",\"automargin\":true,\"zerolinewidth\":2},\"scene\":{\"xaxis\":{\"backgroundcolor\":\"#E5ECF6\",\"gridcolor\":\"white\",\"linecolor\":\"white\",\"showbackground\":true,\"ticks\":\"\",\"zerolinecolor\":\"white\",\"gridwidth\":2},\"yaxis\":{\"backgroundcolor\":\"#E5ECF6\",\"gridcolor\":\"white\",\"linecolor\":\"white\",\"showbackground\":true,\"ticks\":\"\",\"zerolinecolor\":\"white\",\"gridwidth\":2},\"zaxis\":{\"backgroundcolor\":\"#E5ECF6\",\"gridcolor\":\"white\",\"linecolor\":\"white\",\"showbackground\":true,\"ticks\":\"\",\"zerolinecolor\":\"white\",\"gridwidth\":2}},\"shapedefaults\":{\"line\":{\"color\":\"#2a3f5f\"}},\"annotationdefaults\":{\"arrowcolor\":\"#2a3f5f\",\"arrowhead\":0,\"arrowwidth\":1},\"geo\":{\"bgcolor\":\"white\",\"landcolor\":\"#E5ECF6\",\"subunitcolor\":\"white\",\"showland\":true,\"showlakes\":true,\"lakecolor\":\"white\"},\"title\":{\"x\":0.05},\"mapbox\":{\"style\":\"light\"}}}},                        {\"responsive\": true}                    ).then(function(){\n",
              "                            \n",
              "var gd = document.getElementById('e16c9153-7ec0-4326-8549-2009c23196ed');\n",
              "var x = new MutationObserver(function (mutations, observer) {{\n",
              "        var display = window.getComputedStyle(gd).display;\n",
              "        if (!display || display === 'none') {{\n",
              "            console.log([gd, 'removed!']);\n",
              "            Plotly.purge(gd);\n",
              "            observer.disconnect();\n",
              "        }}\n",
              "}});\n",
              "\n",
              "// Listen for the removal of the full notebook cells\n",
              "var notebookContainer = gd.closest('#notebook-container');\n",
              "if (notebookContainer) {{\n",
              "    x.observe(notebookContainer, {childList: true});\n",
              "}}\n",
              "\n",
              "// Listen for the clearing of the current output cell\n",
              "var outputEl = gd.closest('.output');\n",
              "if (outputEl) {{\n",
              "    x.observe(outputEl, {childList: true});\n",
              "}}\n",
              "\n",
              "                        })                };                            </script>        </div>\n",
              "</body>\n",
              "</html>"
            ]
          },
          "metadata": {}
        }
      ]
    },
    {
      "cell_type": "code",
      "source": [
        "#Visualize empirical distribution function\n",
        "optuna.visualization.plot_edf(study)"
      ],
      "metadata": {
        "colab": {
          "base_uri": "https://localhost:8080/",
          "height": 542
        },
        "id": "ILVkib7Xcp2L",
        "outputId": "50a65a8a-babf-48c1-a031-ca6828e160a3"
      },
      "execution_count": 15,
      "outputs": [
        {
          "output_type": "display_data",
          "data": {
            "text/html": [
              "<html>\n",
              "<head><meta charset=\"utf-8\" /></head>\n",
              "<body>\n",
              "    <div>            <script src=\"https://cdnjs.cloudflare.com/ajax/libs/mathjax/2.7.5/MathJax.js?config=TeX-AMS-MML_SVG\"></script><script type=\"text/javascript\">if (window.MathJax && window.MathJax.Hub && window.MathJax.Hub.Config) {window.MathJax.Hub.Config({SVG: {font: \"STIX-Web\"}});}</script>                <script type=\"text/javascript\">window.PlotlyConfig = {MathJaxConfig: 'local'};</script>\n",
              "        <script src=\"https://cdn.plot.ly/plotly-2.18.2.min.js\"></script>                <div id=\"bc5b6cf4-ba32-4e1d-b97d-6c99be972e80\" class=\"plotly-graph-div\" style=\"height:525px; width:100%;\"></div>            <script type=\"text/javascript\">                                    window.PLOTLYENV=window.PLOTLYENV || {};                                    if (document.getElementById(\"bc5b6cf4-ba32-4e1d-b97d-6c99be972e80\")) {                    Plotly.newPlot(                        \"bc5b6cf4-ba32-4e1d-b97d-6c99be972e80\",                        [{\"mode\":\"lines\",\"name\":\"no-name-3eb6f4c5-0a72-4fb2-a0b1-c29e8f63f653\",\"x\":[0.6935542829390565,0.6935781799137599,0.6936020768884633,0.6936259738631667,0.6936498708378701,0.6936737678125735,0.6936976647872769,0.6937215617619803,0.6937454587366838,0.6937693557113872,0.6937932526860906,0.693817149660794,0.6938410466354974,0.6938649436102008,0.6938888405849042,0.6939127375596076,0.693936634534311,0.6939605315090144,0.6939844284837178,0.6940083254584212,0.6940322224331246,0.694056119407828,0.6940800163825315,0.6941039133572349,0.6941278103319383,0.6941517073066417,0.6941756042813451,0.6941995012560485,0.6942233982307519,0.6942472952054553,0.6942711921801586,0.694295089154862,0.6943189861295654,0.6943428831042688,0.6943667800789722,0.6943906770536756,0.6944145740283791,0.6944384710030825,0.6944623679777859,0.6944862649524893,0.6945101619271927,0.6945340589018961,0.6945579558765995,0.6945818528513029,0.6946057498260063,0.6946296468007097,0.6946535437754131,0.6946774407501165,0.6947013377248199,0.6947252346995233,0.6947491316742268,0.6947730286489302,0.6947969256236336,0.694820822598337,0.6948447195730404,0.6948686165477438,0.6948925135224472,0.6949164104971506,0.694940307471854,0.6949642044465574,0.6949881014212608,0.6950119983959642,0.6950358953706676,0.695059792345371,0.6950836893200745,0.6951075862947779,0.6951314832694813,0.6951553802441847,0.6951792772188881,0.6952031741935915,0.6952270711682949,0.6952509681429982,0.6952748651177016,0.695298762092405,0.6953226590671084,0.6953465560418118,0.6953704530165152,0.6953943499912186,0.6954182469659221,0.6954421439406255,0.6954660409153289,0.6954899378900323,0.6955138348647357,0.6955377318394391,0.6955616288141425,0.6955855257888459,0.6956094227635493,0.6956333197382527,0.6956572167129561,0.6956811136876595,0.6957050106623629,0.6957289076370663,0.6957528046117698,0.6957767015864732,0.6958005985611766,0.69582449553588,0.6958483925105834,0.6958722894852868,0.6958961864599902,0.6959200834346936],\"y\":[0.03333333333333333,0.06666666666666667,0.13333333333333333,0.2,0.23333333333333334,0.23333333333333334,0.26666666666666666,0.26666666666666666,0.3,0.3333333333333333,0.3333333333333333,0.3333333333333333,0.4,0.43333333333333335,0.43333333333333335,0.4666666666666667,0.5,0.5,0.5,0.5,0.5,0.5666666666666667,0.5666666666666667,0.6,0.6333333333333333,0.6333333333333333,0.6333333333333333,0.6333333333333333,0.6333333333333333,0.6333333333333333,0.6333333333333333,0.6333333333333333,0.6666666666666666,0.6666666666666666,0.7,0.7,0.7,0.7,0.7,0.7333333333333333,0.7666666666666667,0.8,0.8,0.8,0.8,0.8,0.8,0.8333333333333334,0.8333333333333334,0.8333333333333334,0.8333333333333334,0.8333333333333334,0.8333333333333334,0.8333333333333334,0.8333333333333334,0.8333333333333334,0.8666666666666667,0.8666666666666667,0.8666666666666667,0.8666666666666667,0.8666666666666667,0.8666666666666667,0.8666666666666667,0.8666666666666667,0.8666666666666667,0.8666666666666667,0.8666666666666667,0.8666666666666667,0.9333333333333333,0.9333333333333333,0.9333333333333333,0.9666666666666667,0.9666666666666667,0.9666666666666667,0.9666666666666667,0.9666666666666667,0.9666666666666667,0.9666666666666667,0.9666666666666667,0.9666666666666667,0.9666666666666667,0.9666666666666667,0.9666666666666667,0.9666666666666667,0.9666666666666667,0.9666666666666667,0.9666666666666667,0.9666666666666667,0.9666666666666667,0.9666666666666667,0.9666666666666667,0.9666666666666667,0.9666666666666667,0.9666666666666667,0.9666666666666667,0.9666666666666667,0.9666666666666667,0.9666666666666667,0.9666666666666667,1.0],\"type\":\"scatter\"}],                        {\"title\":{\"text\":\"Empirical Distribution Function Plot\"},\"xaxis\":{\"title\":{\"text\":\"Objective Value\"}},\"yaxis\":{\"title\":{\"text\":\"Cumulative Probability\"},\"range\":[0,1]},\"template\":{\"data\":{\"histogram2dcontour\":[{\"type\":\"histogram2dcontour\",\"colorbar\":{\"outlinewidth\":0,\"ticks\":\"\"},\"colorscale\":[[0.0,\"#0d0887\"],[0.1111111111111111,\"#46039f\"],[0.2222222222222222,\"#7201a8\"],[0.3333333333333333,\"#9c179e\"],[0.4444444444444444,\"#bd3786\"],[0.5555555555555556,\"#d8576b\"],[0.6666666666666666,\"#ed7953\"],[0.7777777777777778,\"#fb9f3a\"],[0.8888888888888888,\"#fdca26\"],[1.0,\"#f0f921\"]]}],\"choropleth\":[{\"type\":\"choropleth\",\"colorbar\":{\"outlinewidth\":0,\"ticks\":\"\"}}],\"histogram2d\":[{\"type\":\"histogram2d\",\"colorbar\":{\"outlinewidth\":0,\"ticks\":\"\"},\"colorscale\":[[0.0,\"#0d0887\"],[0.1111111111111111,\"#46039f\"],[0.2222222222222222,\"#7201a8\"],[0.3333333333333333,\"#9c179e\"],[0.4444444444444444,\"#bd3786\"],[0.5555555555555556,\"#d8576b\"],[0.6666666666666666,\"#ed7953\"],[0.7777777777777778,\"#fb9f3a\"],[0.8888888888888888,\"#fdca26\"],[1.0,\"#f0f921\"]]}],\"heatmap\":[{\"type\":\"heatmap\",\"colorbar\":{\"outlinewidth\":0,\"ticks\":\"\"},\"colorscale\":[[0.0,\"#0d0887\"],[0.1111111111111111,\"#46039f\"],[0.2222222222222222,\"#7201a8\"],[0.3333333333333333,\"#9c179e\"],[0.4444444444444444,\"#bd3786\"],[0.5555555555555556,\"#d8576b\"],[0.6666666666666666,\"#ed7953\"],[0.7777777777777778,\"#fb9f3a\"],[0.8888888888888888,\"#fdca26\"],[1.0,\"#f0f921\"]]}],\"heatmapgl\":[{\"type\":\"heatmapgl\",\"colorbar\":{\"outlinewidth\":0,\"ticks\":\"\"},\"colorscale\":[[0.0,\"#0d0887\"],[0.1111111111111111,\"#46039f\"],[0.2222222222222222,\"#7201a8\"],[0.3333333333333333,\"#9c179e\"],[0.4444444444444444,\"#bd3786\"],[0.5555555555555556,\"#d8576b\"],[0.6666666666666666,\"#ed7953\"],[0.7777777777777778,\"#fb9f3a\"],[0.8888888888888888,\"#fdca26\"],[1.0,\"#f0f921\"]]}],\"contourcarpet\":[{\"type\":\"contourcarpet\",\"colorbar\":{\"outlinewidth\":0,\"ticks\":\"\"}}],\"contour\":[{\"type\":\"contour\",\"colorbar\":{\"outlinewidth\":0,\"ticks\":\"\"},\"colorscale\":[[0.0,\"#0d0887\"],[0.1111111111111111,\"#46039f\"],[0.2222222222222222,\"#7201a8\"],[0.3333333333333333,\"#9c179e\"],[0.4444444444444444,\"#bd3786\"],[0.5555555555555556,\"#d8576b\"],[0.6666666666666666,\"#ed7953\"],[0.7777777777777778,\"#fb9f3a\"],[0.8888888888888888,\"#fdca26\"],[1.0,\"#f0f921\"]]}],\"surface\":[{\"type\":\"surface\",\"colorbar\":{\"outlinewidth\":0,\"ticks\":\"\"},\"colorscale\":[[0.0,\"#0d0887\"],[0.1111111111111111,\"#46039f\"],[0.2222222222222222,\"#7201a8\"],[0.3333333333333333,\"#9c179e\"],[0.4444444444444444,\"#bd3786\"],[0.5555555555555556,\"#d8576b\"],[0.6666666666666666,\"#ed7953\"],[0.7777777777777778,\"#fb9f3a\"],[0.8888888888888888,\"#fdca26\"],[1.0,\"#f0f921\"]]}],\"mesh3d\":[{\"type\":\"mesh3d\",\"colorbar\":{\"outlinewidth\":0,\"ticks\":\"\"}}],\"scatter\":[{\"fillpattern\":{\"fillmode\":\"overlay\",\"size\":10,\"solidity\":0.2},\"type\":\"scatter\"}],\"parcoords\":[{\"type\":\"parcoords\",\"line\":{\"colorbar\":{\"outlinewidth\":0,\"ticks\":\"\"}}}],\"scatterpolargl\":[{\"type\":\"scatterpolargl\",\"marker\":{\"colorbar\":{\"outlinewidth\":0,\"ticks\":\"\"}}}],\"bar\":[{\"error_x\":{\"color\":\"#2a3f5f\"},\"error_y\":{\"color\":\"#2a3f5f\"},\"marker\":{\"line\":{\"color\":\"#E5ECF6\",\"width\":0.5},\"pattern\":{\"fillmode\":\"overlay\",\"size\":10,\"solidity\":0.2}},\"type\":\"bar\"}],\"scattergeo\":[{\"type\":\"scattergeo\",\"marker\":{\"colorbar\":{\"outlinewidth\":0,\"ticks\":\"\"}}}],\"scatterpolar\":[{\"type\":\"scatterpolar\",\"marker\":{\"colorbar\":{\"outlinewidth\":0,\"ticks\":\"\"}}}],\"histogram\":[{\"marker\":{\"pattern\":{\"fillmode\":\"overlay\",\"size\":10,\"solidity\":0.2}},\"type\":\"histogram\"}],\"scattergl\":[{\"type\":\"scattergl\",\"marker\":{\"colorbar\":{\"outlinewidth\":0,\"ticks\":\"\"}}}],\"scatter3d\":[{\"type\":\"scatter3d\",\"line\":{\"colorbar\":{\"outlinewidth\":0,\"ticks\":\"\"}},\"marker\":{\"colorbar\":{\"outlinewidth\":0,\"ticks\":\"\"}}}],\"scattermapbox\":[{\"type\":\"scattermapbox\",\"marker\":{\"colorbar\":{\"outlinewidth\":0,\"ticks\":\"\"}}}],\"scatterternary\":[{\"type\":\"scatterternary\",\"marker\":{\"colorbar\":{\"outlinewidth\":0,\"ticks\":\"\"}}}],\"scattercarpet\":[{\"type\":\"scattercarpet\",\"marker\":{\"colorbar\":{\"outlinewidth\":0,\"ticks\":\"\"}}}],\"carpet\":[{\"aaxis\":{\"endlinecolor\":\"#2a3f5f\",\"gridcolor\":\"white\",\"linecolor\":\"white\",\"minorgridcolor\":\"white\",\"startlinecolor\":\"#2a3f5f\"},\"baxis\":{\"endlinecolor\":\"#2a3f5f\",\"gridcolor\":\"white\",\"linecolor\":\"white\",\"minorgridcolor\":\"white\",\"startlinecolor\":\"#2a3f5f\"},\"type\":\"carpet\"}],\"table\":[{\"cells\":{\"fill\":{\"color\":\"#EBF0F8\"},\"line\":{\"color\":\"white\"}},\"header\":{\"fill\":{\"color\":\"#C8D4E3\"},\"line\":{\"color\":\"white\"}},\"type\":\"table\"}],\"barpolar\":[{\"marker\":{\"line\":{\"color\":\"#E5ECF6\",\"width\":0.5},\"pattern\":{\"fillmode\":\"overlay\",\"size\":10,\"solidity\":0.2}},\"type\":\"barpolar\"}],\"pie\":[{\"automargin\":true,\"type\":\"pie\"}]},\"layout\":{\"autotypenumbers\":\"strict\",\"colorway\":[\"#636efa\",\"#EF553B\",\"#00cc96\",\"#ab63fa\",\"#FFA15A\",\"#19d3f3\",\"#FF6692\",\"#B6E880\",\"#FF97FF\",\"#FECB52\"],\"font\":{\"color\":\"#2a3f5f\"},\"hovermode\":\"closest\",\"hoverlabel\":{\"align\":\"left\"},\"paper_bgcolor\":\"white\",\"plot_bgcolor\":\"#E5ECF6\",\"polar\":{\"bgcolor\":\"#E5ECF6\",\"angularaxis\":{\"gridcolor\":\"white\",\"linecolor\":\"white\",\"ticks\":\"\"},\"radialaxis\":{\"gridcolor\":\"white\",\"linecolor\":\"white\",\"ticks\":\"\"}},\"ternary\":{\"bgcolor\":\"#E5ECF6\",\"aaxis\":{\"gridcolor\":\"white\",\"linecolor\":\"white\",\"ticks\":\"\"},\"baxis\":{\"gridcolor\":\"white\",\"linecolor\":\"white\",\"ticks\":\"\"},\"caxis\":{\"gridcolor\":\"white\",\"linecolor\":\"white\",\"ticks\":\"\"}},\"coloraxis\":{\"colorbar\":{\"outlinewidth\":0,\"ticks\":\"\"}},\"colorscale\":{\"sequential\":[[0.0,\"#0d0887\"],[0.1111111111111111,\"#46039f\"],[0.2222222222222222,\"#7201a8\"],[0.3333333333333333,\"#9c179e\"],[0.4444444444444444,\"#bd3786\"],[0.5555555555555556,\"#d8576b\"],[0.6666666666666666,\"#ed7953\"],[0.7777777777777778,\"#fb9f3a\"],[0.8888888888888888,\"#fdca26\"],[1.0,\"#f0f921\"]],\"sequentialminus\":[[0.0,\"#0d0887\"],[0.1111111111111111,\"#46039f\"],[0.2222222222222222,\"#7201a8\"],[0.3333333333333333,\"#9c179e\"],[0.4444444444444444,\"#bd3786\"],[0.5555555555555556,\"#d8576b\"],[0.6666666666666666,\"#ed7953\"],[0.7777777777777778,\"#fb9f3a\"],[0.8888888888888888,\"#fdca26\"],[1.0,\"#f0f921\"]],\"diverging\":[[0,\"#8e0152\"],[0.1,\"#c51b7d\"],[0.2,\"#de77ae\"],[0.3,\"#f1b6da\"],[0.4,\"#fde0ef\"],[0.5,\"#f7f7f7\"],[0.6,\"#e6f5d0\"],[0.7,\"#b8e186\"],[0.8,\"#7fbc41\"],[0.9,\"#4d9221\"],[1,\"#276419\"]]},\"xaxis\":{\"gridcolor\":\"white\",\"linecolor\":\"white\",\"ticks\":\"\",\"title\":{\"standoff\":15},\"zerolinecolor\":\"white\",\"automargin\":true,\"zerolinewidth\":2},\"yaxis\":{\"gridcolor\":\"white\",\"linecolor\":\"white\",\"ticks\":\"\",\"title\":{\"standoff\":15},\"zerolinecolor\":\"white\",\"automargin\":true,\"zerolinewidth\":2},\"scene\":{\"xaxis\":{\"backgroundcolor\":\"#E5ECF6\",\"gridcolor\":\"white\",\"linecolor\":\"white\",\"showbackground\":true,\"ticks\":\"\",\"zerolinecolor\":\"white\",\"gridwidth\":2},\"yaxis\":{\"backgroundcolor\":\"#E5ECF6\",\"gridcolor\":\"white\",\"linecolor\":\"white\",\"showbackground\":true,\"ticks\":\"\",\"zerolinecolor\":\"white\",\"gridwidth\":2},\"zaxis\":{\"backgroundcolor\":\"#E5ECF6\",\"gridcolor\":\"white\",\"linecolor\":\"white\",\"showbackground\":true,\"ticks\":\"\",\"zerolinecolor\":\"white\",\"gridwidth\":2}},\"shapedefaults\":{\"line\":{\"color\":\"#2a3f5f\"}},\"annotationdefaults\":{\"arrowcolor\":\"#2a3f5f\",\"arrowhead\":0,\"arrowwidth\":1},\"geo\":{\"bgcolor\":\"white\",\"landcolor\":\"#E5ECF6\",\"subunitcolor\":\"white\",\"showland\":true,\"showlakes\":true,\"lakecolor\":\"white\"},\"title\":{\"x\":0.05},\"mapbox\":{\"style\":\"light\"}}}},                        {\"responsive\": true}                    ).then(function(){\n",
              "                            \n",
              "var gd = document.getElementById('bc5b6cf4-ba32-4e1d-b97d-6c99be972e80');\n",
              "var x = new MutationObserver(function (mutations, observer) {{\n",
              "        var display = window.getComputedStyle(gd).display;\n",
              "        if (!display || display === 'none') {{\n",
              "            console.log([gd, 'removed!']);\n",
              "            Plotly.purge(gd);\n",
              "            observer.disconnect();\n",
              "        }}\n",
              "}});\n",
              "\n",
              "// Listen for the removal of the full notebook cells\n",
              "var notebookContainer = gd.closest('#notebook-container');\n",
              "if (notebookContainer) {{\n",
              "    x.observe(notebookContainer, {childList: true});\n",
              "}}\n",
              "\n",
              "// Listen for the clearing of the current output cell\n",
              "var outputEl = gd.closest('.output');\n",
              "if (outputEl) {{\n",
              "    x.observe(outputEl, {childList: true});\n",
              "}}\n",
              "\n",
              "                        })                };                            </script>        </div>\n",
              "</body>\n",
              "</html>"
            ]
          },
          "metadata": {}
        }
      ]
    },
    {
      "cell_type": "markdown",
      "source": [
        "Use the Best Hyperparameter of Xgboost to do prediction on Test set"
      ],
      "metadata": {
        "id": "9_0rUzGjc2ac"
      }
    },
    {
      "cell_type": "code",
      "source": [
        "Best_trial = study.best_trial.params\n",
        "Best_trial[\"n_estimators\"], Best_trial[\"tree_method\"] = 10000, 'gpu_hist'\n",
        "Best_trial"
      ],
      "metadata": {
        "colab": {
          "base_uri": "https://localhost:8080/"
        },
        "id": "B0RUcl82c4lh",
        "outputId": "b522b1a6-ccf7-4a4c-cf11-e83a09759a3d"
      },
      "execution_count": 16,
      "outputs": [
        {
          "output_type": "execute_result",
          "data": {
            "text/plain": [
              "{'lambda': 0.07864582157862672,\n",
              " 'alpha': 0.004989471976219203,\n",
              " 'colsample_bytree': 0.7,\n",
              " 'subsample': 0.6,\n",
              " 'learning_rate': 0.008,\n",
              " 'max_depth': 15,\n",
              " 'random_state': 2020,\n",
              " 'min_child_weight': 145,\n",
              " 'n_estimators': 10000,\n",
              " 'tree_method': 'gpu_hist'}"
            ]
          },
          "metadata": {},
          "execution_count": 16
        }
      ]
    },
    {
      "cell_type": "code",
      "source": [
        "preds = np.zeros(test.shape[0])\n",
        "kf = KFold(n_splits=5,random_state=48,shuffle=True)\n",
        "rmse=[]  # list contains rmse for each fold\n",
        "n=0\n",
        "for trn_idx, test_idx in kf.split(train[featureNames],train['target']):\n",
        "    X_tr,X_val=train[featureNames].iloc[trn_idx],train[featureNames].iloc[test_idx]\n",
        "    y_tr,y_val=train['target'].iloc[trn_idx],train['target'].iloc[test_idx]\n",
        "    model = xgb.XGBRegressor(**Best_trial)\n",
        "    model.fit(X_tr,y_tr,eval_set=[(X_val,y_val)],early_stopping_rounds=100,verbose=False)\n",
        "    preds+=model.predict(test[featureNames])/kf.n_splits\n",
        "    rmse.append(mean_squared_error(y_val, model.predict(X_val), squared=False))\n",
        "    print(f\"fold: {n+1} ==> rmse: {rmse[n]}\")\n",
        "    n+=1"
      ],
      "metadata": {
        "id": "ctWkWX9-dPkd"
      },
      "execution_count": null,
      "outputs": []
    },
    {
      "cell_type": "code",
      "source": [
        "sub['target']=preds\n",
        "sub.to_csv('submission.csv', index=False)"
      ],
      "metadata": {
        "id": "-MLlqKrQeqBy"
      },
      "execution_count": 22,
      "outputs": []
    }
  ]
}