{
  "nbformat": 4,
  "nbformat_minor": 0,
  "metadata": {
    "colab": {
      "name": "Untitled0.ipynb",
      "provenance": [],
      "authorship_tag": "ABX9TyNPyw98XvF66TH2kmWwIQY0",
      "include_colab_link": true
    },
    "kernelspec": {
      "name": "python3",
      "display_name": "Python 3"
    },
    "language_info": {
      "name": "python"
    },
    "accelerator": "GPU"
  },
  "cells": [
    {
      "cell_type": "markdown",
      "metadata": {
        "id": "view-in-github",
        "colab_type": "text"
      },
      "source": [
        "<a href=\"https://colab.research.google.com/github/zhukuixi/Kaggle/blob/main/DownloadData.ipynb\" target=\"_parent\"><img src=\"https://colab.research.google.com/assets/colab-badge.svg\" alt=\"Open In Colab\"/></a>"
      ]
    },
    {
      "cell_type": "code",
      "metadata": {
        "id": "KPH2ddQ5QeHd"
      },
      "source": [
        ""
      ],
      "execution_count": null,
      "outputs": []
    },
    {
      "cell_type": "code",
      "metadata": {
        "id": "K5x1sm6WOVzi"
      },
      "source": [
        "import json\n",
        "token = {\"username\":\"kuixizhu\",\"key\":\"abcfcb16dcdc4c5edd854bbb966fd176\"}\n",
        "with open('/content/kaggle.json', 'w') as file:\n",
        "  json.dump(token, file)\n",
        "  "
      ],
      "execution_count": 6,
      "outputs": []
    },
    {
      "cell_type": "code",
      "metadata": {
        "id": "5miI805DXJvU",
        "outputId": "c3657829-221b-47b3-efaf-b1493f6beaba",
        "colab": {
          "base_uri": "https://localhost:8080/"
        }
      },
      "source": [
        "\n",
        "# Assign path\n",
        "!kaggle config set -n path -v /content\n",
        "# Download data\n",
        "!kaggle competitions download -c seti-breakthrough-listen"
      ],
      "execution_count": 7,
      "outputs": [
        {
          "output_type": "stream",
          "text": [
            "Traceback (most recent call last):\n",
            "  File \"/usr/local/bin/kaggle\", line 5, in <module>\n",
            "    from kaggle.cli import main\n",
            "  File \"/usr/local/lib/python2.7/dist-packages/kaggle/__init__.py\", line 23, in <module>\n",
            "    api.authenticate()\n",
            "  File \"/usr/local/lib/python2.7/dist-packages/kaggle/api/kaggle_api_extended.py\", line 146, in authenticate\n",
            "    self.config_file, self.config_dir))\n",
            "IOError: Could not find kaggle.json. Make sure it's located in /root/.kaggle. Or use the environment method.\n",
            "Traceback (most recent call last):\n",
            "  File \"/usr/local/bin/kaggle\", line 5, in <module>\n",
            "    from kaggle.cli import main\n",
            "  File \"/usr/local/lib/python2.7/dist-packages/kaggle/__init__.py\", line 23, in <module>\n",
            "    api.authenticate()\n",
            "  File \"/usr/local/lib/python2.7/dist-packages/kaggle/api/kaggle_api_extended.py\", line 146, in authenticate\n",
            "    self.config_file, self.config_dir))\n",
            "IOError: Could not find kaggle.json. Make sure it's located in /root/.kaggle. Or use the environment method.\n"
          ],
          "name": "stdout"
        }
      ]
    },
    {
      "cell_type": "code",
      "metadata": {
        "id": "IvVsqk8sQayT"
      },
      "source": [
        "!mkdir -p ~/.kaggle\n",
        "!cp /content/kaggle.json ~/.kaggle/\n",
        "!chmod 600 ~/.kaggle/kaggle.json"
      ],
      "execution_count": 8,
      "outputs": []
    },
    {
      "cell_type": "code",
      "metadata": {
        "colab": {
          "base_uri": "https://localhost:8080/"
        },
        "id": "XGmhiMc7Tm9y",
        "outputId": "4a7b4c0c-c7fa-4c1f-aece-ef98c17d3d5b"
      },
      "source": [
        "!kaggle config set -n path -v /content"
      ],
      "execution_count": 9,
      "outputs": [
        {
          "output_type": "stream",
          "text": [
            "- path is now set to: /content\n"
          ],
          "name": "stdout"
        }
      ]
    },
    {
      "cell_type": "code",
      "metadata": {
        "colab": {
          "base_uri": "https://localhost:8080/"
        },
        "id": "etLnhrRITw0K",
        "outputId": "464fe058-ae26-4705-ab93-5a699f14dfa8"
      },
      "source": [
        "!kaggle competitions download -c seti-breakthrough-listen"
      ],
      "execution_count": null,
      "outputs": [
        {
          "output_type": "stream",
          "text": [
            "Warning: Looks like you're using an outdated API Version, please consider updating (server 1.5.12 / client 1.5.4)\n",
            "Downloading b00c1938fa06.npy to /content/competitions/seti-breakthrough-listen\n",
            "  0% 0.00/819k [00:00<?, ?B/s]\n",
            "100% 819k/819k [00:00<00:00, 56.7MB/s]\n",
            "Downloading b0206a035074.npy to /content/competitions/seti-breakthrough-listen\n",
            "  0% 0.00/819k [00:00<?, ?B/s]\n",
            "100% 819k/819k [00:00<00:00, 114MB/s]\n",
            "Downloading b00076bccc42.npy to /content/competitions/seti-breakthrough-listen\n",
            "  0% 0.00/819k [00:00<?, ?B/s]\n",
            "100% 819k/819k [00:00<00:00, 117MB/s]\n",
            "Downloading b00e28bf7baf.npy to /content/competitions/seti-breakthrough-listen\n",
            "  0% 0.00/819k [00:00<?, ?B/s]\n",
            "100% 819k/819k [00:00<00:00, 115MB/s]\n",
            "Downloading b01b8e0e77fc.npy to /content/competitions/seti-breakthrough-listen\n",
            "  0% 0.00/819k [00:00<?, ?B/s]\n",
            "100% 819k/819k [00:00<00:00, 110MB/s]\n",
            "Downloading b0032120d563.npy to /content/competitions/seti-breakthrough-listen\n",
            "  0% 0.00/819k [00:00<?, ?B/s]\n",
            "100% 819k/819k [00:00<00:00, 114MB/s]\n",
            "Downloading b012e020dfb9.npy to /content/competitions/seti-breakthrough-listen\n",
            "  0% 0.00/819k [00:00<?, ?B/s]\n",
            "100% 819k/819k [00:00<00:00, 67.2MB/s]\n",
            "Downloading b01b8fdfcfc5.npy to /content/competitions/seti-breakthrough-listen\n",
            "  0% 0.00/819k [00:00<?, ?B/s]\n",
            "100% 819k/819k [00:00<00:00, 112MB/s]\n",
            "Downloading b00ea2344bcf.npy to /content/competitions/seti-breakthrough-listen\n",
            "  0% 0.00/819k [00:00<?, ?B/s]\n",
            "100% 819k/819k [00:00<00:00, 116MB/s]\n",
            "Downloading b0145f8cfd88.npy to /content/competitions/seti-breakthrough-listen\n",
            "  0% 0.00/819k [00:00<?, ?B/s]\n",
            "100% 819k/819k [00:00<00:00, 111MB/s]\n",
            "Downloading b00ac8abdc88.npy to /content/competitions/seti-breakthrough-listen\n",
            "  0% 0.00/819k [00:00<?, ?B/s]\n",
            "100% 819k/819k [00:00<00:00, 108MB/s]\n",
            "Downloading b01d4e021738.npy to /content/competitions/seti-breakthrough-listen\n",
            "  0% 0.00/819k [00:00<?, ?B/s]\n",
            "100% 819k/819k [00:00<00:00, 116MB/s]\n",
            "Downloading b00f50d05da9.npy to /content/competitions/seti-breakthrough-listen\n",
            "  0% 0.00/819k [00:00<?, ?B/s]\n",
            "100% 819k/819k [00:00<00:00, 112MB/s]\n",
            "Downloading b006f5879c7a.npy to /content/competitions/seti-breakthrough-listen\n",
            "  0% 0.00/819k [00:00<?, ?B/s]\n",
            "100% 819k/819k [00:00<00:00, 113MB/s]\n",
            "Downloading b01b5621f92a.npy to /content/competitions/seti-breakthrough-listen\n",
            "  0% 0.00/819k [00:00<?, ?B/s]\n",
            "100% 819k/819k [00:00<00:00, 114MB/s]\n"
          ],
          "name": "stdout"
        }
      ]
    }
  ]
}